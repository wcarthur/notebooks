{
 "metadata": {
  "name": "",
  "signature": ""
 },
 "nbformat": 3,
 "nbformat_minor": 0,
 "worksheets": [
  {
   "cells": [
    {
     "cell_type": "markdown",
     "metadata": {},
     "source": [
      "Matplotlib/Basemap and netcdf4-python example\n",
      "============================================="
     ]
    },
    {
     "cell_type": "markdown",
     "metadata": {},
     "source": [
      "Using [netcdf4-python](http://netcdf4-python.googlecode.com) to read some [NOMADS](http://nomads.ncep.noaa.gov/txt_descriptions/NOMADS_doc.shtml) [openDAP](http://opendap.org) ensemble forecast data, use [numpy](http://numpy.org) to do some rudimentary analysis, and have [matplotlib](http://matplotlib.org) and [Basemap](http://matplotlib.org/basemap) plot the results. "
     ]
    },
    {
     "cell_type": "code",
     "collapsed": false,
     "input": [
      "# Make the output of plotting commands be displayed inline within the notebook,\n",
      "\n",
      "from mpl_toolkits.basemap import Basemap  # import Basemap matplotlib toolkit\n",
      "import numpy as np\n",
      "import matplotlib.pyplot as plt\n",
      "from mpl_toolkits.basemap import cm as basemapcm\n",
      "from netCDF4 import Dataset  # netcdf4-python module"
     ],
     "language": "python",
     "metadata": {},
     "outputs": []
    },
    {
     "cell_type": "markdown",
     "metadata": {},
     "source": [
      "Open an a [NOMADS](http://nomads.ncep.noaa.gov/txt_descriptions/NOMADS_doc.shtml) dataset containing NOAA/NCEP global ensemble forecast output with the netcdf4-python module.  Only the last week of forecasts are kept online, so you'll probably have to change the date in this URL to make it work.  "
     ]
    },
    {
     "cell_type": "code",
     "collapsed": false,
     "input": [
      "gfs_fcst = Dataset('http://nomads.ncep.noaa.gov:80/dods/gens/gens20150105/gep_all_12z')\n",
      "#gfs_fcst = Dataset('basemap_netcdf4-python.nc') # use local netcdf file instead\n",
      "print gfs_fcst # get some summary information about the dataset"
     ],
     "language": "python",
     "metadata": {},
     "outputs": []
    },
    {
     "cell_type": "markdown",
     "metadata": {},
     "source": [
      "Get the available forecast times and convert to [datetime](http://docs.python.org/2/library/datetime.html) instances."
     ]
    },
    {
     "cell_type": "code",
     "collapsed": false,
     "input": [
      "time = gfs_fcst.variables['time']\n",
      "print time\n",
      "from netCDF4 import num2date\n",
      "valid_dates = num2date(time[:], time.units).tolist()\n",
      "print \"Valid times:\"\n",
      "print [d.strftime('%Y%m%d%H') for d in valid_dates]"
     ],
     "language": "python",
     "metadata": {},
     "outputs": []
    },
    {
     "cell_type": "markdown",
     "metadata": {},
     "source": [
      "Find the time index that is closest to the Super Bowl start time (00UTC 3 Feb) using the netcdf4-python [num2date](http://netcdf4-python.googlecode.com/svn/trunk/docs/netCDF4-module.html#num2date) function.  If you changed the URL above, you may have to change the date here so that it is in the forecast period."
     ]
    },
    {
     "cell_type": "code",
     "collapsed": false,
     "input": [
      "from datetime import datetime\n",
      "nt_superbowl = valid_dates.index(datetime(2015, 1, 9, 0, 0))\n",
      "print valid_dates[nt_superbowl]"
     ],
     "language": "python",
     "metadata": {},
     "outputs": []
    },
    {
     "cell_type": "markdown",
     "metadata": {},
     "source": [
      "Read the 2-meter temperature global ensemble forecast valid at the time, compute the ensemble mean.  Also read the latitude and longitude values for the grid (needed for plotting)."
     ]
    },
    {
     "cell_type": "code",
     "collapsed": false,
     "input": [
      "t2mens = gfs_fcst.variables['tmax2m'][:,nt_superbowl,:,:] - 273.15\n",
      "t2m = t2mens.mean(axis=0)\n",
      "print t2m.shape, t2m.min(), t2m.max()\n",
      "lats = gfs_fcst.variables['lat'][:]; lons = gfs_fcst.variables['lon'][:]\n",
      "lons, lats = np.meshgrid(lons, lats)  # make lats/lons into 2D arrays (needed for plotting)"
     ],
     "language": "python",
     "metadata": {},
     "outputs": []
    },
    {
     "cell_type": "markdown",
     "metadata": {},
     "source": [
      "Plot the ensemble mean on a stereographic basemap covering Australia."
     ]
    },
    {
     "cell_type": "code",
     "collapsed": false,
     "input": [
      "fig = plt.figure(figsize=(8,8))\n",
      "m = Basemap(projection='merc',lon_0=133,lat_0=-30,width=60,height=40,resolution='i')\n",
      "m.drawcoastlines()\n",
      "m.drawstates()\n",
      "m.drawcountries()\n",
      "x,y = m(lons, lats) # convert lats/lons to map projection coordinates\n",
      "cs = m.contourf(x,y,t2m,np.linspace(0,30,41),cmap=plt.cm.jet)  # color-filled contours\n",
      "cb = m.colorbar(cs)  # draw colorbar\n",
      "parallels = m.drawparallels(np.arange(-50,0,10),labels=[1,0,0,0])  # draw parallels, label on left\n",
      "meridians = m.drawmeridians(np.arange(100,190,10),labels=[0,0,0,1]) # label meridians on bottom\n",
      "t = plt.title('ens mean t2m fcst from %s for %s' % (valid_dates[0],valid_dates[nt_superbowl]),fontweight='bold')"
     ],
     "language": "python",
     "metadata": {},
     "outputs": []
    },
    {
     "cell_type": "markdown",
     "metadata": {},
     "source": [
      "Plot every ensemble member to get an idea of the forecast uncertainty using the matplotlib.pyplot [subplot](http://matplotlib.org/api/pyplot_api.html#matplotlib.pyplot.subplot) function."
     ]
    },
    {
     "cell_type": "code",
     "collapsed": false,
     "input": [
      "fig = plt.figure(figsize=(16,14))\n",
      "for nens in range(1,21):\n",
      "    ax = plt.subplot(4,5,nens)\n",
      "    m.drawcoastlines()\n",
      "    cs = m.contourf(x,y,t2mens[nens],np.linspace(0,30,41),cmap=plt.cm.jet)\n",
      "    t = plt.title('ens member %s' % nens)\n",
      "\n",
      "plt.tight_layout()"
     ],
     "language": "python",
     "metadata": {},
     "outputs": []
    },
    {
     "cell_type": "markdown",
     "metadata": {},
     "source": [
      "What's the probability it will be below freezing during the game?  Try changing the threshold from 273K to see what happens..."
     ]
    },
    {
     "cell_type": "code",
     "collapsed": false,
     "input": [
      "freezeprob = 100.*((t2mens > 20 ).sum(axis=0))/t2mens.shape[0]\n",
      "print freezeprob.min(), freezeprob.max(), freezeprob.shape\n",
      "m.drawcoastlines(color='r')\n",
      "from mpl_toolkits.basemap import cm as basemapcm\n",
      "cs = m.contourf(x,y,freezeprob,np.linspace(0,100.,41),cmap=basemapcm.GMT_haxby_r)\n",
      "cb = m.colorbar()\n",
      "xpt, ypt = m(-74,41)\n",
      "#nyc = m.plot([xpt],[ypt],'ro') # plot red dot near the Meadowlands.\n",
      "t = plt.title('ens prob apcpsfc > 10mm')"
     ],
     "language": "python",
     "metadata": {},
     "outputs": []
    },
    {
     "cell_type": "code",
     "collapsed": false,
     "input": [
      "freezesd = np.std(t2mens, axis=0)\n",
      "m.drawcoastlines(color='r')\n",
      "cs = m.contourf(x,y,freezesd,np.linspace(0,10.,41),cmap=basemapcm.GMT_haxby_r)\n",
      "cb = m.colorbar()\n",
      "xpt, ypt = m(-74,41)\n",
      "#nyc = m.plot([xpt],[ypt],'ro') # plot red dot near the Meadowlands.\n",
      "t = plt.title('Ensemble S.D.')"
     ],
     "language": "python",
     "metadata": {},
     "outputs": []
    },
    {
     "cell_type": "code",
     "collapsed": false,
     "input": [],
     "language": "python",
     "metadata": {},
     "outputs": []
    },
    {
     "cell_type": "code",
     "collapsed": false,
     "input": [],
     "language": "python",
     "metadata": {},
     "outputs": []
    }
   ],
   "metadata": {}
  }
 ]
}
