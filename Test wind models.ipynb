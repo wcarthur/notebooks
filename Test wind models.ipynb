{
 "cells": [
  {
   "cell_type": "code",
   "execution_count": 1,
   "metadata": {
    "collapsed": false
   },
   "outputs": [],
   "source": [
    "%matplotlib inline\n",
    "import matplotlib.pyplot as plt\n",
    "from matplotlib import cm as cmap\n",
    "import numpy as np\n",
    "\n",
    "from wind import windmodels\n",
    "from Utilities import metutils\n",
    "from Utilities.maputils import bearing2theta, makeGrid, meshLatLon, gridLatLonDist\n",
    "\n",
    "import seaborn as sns\n",
    "sns.set_style('ticks', {'image.cmap':'coolwarm'})\n",
    "sns.set_context('poster')\n"
   ]
  },
  {
   "cell_type": "code",
   "execution_count": 2,
   "metadata": {
    "collapsed": true
   },
   "outputs": [],
   "source": [
    "def polarGridAroundEye(lon, lat, margin=3, resolution=0.01):\n",
    "    R, theta = makeGrid(lon, lat, margin, resolution)\n",
    "    return R, theta\n",
    "\n",
    "def meshGrid(lon, lat, margin=3, resolution=0.01):\n",
    "    xgrid, ygrid = meshLatLon(lon, lat, margin, resolution)\n",
    "    return xgrid, ygrid"
   ]
  },
  {
   "cell_type": "code",
   "execution_count": 3,
   "metadata": {
    "collapsed": true
   },
   "outputs": [],
   "source": [
    "def plotWindfield(lon, lat, Ux, Vy):\n",
    "    xgrid, ygrid = meshGrid(lon, lat)\n",
    "    #xkm, ykm = gridLatLonDist(lon, lat, xgrid[:,0], ygrid[0,:])\n",
    "    \n",
    "    #cx = rMax*np.sin(np.arange(0.00,6.29,0.01))  # Circle for rmw plots.\n",
    "    #cy = rMax*np.cos(np.arange(0.00,6.29,0.01))\n",
    "    \n",
    "    xlims=[lon-2, lon+2]\n",
    "    ylims=[lat-2, lat+2]\n",
    "    xkmlims = [-150, 150]\n",
    "    ykmlims = [-150, 150]\n",
    "    fig, axes = plt.subplots(1, 2,subplot_kw={'aspect':'equal'}, figsize=(16, 8))\n",
    "    ax = axes.flatten()\n",
    "    ax[0].hold(True)\n",
    "    #set(plt.gca(),'DataAspectRatio',[1,1,1])\n",
    "    ax[0].set_xlim(xlims)\n",
    "    ax[0].set_ylim(ylims)\n",
    "    levels = np.arange(-20, 21, 2)\n",
    "    cm = ax[0].contourf(xgrid, ygrid, np.sqrt(Ux*Ux+Vy*Vy), np.arange(0., 101, 5))\n",
    "    cs = ax[0].contour(xgrid, ygrid, np.sqrt(Ux*Ux+Vy*Vy), np.arange(0, 101, 5), colors='k')\n",
    "    ax[0].clabel(cs, fontsize='x-small', fmt='%1.2f') #, range(-20,11,4))\n",
    "    plt.colorbar(cm, ax=ax[0], orientation='horizontal')\n",
    "    #ax[2].plot(cx,cy,'w')    \n",
    "    ax[1].hold(True)\n",
    "    ax[1].set_xlim(xlims)\n",
    "    ax[1].set_ylim(ylims)\n",
    "    levels = np.arange(-20, 21, 2)\n",
    "    cm = ax[1].contourf(xgrid, ygrid, np.sqrt(Ux*Ux+Vy*Vy), np.arange(0., 101, 5))\n",
    "    ax[1].streamplot(xgrid, ygrid, Ux, Vy, density=3, color='k', linewidth=1)\n",
    "    plt.colorbar(cm, ax=ax[1], orientation='horizontal')\n",
    "    fig.tight_layout()\n"
   ]
  },
  {
   "cell_type": "code",
   "execution_count": 4,
   "metadata": {
    "collapsed": true
   },
   "outputs": [],
   "source": [
    "x = np.arange(-150e3, 151e3, 2.5e3)\n",
    "y = np.arange(-150e3, 151e3, 2.5e3)"
   ]
  },
  {
   "cell_type": "code",
   "execution_count": 5,
   "metadata": {
    "collapsed": true
   },
   "outputs": [],
   "source": [
    "lat = -19.5\n",
    "lon = 120.\n",
    "rm = 39000\n",
    "vm = 65.\n",
    "b = 2.2\n",
    "dp = 10000.\n",
    "pe = 99700.\n",
    "rho = 1.15\n",
    "vFm = 5.\n",
    "thetaFm = 135.\n",
    "\n",
    "#thetaFm = (90 - thetaFm)\n",
    "thetaMax = 70.\n",
    "pc = pe - dp"
   ]
  },
  {
   "cell_type": "code",
   "execution_count": 6,
   "metadata": {
    "collapsed": false
   },
   "outputs": [],
   "source": [
    "f = 2*7.292e-5*np.sin(lat*np.pi/180.0)  # Coriolis parameter\n"
   ]
  },
  {
   "cell_type": "code",
   "execution_count": 7,
   "metadata": {
    "collapsed": false
   },
   "outputs": [],
   "source": [
    "profileType = 'jelesnianski'\n",
    "windFieldType = 'kepert'\n",
    "cls = windmodels.profile(profileType)\n",
    "profile = cls(lat, lon, pe, pc, rm)\n",
    "R, theta = polarGridAroundEye(lon, lat)\n",
    "\n",
    "cls = windmodels.field(windFieldType)\n",
    "windfield = cls(profile)\n",
    "    \n",
    "Ux, Vy = windfield.field(R * 1000, theta, vFm, thetaFm, thetaMax)\n",
    "plotWindfield(lon, lat, Ux, Vy)"
   ]
  },
  {
   "cell_type": "code",
   "execution_count": 8,
   "metadata": {
    "collapsed": false
   },
   "outputs": [],
   "source": [
    "profileType = 'jelesnianski'\n",
    "windFieldType = 'hubbert'\n",
    "cls = windmodels.profile(profileType)\n",
    "profile = cls(lat, lon, pe, pc, rm)\n",
    "R, theta = polarGridAroundEye(lon, lat)\n",
    "\n",
    "cls = windmodels.field(windFieldType)\n",
    "windfield = cls(profile)\n",
    "    \n",
    "Ux, Vy = windfield.field(R * 1000, theta, vFm, thetaFm, thetaMax)\n",
    "plotWindfield(lon, lat, Ux, Vy)"
   ]
  },
  {
   "cell_type": "code",
   "execution_count": 9,
   "metadata": {
    "collapsed": false
   },
   "outputs": [],
   "source": [
    "profileType = 'jelesnianski'\n",
    "windFieldType = 'mcconochie'\n",
    "cls = windmodels.profile(profileType)\n",
    "profile = cls(lat, lon, pe, pc, rm)\n",
    "R, theta = polarGridAroundEye(lon, lat)\n",
    "\n",
    "cls = windmodels.field(windFieldType)\n",
    "windfield = cls(profile)\n",
    "    \n",
    "Ux, Vy = windfield.field(R * 1000, theta, vFm, thetaFm, thetaMax)\n",
    "plotWindfield(lon, lat, Ux, Vy)"
   ]
  },
  {
   "cell_type": "code",
   "execution_count": 10,
   "metadata": {
    "collapsed": false
   },
   "outputs": [],
   "source": [
    "profileType = 'willoughby'\n",
    "windFieldType = 'kepert'\n",
    "cls = windmodels.profile(profileType)\n",
    "profile = cls(lat, lon, pe, pc, rm)\n",
    "R, theta = polarGridAroundEye(lon, lat)\n",
    "\n",
    "cls = windmodels.field(windFieldType)\n",
    "windfield = cls(profile)\n",
    "    \n",
    "Ux, Vy = windfield.field(R * 1000, theta, vFm, thetaFm, thetaMax)\n",
    "plotWindfield(lon, lat, Ux, Vy)"
   ]
  },
  {
   "cell_type": "code",
   "execution_count": 11,
   "metadata": {
    "collapsed": false
   },
   "outputs": [],
   "source": [
    "profileType = 'willoughby'\n",
    "windFieldType = 'hubbert'\n",
    "cls = windmodels.profile(profileType)\n",
    "profile = cls(lat, lon, pe, pc, rm)\n",
    "R, theta = polarGridAroundEye(lon, lat)\n",
    "\n",
    "cls = windmodels.field(windFieldType)\n",
    "windfield = cls(profile)\n",
    "    \n",
    "Ux, Vy = windfield.field(R * 1000, theta, vFm, thetaFm, thetaMax)\n",
    "plotWindfield(lon, lat, Ux, Vy)"
   ]
  },
  {
   "cell_type": "code",
   "execution_count": 12,
   "metadata": {
    "collapsed": false
   },
   "outputs": [],
   "source": [
    "profileType = 'willoughby'\n",
    "windFieldType = 'mcconochie'\n",
    "cls = windmodels.profile(profileType)\n",
    "profile = cls(lat, lon, pe, pc, rm)\n",
    "R, theta = polarGridAroundEye(lon, lat)\n",
    "\n",
    "cls = windmodels.field(windFieldType)\n",
    "windfield = cls(profile)\n",
    "    \n",
    "Ux, Vy = windfield.field(R * 1000, theta, vFm, thetaFm, thetaMax)\n",
    "plotWindfield(lon, lat, Ux, Vy)"
   ]
  },
  {
   "cell_type": "code",
   "execution_count": 13,
   "metadata": {
    "collapsed": false
   },
   "outputs": [],
   "source": [
    "profileType = 'schloemer'\n",
    "windFieldType = 'kepert'\n",
    "cls = windmodels.profile(profileType)\n",
    "profile = cls(lat, lon, pe, pc, rm)\n",
    "R, theta = polarGridAroundEye(lon, lat)\n",
    "\n",
    "cls = windmodels.field(windFieldType)\n",
    "windfield = cls(profile)\n",
    "    \n",
    "Ux, Vy = windfield.field(R * 1000, theta, vFm, thetaFm, thetaMax)\n",
    "plotWindfield(lon, lat, Ux, Vy)"
   ]
  },
  {
   "cell_type": "code",
   "execution_count": 14,
   "metadata": {
    "collapsed": false
   },
   "outputs": [],
   "source": [
    "profileType = 'schloemer'\n",
    "windFieldType = 'hubbert'\n",
    "cls = windmodels.profile(profileType)\n",
    "profile = cls(lat, lon, pe, pc, rm)\n",
    "R, theta = polarGridAroundEye(lon, lat)\n",
    "\n",
    "cls = windmodels.field(windFieldType)\n",
    "windfield = cls(profile)\n",
    "    \n",
    "Ux, Vy = windfield.field(R * 1000, theta, vFm, thetaFm, thetaMax)\n",
    "plotWindfield(lon, lat, Ux, Vy)"
   ]
  },
  {
   "cell_type": "code",
   "execution_count": 15,
   "metadata": {
    "collapsed": false
   },
   "outputs": [],
   "source": [
    "profileType = 'schloemer'\n",
    "windFieldType = 'mcconochie'\n",
    "cls = windmodels.profile(profileType)\n",
    "profile = cls(lat, lon, pe, pc, rm)\n",
    "R, theta = polarGridAroundEye(lon, lat)\n",
    "\n",
    "cls = windmodels.field(windFieldType)\n",
    "windfield = cls(profile)\n",
    "    \n",
    "Ux, Vy = windfield.field(R * 1000, theta, vFm, thetaFm, thetaMax)\n",
    "plotWindfield(lon, lat, Ux, Vy)"
   ]
  },
  {
   "cell_type": "code",
   "execution_count": 16,
   "metadata": {
    "collapsed": false
   },
   "outputs": [],
   "source": [
    "profileType = 'powell'\n",
    "windFieldType = 'kepert'\n",
    "cls = windmodels.profile(profileType)\n",
    "profile = cls(lat, lon, pe, pc, rm)\n",
    "R, theta = polarGridAroundEye(lon, lat)\n",
    "\n",
    "cls = windmodels.field(windFieldType)\n",
    "windfield = cls(profile)\n",
    "    \n",
    "Ux, Vy = windfield.field(R * 1000, theta, vFm, thetaFm, thetaMax)\n",
    "plotWindfield(lon, lat, Ux, Vy)"
   ]
  },
  {
   "cell_type": "code",
   "execution_count": 17,
   "metadata": {
    "collapsed": false
   },
   "outputs": [],
   "source": [
    "profileType = 'powell'\n",
    "windFieldType = 'hubbert'\n",
    "cls = windmodels.profile(profileType)\n",
    "profile = cls(lat, lon, pe, pc, rm)\n",
    "R, theta = polarGridAroundEye(lon, lat)\n",
    "\n",
    "cls = windmodels.field(windFieldType)\n",
    "windfield = cls(profile)\n",
    "    \n",
    "Ux, Vy = windfield.field(R * 1000, theta, vFm, thetaFm, thetaMax)\n",
    "plotWindfield(lon, lat, Ux, Vy)"
   ]
  },
  {
   "cell_type": "code",
   "execution_count": 18,
   "metadata": {
    "collapsed": false
   },
   "outputs": [],
   "source": [
    "profileType = 'powell'\n",
    "windFieldType = 'mcconochie'\n",
    "cls = windmodels.profile(profileType)\n",
    "profile = cls(lat, lon, pe, pc, rm)\n",
    "R, theta = polarGridAroundEye(lon, lat)\n",
    "\n",
    "cls = windmodels.field(windFieldType)\n",
    "windfield = cls(profile)\n",
    "    \n",
    "Ux, Vy = windfield.field(R * 1000, theta, vFm, thetaFm, thetaMax)\n",
    "plotWindfield(lon, lat, Ux, Vy)"
   ]
  },
  {
   "cell_type": "code",
   "execution_count": 19,
   "metadata": {
    "collapsed": false
   },
   "outputs": [],
   "source": [
    "profileType = 'rankine'\n",
    "windFieldType = 'kepert'\n",
    "cls = windmodels.profile(profileType)\n",
    "profile = cls(lat, lon, pe, pc, rm)\n",
    "R, theta = polarGridAroundEye(lon, lat)\n",
    "\n",
    "cls = windmodels.field(windFieldType)\n",
    "windfield = cls(profile)\n",
    "    \n",
    "Ux, Vy = windfield.field(R * 1000, theta, vFm, thetaFm, thetaMax)\n",
    "plotWindfield(lon, lat, Ux, Vy)"
   ]
  },
  {
   "cell_type": "code",
   "execution_count": 20,
   "metadata": {
    "collapsed": false
   },
   "outputs": [],
   "source": [
    "profileType = 'rankine'\n",
    "windFieldType = 'hubbert'\n",
    "cls = windmodels.profile(profileType)\n",
    "profile = cls(lat, lon, pe, pc, rm)\n",
    "R, theta = polarGridAroundEye(lon, lat)\n",
    "\n",
    "cls = windmodels.field(windFieldType)\n",
    "windfield = cls(profile)\n",
    "    \n",
    "Ux, Vy = windfield.field(R * 1000, theta, vFm, thetaFm, thetaMax)\n",
    "plotWindfield(lon, lat, Ux, Vy)"
   ]
  },
  {
   "cell_type": "code",
   "execution_count": 21,
   "metadata": {
    "collapsed": false
   },
   "outputs": [],
   "source": [
    "profileType = 'rankine'\n",
    "windFieldType = 'mcconochie'\n",
    "cls = windmodels.profile(profileType)\n",
    "profile = cls(lat, lon, pe, pc, rm)\n",
    "R, theta = polarGridAroundEye(lon, lat)\n",
    "\n",
    "cls = windmodels.field(windFieldType)\n",
    "windfield = cls(profile)\n",
    "    \n",
    "Ux, Vy = windfield.field(R * 1000, theta, vFm, thetaFm, thetaMax)\n",
    "plotWindfield(lon, lat, Ux, Vy)"
   ]
  },
  {
   "cell_type": "code",
   "execution_count": 22,
   "metadata": {
    "collapsed": false
   },
   "outputs": [],
   "source": [
    "profileType = 'holland'\n",
    "windFieldType = 'kepert'\n",
    "cls = windmodels.profile(profileType)\n",
    "profile = cls(lat, lon, pe, pc, rm, 1.3)\n",
    "R, theta = polarGridAroundEye(lon, lat)\n",
    "\n",
    "cls = windmodels.field(windFieldType)\n",
    "windfield = cls(profile)\n",
    "    \n",
    "Ux, Vy = windfield.field(R * 1000, theta, vFm, thetaFm, thetaMax)\n",
    "plotWindfield(lon, lat, Ux, Vy)"
   ]
  },
  {
   "cell_type": "code",
   "execution_count": 23,
   "metadata": {
    "collapsed": false
   },
   "outputs": [],
   "source": [
    "profileType = 'holland'\n",
    "windFieldType = 'hubbert'\n",
    "cls = windmodels.profile(profileType)\n",
    "profile = cls(lat, lon, pe, pc, rm, 1.3)\n",
    "R, theta = polarGridAroundEye(lon, lat)\n",
    "\n",
    "cls = windmodels.field(windFieldType)\n",
    "windfield = cls(profile)\n",
    "    \n",
    "Ux, Vy = windfield.field(R * 1000, theta, vFm, thetaFm, thetaMax)\n",
    "plotWindfield(lon, lat, Ux, Vy)"
   ]
  },
  {
   "cell_type": "code",
   "execution_count": 24,
   "metadata": {
    "collapsed": false
   },
   "outputs": [],
   "source": [
    "profileType = 'holland'\n",
    "windFieldType = 'mcconochie'\n",
    "cls = windmodels.profile(profileType)\n",
    "profile = cls(lat, lon, pe, pc, rm, 1.3)\n",
    "R, theta = polarGridAroundEye(lon, lat)\n",
    "\n",
    "cls = windmodels.field(windFieldType)\n",
    "windfield = cls(profile)\n",
    "    \n",
    "Ux, Vy = windfield.field(R * 1000, theta, vFm, thetaFm, thetaMax)\n",
    "plotWindfield(lon, lat, Ux, Vy)"
   ]
  },
  {
   "cell_type": "code",
   "execution_count": 25,
   "metadata": {
    "collapsed": false
   },
   "outputs": [],
   "source": [
    "profileType = 'doubleholland'\n",
    "windFieldType = 'kepert'\n",
    "cls = windmodels.profile(profileType)\n",
    "profile = cls(lat, lon, pe, pc, rm, 1.3, 1.2)\n",
    "R, theta = polarGridAroundEye(lon, lat)\n",
    "\n",
    "cls = windmodels.field(windFieldType)\n",
    "windfield = cls(profile)\n",
    "    \n",
    "Ux, Vy = windfield.field(R * 1000, theta, vFm, thetaFm, thetaMax)\n",
    "plotWindfield(lon, lat, Ux, Vy)"
   ]
  },
  {
   "cell_type": "code",
   "execution_count": 26,
   "metadata": {
    "collapsed": false
   },
   "outputs": [],
   "source": [
    "profileType = 'doubleholland'\n",
    "windFieldType = 'hubbert'\n",
    "cls = windmodels.profile(profileType)\n",
    "profile = cls(lat, lon, pe, pc, rm, 1.3, 1.2)\n",
    "R, theta = polarGridAroundEye(lon, lat)\n",
    "\n",
    "cls = windmodels.field(windFieldType)\n",
    "windfield = cls(profile)\n",
    "    \n",
    "Ux, Vy = windfield.field(R * 1000, theta, vFm, thetaFm, thetaMax)\n",
    "plotWindfield(lon, lat, Ux, Vy)"
   ]
  },
  {
   "cell_type": "code",
   "execution_count": 27,
   "metadata": {
    "collapsed": false
   },
   "outputs": [],
   "source": [
    "profileType = 'doubleholland'\n",
    "windFieldType = 'mcconochie'\n",
    "cls = windmodels.profile(profileType)\n",
    "profile = cls(lat, lon, pe, pc, rm, 1.3, 1.2)\n",
    "R, theta = polarGridAroundEye(lon, lat)\n",
    "\n",
    "cls = windmodels.field(windFieldType)\n",
    "windfield = cls(profile)\n",
    "    \n",
    "Ux, Vy = windfield.field(R * 1000, theta, vFm, thetaFm, thetaMax)\n",
    "plotWindfield(lon, lat, Ux, Vy)"
   ]
  },
  {
   "cell_type": "code",
   "execution_count": 28,
   "metadata": {
    "collapsed": false
   },
   "outputs": [],
   "source": [
    "profileType = 'newholland'\n",
    "windFieldType = 'kepert'\n",
    "cls = windmodels.profile(profileType)\n",
    "profile = cls(lat, lon, pe, pc, rm)\n",
    "R, theta = polarGridAroundEye(lon, lat)\n",
    "\n",
    "cls = windmodels.field(windFieldType)\n",
    "windfield = cls(profile)\n",
    "    \n",
    "Ux, Vy = windfield.field(R * 1000, theta, vFm, thetaFm, thetaMax)\n",
    "plotWindfield(lon, lat, Ux, Vy)"
   ]
  },
  {
   "cell_type": "code",
   "execution_count": null,
   "metadata": {
    "collapsed": true
   },
   "outputs": [],
   "source": []
  }
 ],
 "metadata": {
  "kernelspec": {
   "display_name": "Python 2",
   "language": "python",
   "name": "python2"
  },
  "language_info": {
   "codemirror_mode": {
    "name": "ipython",
    "version": 2
   },
   "file_extension": ".py",
   "mimetype": "text/x-python",
   "name": "python",
   "nbconvert_exporter": "python",
   "pygments_lexer": "ipython2",
   "version": "2.7.3"
  }
 },
 "nbformat": 4,
 "nbformat_minor": 0
}
