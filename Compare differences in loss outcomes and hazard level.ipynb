{
 "cells": [
  {
   "cell_type": "code",
   "execution_count": 1,
   "metadata": {
    "collapsed": false
   },
   "outputs": [],
   "source": [
    "%matplotlib inline\n",
    "from __future__ import print_function, division\n",
    "\n",
    "import re\n",
    "import pandas as pd\n",
    "import numpy as np\n",
    "import seaborn as sns\n",
    "import matplotlib.pyplot as plt\n",
    "import scipy.stats as stats\n",
    "from os.path import join as pjoin\n",
    "sns.set_style('darkgrid')\n",
    "\n",
    "datapath = \"C:/WorkSpace/data/Derived/impact/iag/\"\n",
    "filename = \"cairns_impact_classified_local_iag.csv\"\n",
    "df1 = pd.read_csv(pjoin(datapath, filename), header=0)\n",
    "\n",
    "filename = \"cairns_impact_classified_region_iag.csv\"\n",
    "df2 = pd.read_csv(pjoin(datapath, filename), header=0)\n",
    "\n",
    "\n",
    "datapath = \"C:/WorkSpace/data/Derived/impact/cairns/bysuburb\"\n",
    "filename = \"cairns_impact_classified_local.csv\"\n",
    "df3 = pd.read_csv(pjoin(datapath, filename), header=0)\n",
    "\n",
    "filename = \"cairns_impact_classified_local_shield.csv\"\n",
    "df4 = pd.read_csv(pjoin(datapath, filename), header=0)\n",
    "\n",
    "def plotField(dataframe, field, ax, color, title, xlims=(0,1)):\n",
    "    sns.distplot(dataframe[field], ax=ax, color=color)\n",
    "    ax.axvline(np.mean(dataframe[field]), color=color, linestyle='--', linewidth=1)\n",
    "    ylims=ax.get_ylim()\n",
    "    ax.text(np.mean(dataframe[field])+0.05, ylims[1]-.05, np.mean(dataframe[field]))\n",
    "    ax.set_xlim(xlims)\n",
    "    ax.set_title(title)"
   ]
  },
  {
   "cell_type": "code",
   "execution_count": 11,
   "metadata": {
    "collapsed": false,
    "scrolled": false
   },
   "outputs": [],
   "source": [
    "fig, axes = plt.subplots(2,2,figsize=(12,12), sharex=True, sharey=True)\n",
    "field = '0.2s gust at 10m height m/s'\n",
    "\n",
    "plotField(df1, field, axes[0,0], 'r', \"IAG vulnerability, local wind\", xlims=(0,90))\n",
    "plotField(df2, field, axes[0,1], 'b', \"IAG vulnerability, regional wind\", xlims=(0,90))\n",
    "plotField(df3, field, axes[1,0], 'g', \"GA vulnerability, local wind\", xlims=(0,90))\n",
    "plotField(df4, field, axes[1,1], 'k', \"GA vulnerability, modified local wind\", xlims=(0,90))\n"
   ]
  },
  {
   "cell_type": "code",
   "execution_count": 14,
   "metadata": {
    "collapsed": false
   },
   "outputs": [],
   "source": [
    "fig, axes = plt.subplots(2,2,figsize=(12,12), sharex=True, sharey=True)\n",
    "field = \"structural_loss_ratio\"\n",
    "\n",
    "#def plotField(dataframe, field, ax, color, title, xlims=(0,1)):\n",
    "#    sns.distplot(dataframe[field], ax=ax, color=color)\n",
    "#    ax.axvline(np.mean(dataframe[field]), color=color, linestyle='--', linewidth=1)\n",
    "#    ylims=ax.get_ylim()\n",
    "#    ax.text(np.mean(dataframe[field])+0.05, ylims[1]-.05, np.mean(dataframe[field]))\n",
    "#    ax.set_xlim(xlims)\n",
    "#    ax.set_title(title)\n",
    "\n",
    "plotField(df1, field, axes[0,0], 'r', \"IAG vulnerability, local wind\")\n",
    "plotField(df2, field, axes[0,1], 'b', \"IAG vulnerability, regional wind\")\n",
    "plotField(df3, field, axes[1,0], 'g', \"GA vulnerability, local wind\")\n",
    "plotField(df4, field, axes[1,1], 'k', \"GA vulnerability, modified local wind\")\n"
   ]
  },
  {
   "cell_type": "code",
   "execution_count": 15,
   "metadata": {
    "collapsed": false
   },
   "outputs": [],
   "source": [
    "fig, axes = plt.subplots(2,2,figsize=(12,12), sharex=True, sharey=True)\n",
    "field = \"structural_loss_ratio\"\n",
    "sns.regplot('0.2s gust at 10m height m/s', field, df1, ax=axes[0,0], color='r', fit_reg=False)\n",
    "sns.regplot('0.2s gust at 10m height m/s', field, df2, ax=axes[0,1], color='b', fit_reg=False)\n",
    "sns.regplot('0.2s gust at 10m height m/s', field, df3, ax=axes[1,0], color='g', fit_reg=False)\n",
    "sns.regplot('0.2s gust at 10m height m/s', field, df4, ax=axes[1,1], color='k', fit_reg=False)\n",
    "axes[0,0].set_title(\"IAG vulnerability, local wind\")\n",
    "axes[0,1].set_title(\"IAG vulnerability, regional wind\")\n",
    "axes[1,0].set_title(\"GA vulnerability, local wind\")\n",
    "axes[1,1].set_title(\"GA vulnerability, modified local wind\")\n",
    "\n",
    "axes[0,0].axhline(np.mean(df1[\"structural_loss_ratio\"]),c='r', linestyle='--')\n",
    "axes[0,1].axhline(np.mean(df2[\"structural_loss_ratio\"]),c='b', linestyle='--')\n",
    "axes[1,0].axhline(np.mean(df3[\"structural_loss_ratio\"]),c='g', linestyle='--')\n",
    "axes[1,1].axhline(np.mean(df4[\"structural_loss_ratio\"]),c='k', linestyle='--')"
   ]
  },
  {
   "cell_type": "code",
   "execution_count": 16,
   "metadata": {
    "collapsed": false
   },
   "outputs": [],
   "source": [
    "sns.regplot(df4[field], df2[field], scatter_kws=dict(c=df3['0.2s gust at 10m height m/s'], cmap='jet'))\n",
    "plt.xlabel(\"GA loss ratio\")\n",
    "plt.ylabel(\"IAG loss ratio\")\n",
    "print(stats.spearmanr(df4[field], df2[field]))"
   ]
  },
  {
   "cell_type": "code",
   "execution_count": 17,
   "metadata": {
    "collapsed": false
   },
   "outputs": [],
   "source": [
    "field='structural_loss_ratio'\n",
    "sns.regplot(df4[field], df2[field], scatter_kws=dict(c=df3['0.2s gust at 10m height m/s'], cmap='jet'))\n",
    "plt.xlabel(\"GA loss ratio\")\n",
    "plt.ylabel(\"IAG loss ratio\")\n",
    "plt.xlim((0,1))\n",
    "plt.ylim((0,1))\n",
    "print(stats.spearmanr(df4[field], df2[field]))\n",
    "print(stats.linregress(df4[field], df2[field]))"
   ]
  },
  {
   "cell_type": "code",
   "execution_count": 27,
   "metadata": {
    "collapsed": false
   },
   "outputs": [],
   "source": [
    "field='0.2s gust at 10m height m/s'\n",
    "sns.regplot(df4[field], df2[field], \n",
    "            scatter_kws=dict(c=df3['M4'], cmap='jet'))\n",
    "plt.ylabel(\"Regional wind speed\")\n",
    "plt.xlabel(\"Local wind speed\")\n",
    "plt.plot(np.arange(20,90), np.arange(20, 90), color='k', linestyle='--')\n",
    "print(stats.spearmanr(df2[field], df4[field]))"
   ]
  },
  {
   "cell_type": "code",
   "execution_count": 18,
   "metadata": {
    "collapsed": false
   },
   "outputs": [],
   "source": [
    "field='0.2s gust at 10m height m/s'\n",
    "sns.distplot(df2[field] - df4[field])"
   ]
  },
  {
   "cell_type": "code",
   "execution_count": 19,
   "metadata": {
    "collapsed": false
   },
   "outputs": [],
   "source": [
    "deltadf = df1[['LID', 'SUBURB_2015', 'M4', 'YEAR_BUILT']]\n",
    "deltadf['delta'] = df2[field] - df4[field]\n",
    "deltadf"
   ]
  },
  {
   "cell_type": "code",
   "execution_count": 20,
   "metadata": {
    "collapsed": false
   },
   "outputs": [],
   "source": [
    "deltadf.groupby('SUBURB_2015').agg([np.mean, np.std])"
   ]
  },
  {
   "cell_type": "code",
   "execution_count": null,
   "metadata": {
    "collapsed": true
   },
   "outputs": [],
   "source": []
  }
 ],
 "metadata": {
  "kernelspec": {
   "display_name": "Python 2",
   "language": "python",
   "name": "python2"
  },
  "language_info": {
   "codemirror_mode": {
    "name": "ipython",
    "version": 2
   },
   "file_extension": ".py",
   "mimetype": "text/x-python",
   "name": "python",
   "nbconvert_exporter": "python",
   "pygments_lexer": "ipython2",
   "version": "2.7.3"
  }
 },
 "nbformat": 4,
 "nbformat_minor": 0
}
