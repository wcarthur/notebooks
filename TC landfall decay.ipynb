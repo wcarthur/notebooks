{
 "cells": [
  {
   "cell_type": "markdown",
   "metadata": {},
   "source": [
    "# Landfall decay rates for tropical cyclones in the Australian region\n",
    "\n",
    "This notebook analyses the historical best track data from [IBTrACS](http://www.ncdc.noaa.gov/oa/ibtracs/) to evaluate the rate of decay of cyclones after landfall. \n",
    "\n",
    "In previous studies (e.g. Vickery, 2005), the rate of change of central pressure deficit ($\\Delta p_c$) after landfall is modelled as an exponential decay function:\n",
    "\n",
    "$\\Delta p_c(t) = \\Delta p_0 e^{(-\\alpha t)}$\n",
    "\n",
    "where $\\alpha = \\alpha_0 + \\alpha_1 \\Delta p_0$ and $\\Delta p_0$ is the central pressure deficit at landfall. The decay rate $\\alpha$ may also be a function of the translation speed after landfall ($v_t$) and/or the landfall latitude. Here, we are attempting to fit this model to TC occurrences in the Australian region. We begin with the simplest model - where $\\alpha$ is a function of $\\Delta p_0$ alone. "
   ]
  },
  {
   "cell_type": "code",
   "execution_count": 1,
   "metadata": {
    "collapsed": false
   },
   "outputs": [],
   "source": [
    "%matplotlib inline\n",
    "\n",
    "from __future__ import print_function\n",
    "\n",
    "import sys\n",
    "import numpy as np\n",
    "import pandas as pd\n",
    "\n",
    "from scipy.optimize import leastsq\n",
    "import scipy.stats as stats\n",
    "from scipy.stats import logistic as slogistic\n",
    "from scipy.stats import norm as snorm\n",
    "import io\n",
    "\n",
    "from matplotlib import pyplot as plt\n",
    "from matplotlib.cm import get_cmap\n",
    "from mpl_toolkits.basemap import Basemap\n",
    "\n",
    "import statsmodels.api as sm\n",
    "\n",
    "from Utilities.loadData import loadTrackFile\n",
    "from Utilities.config import ConfigParser\n",
    "from Utilities.track import Track\n",
    "\n",
    "import seaborn\n",
    "seaborn.set_context(\"poster\")\n",
    "seaborn.set_style(\"whitegrid\")"
   ]
  },
  {
   "cell_type": "markdown",
   "metadata": {},
   "source": [
    "Define the configuration settings for the analysis. You will need to have the latest version of the IBTrACS data and the daily long term mean sea level pressure data stored locally. Modify the path to those files as required.\n",
    "\n",
    "To modify the region analysed, change the `gridLimit` option in the `Region` section. You can restrict the TC seasons used by modifying the `StartSeason` option in the `DataProcess` section. "
   ]
  },
  {
   "cell_type": "code",
   "execution_count": 2,
   "metadata": {
    "collapsed": true
   },
   "outputs": [],
   "source": [
    "configstr = \"\"\"\n",
    "[DataProcess]\n",
    "InputFile=C:/WorkSpace/data/TC/Allstorms.ibtracs_wmo.v03r06.csv\n",
    "Source=IBTRACS\n",
    "StartSeason=1981\n",
    "FilterSeasons=True\n",
    "\n",
    "[Region]\n",
    "; Domain for windfield and hazard calculation\n",
    "gridLimit={'xMin':110.,'xMax':155.,'yMin':-30.0,'yMax':-5.0}\n",
    "gridSpace={'x':1.0,'y':1.0}\n",
    "gridInc={'x':1.0,'y':0.5}\n",
    "\n",
    "[Input]\n",
    "landmask = C:/WorkSpace/tcrm/input/landmask.nc\n",
    "mslpfile = C:/WorkSpace/data/MSLP/slp.day.ltm.nc\n",
    "datasets = IBTRACS,LTMSLP\n",
    "\n",
    "[IBTRACS]\n",
    "; Input data file settings\n",
    "url = ftp://eclipse.ncdc.noaa.gov/pub/ibtracs/v03r06/wmo/csv/Allstorms.ibtracs_wmo.v03r06.csv.gz\n",
    "path = C:/WorkSpace/data/TC/\n",
    "filename = Allstorms.ibtracs_wmo.v03r06.csv\n",
    "columns = tcserialno,season,num,skip,skip,skip,date,skip,lat,lon,skip,pressure\n",
    "fielddelimiter = ,\n",
    "numberofheadinglines = 3\n",
    "pressureunits = hPa\n",
    "lengthunits = km\n",
    "dateformat = %Y-%m-%d %H:%M:%S\n",
    "speedunits = kph\n",
    "\n",
    "[LTMSLP]\n",
    "; MSLP climatology file settings\n",
    "URL = ftp://ftp.cdc.noaa.gov/Datasets/ncep.reanalysis.derived/surface/slp.day.1981-2010.ltm.nc\n",
    "path = C:/WorkSpace/data/MSLP\n",
    "filename = slp.day.ltm.nc\n",
    "\"\"\""
   ]
  },
  {
   "cell_type": "markdown",
   "metadata": {},
   "source": [
    "Load the configuration settings from the string representation above. Normally, this would be stored in a file and read directly from there. "
   ]
  },
  {
   "cell_type": "code",
   "execution_count": 3,
   "metadata": {
    "collapsed": false
   },
   "outputs": [],
   "source": [
    "config = ConfigParser()\n",
    "config.readfp(io.BytesIO(configstr))"
   ]
  },
  {
   "cell_type": "markdown",
   "metadata": {},
   "source": [
    "Load the track file. This reports the number of tracks loaded - this varies based on the `StartSeason` option in the `DataProcess` section above. Tracks for all basins are loaded by default, and then we filter spatially at a later step."
   ]
  },
  {
   "cell_type": "code",
   "execution_count": 4,
   "metadata": {
    "collapsed": false
   },
   "outputs": [],
   "source": [
    "trackFile = config.get('DataProcess', 'InputFile')\n",
    "source = config.get('DataProcess', 'Source')\n",
    "\n",
    "print(\"Track file: {0}\".format(trackFile))\n",
    "print(\"Track format: {0}\".format(source))\n",
    "tracks = loadTrackFile(configstr, trackFile, source)\n",
    "print(\"There are {0:d} tracks in the input dataset\".format(len(tracks)))"
   ]
  },
  {
   "cell_type": "markdown",
   "metadata": {
    "collapsed": true
   },
   "source": [
    "Set up a map to define the study region. I have to set up different keyword arguments for `Basemap` for plotting using `saveTrackMap`, because it cannot use a cylindrical projection (it baulks at setting up a scale bar). And we can't use a Mercator projection in the map used for testing if TCs are on land or not. "
   ]
  },
  {
   "cell_type": "code",
   "execution_count": 5,
   "metadata": {
    "collapsed": true
   },
   "outputs": [],
   "source": [
    "domain = config.geteval('Region', 'gridLimit')\n",
    "mapkwargs = dict(llcrnrlon=domain['xMin'],\n",
    "                 llcrnrlat=domain['yMin'],\n",
    "                 urcrnrlon=domain['xMax'],\n",
    "                 urcrnrlat=domain['yMax'],\n",
    "                 resolution='c',\n",
    "                 projection='cyl')\n",
    "m = Basemap(**mapkwargs)\n"
   ]
  },
  {
   "cell_type": "markdown",
   "metadata": {},
   "source": [
    "This function identifies the landfall pressure deficit and time, then extracts the pressure deficit at all times after landfall.\n",
    "\n",
    "It returns the initial pressure deficit $\\Delta p_{0}$, the pressure deficit $\\Delta p_c (t)$ at each subsequent point in time, and the time after landfall $t$ (in hours). Only those storms where there are at least two observations _after landfall_ are returned. \n",
    "\n",
    "Presently, the function returns once a valid storm is found and either ends or moves offshore. This misses the second or later landfalls of those storms that make multiple landfalls. "
   ]
  },
  {
   "cell_type": "code",
   "execution_count": 6,
   "metadata": {
    "collapsed": false
   },
   "outputs": [],
   "source": [
    "def processTrack(track, m):\n",
    "    onland = np.zeros(len(track.Longitude))\n",
    "    dp0 = 0\n",
    "    v0 = 0\n",
    "    for i, (lon, lat) in enumerate(zip(track.Longitude, \n",
    "                                      track.Latitude)):\n",
    "        if m.is_land(lon, lat):\n",
    "            onland[i] = 1\n",
    "\n",
    "    dp = []\n",
    "    dt = []\n",
    "    v = []\n",
    "    flag = 0\n",
    "    for i in range(1, len(onland)):\n",
    "        if (onland[i]==1) & (onland[i-1]==0) & (track.CentralPressure[i-1] > 0.0):\n",
    "            # New landfall (with central pressure prior to landfall):\n",
    "            t0 = track.TimeElapsed[i-1]\n",
    "            dp0 = track.EnvPressure[i-1] - track.CentralPressure[i-1]\n",
    "            v0 = track.Speed[i-1]\n",
    "            lat0 = track.Latitude[i-1]\n",
    "            flag = 1\n",
    "        \n",
    "        if (flag==1) & (track.CentralPressure[i] > 0.0):\n",
    "            # Storm is on land and has a valid central pressure record:\n",
    "            dp.append(track.EnvPressure[i] - track.CentralPressure[i])\n",
    "            dt.append(track.TimeElapsed[i] - t0)\n",
    "            v.append(track.Speed[i])\n",
    "            flag = onland[i]\n",
    "            if flag == 0:\n",
    "                return dp0, dp, dt, v0, np.mean(np.array(v)), lat0\n",
    "    if len(dp) > 1:\n",
    "        return dp0, dp, dt, v0, np.mean(np.array(v)), lat0\n",
    "    else:\n",
    "        return None, None, None, None, None, None\n",
    "        "
   ]
  },
  {
   "cell_type": "markdown",
   "metadata": {},
   "source": [
    "Define a pair of functions to fit the pressure deficit (as a function of time after landfall) to an exponential decay model. The `minimise` function returns the $\\alpha$ parameter for an event."
   ]
  },
  {
   "cell_type": "code",
   "execution_count": 7,
   "metadata": {
    "collapsed": false
   },
   "outputs": [],
   "source": [
    "def residuals(params, dp, dt, dp0):\n",
    "    yfit = dp0 * np.exp(-(np.array(params) * dt))\n",
    "    return dp - yfit\n",
    "\n",
    "def minimise(dp, dt, dp0, alpha=0., beta=1.):\n",
    "    plsq = leastsq(residuals, [alpha], args=(dp, dt, dp0))\n",
    "    return plsq[0]"
   ]
  },
  {
   "cell_type": "markdown",
   "metadata": {},
   "source": [
    "Cycle through all the tracks in the input dataset. If the track passes through the study region, then we will process it to obtain the decay rate as a function of $\\Delta p_0$ and $t$. The fitted decay rate is added to a list of values, as is the landfall pressure value. \n",
    "\n",
    "The time history of each event is then plotted -- both the central pressure deficit ($\\Delta p_c(t)$) and the central pressure deficit normalised by the landfall pressure deficit ($\\Delta p_0$)."
   ]
  },
  {
   "cell_type": "code",
   "execution_count": 8,
   "metadata": {
    "collapsed": false
   },
   "outputs": [],
   "source": [
    "def plotEvent(ax, dt, dp, dp0, params):\n",
    "    ax.scatter(dt, dp/dp0, marker='s')\n",
    "    xt = ax.get_xticks()\n",
    "    ax.set_xlabel(\"Time after landfall (hours)\")\n",
    "    ax.set_xticks(range(0,12*int(1+max(xt)/12.+1),12))\n",
    "    ax.set_ylabel(r\"$\\frac{\\Delta p_c(t)}{\\Delta p_0}$ (hPa)\")\n",
    "    xm = np.linspace(0, 12*int(max(dt)/12.), 100)    \n",
    "    ax.set_xlim((0,12*int(1+max(xt)/12.)))\n",
    "\n",
    "    legtext = r\"$\\Delta p_c = \\Delta p_0 \\exp{(%f t)}$\"%(-params[0])\n",
    "    ym = np.exp(-params[0]*xm)\n",
    "    ax.plot(xm, ym, label=legtext)\n",
    "    (ymin, ymax) = ax.get_ylim()\n",
    "    l = ax.legend(loc=0)\n",
    "    ax.set_ylim((0,ymax))"
   ]
  },
  {
   "cell_type": "markdown",
   "metadata": {},
   "source": [
    "If you want to plot individual tracks and the fitted decay model, uncomment the lines in the innermost if-clause. "
   ]
  },
  {
   "cell_type": "code",
   "execution_count": 9,
   "metadata": {
    "collapsed": false
   },
   "outputs": [],
   "source": [
    "landfall_pressure = []\n",
    "landfall_speed = []\n",
    "landfall_lat = []\n",
    "decayrate = []\n",
    "lftracks = []\n",
    "nevents=0\n",
    "fig1, (ax1, ax2) = plt.subplots(2,1,sharex=True)\n",
    "\n",
    "for n, track in enumerate(tracks):\n",
    "    if track.inRegion(domain):\n",
    "        # Process the track to get the pressure at landfall and the decay rate thereafter:\n",
    "        dp0, dp, dt, v0, v, lat0 = processTrack(track, m)\n",
    "        if (dp0 is not None): # and (dp0 > max(dp)):\n",
    "            nevents += 1\n",
    "            lftracks.append(track)\n",
    "            p = minimise(dp, dt, dp0, 0., 1.)\n",
    "            ax1.plot(dt, dp)\n",
    "            ax2.plot(dt, (dp/dp0))\n",
    "            #fig0, ax = plt.subplots(1,1,sharex=True)\n",
    "            #plotEvent(ax, dt, dp, dp0, p)\n",
    "            #ax.set_title(\"Storm {0} ({1}) \".format(n, track.Year[0]))\n",
    "            #plt.savefig(\"{0:03d}.png\".format(n))\n",
    "\n",
    "            decayrate.append(p[0])\n",
    "            landfall_pressure.append(dp0)\n",
    "            landfall_speed.append(v0)\n",
    "            landfall_lat.append(lat0)\n",
    "    \n",
    "ax2.set_xlabel(\"Time after landfall (hours)\")\n",
    "xt = ax2.get_xticks()\n",
    "ax2.set_xticks(range(0,12*int(1+max(xt)/12.),12))\n",
    "ax1.set_ylabel(\"$\\Delta p_c(t) $ (hPa)\")\n",
    "ax1.set_title(\"Pressure deficit decay rates ({0} events)\".format(nevents))\n",
    "ax2.set_ylabel(r\"$\\frac{\\Delta p_c(t)}{\\Delta p_0}$\")\n"
   ]
  },
  {
   "cell_type": "markdown",
   "metadata": {},
   "source": [
    "The events include all storms that make landfall in Australia - including those where $\\Delta p$ increases *after* landfall. As we will see, this generally occurs with weaker TCs (smaller $\\Delta p_0$). "
   ]
  },
  {
   "cell_type": "markdown",
   "metadata": {},
   "source": [
    "### Linear regression model\n",
    "\n",
    "We use a linear regression to fit the decay rate $\\hat{\\alpha}$ as a model of landfall pressure deficit $\\Delta p_0$. The `seaborn.jointplot()` command fits a linear regression to the data, and adds the 95% approximate confidence interval (shaded), based on bootstrap resampling (1000 samples). "
   ]
  },
  {
   "cell_type": "code",
   "execution_count": 23,
   "metadata": {
    "collapsed": false,
    "scrolled": false
   },
   "outputs": [],
   "source": [
    "df = pd.DataFrame({'alpha':decayrate,\n",
    "                   'dp0':landfall_pressure,\n",
    "                   'v0':landfall_speed,\n",
    "                   'lat0':landfall_lat})\n",
    "jp = seaborn.jointplot('dp0','alpha',df, kind='reg', size=10,xlim=(0,140))\n",
    "jp.set_axis_labels(r\"${\\Delta p_0}$\", r\"$\\hat{\\alpha}$\")"
   ]
  },
  {
   "cell_type": "markdown",
   "metadata": {},
   "source": [
    "Use [`statmodels`](http://statsmodels.sourceforge.net/) to fit our model of landfall decay rate, as a function of landfalling pressure deficit. "
   ]
  },
  {
   "cell_type": "code",
   "execution_count": 11,
   "metadata": {
    "collapsed": false,
    "scrolled": false
   },
   "outputs": [],
   "source": [
    "X = sm.add_constant(landfall_pressure)\n",
    "y = np.array(decayrate)\n",
    "model = sm.GLS(y, X)\n",
    "results = model.fit()\n",
    "print(results.summary())\n",
    "print(results.params)"
   ]
  },
  {
   "cell_type": "markdown",
   "metadata": {},
   "source": [
    "#### Model residuals\n",
    "\n",
    "The residuals of the regression model can be examined to provide further random variations to the stochastic model of landfall decay rates. The figure below shows the model residuals $\\varepsilon$ against $\\Delta p_0$, with a lowess smoother plotted. "
   ]
  },
  {
   "cell_type": "code",
   "execution_count": 12,
   "metadata": {
    "collapsed": false
   },
   "outputs": [],
   "source": [
    "rp = seaborn.residplot('dp0','alpha',df,lowess=True)\n",
    "rp.set_xlabel(r\"${\\Delta p_0}$\")\n",
    "rp.set_xlim((0,120))\n",
    "rp.set_ylabel(r\"$\\varepsilon$\")\n",
    "rp.set_title(r\"Model residuals: $\\sigma^2 = ${0:.4f}\".format(np.std(results.resid)))"
   ]
  },
  {
   "cell_type": "markdown",
   "metadata": {},
   "source": [
    "A non-central Student's T (NCT) distribution is fitted to the residuals (below, left). The NCT distribution provides a narrower distribution than the normal distribution, leading to a better fit to the observed residuals. The quantile-quantile plot (below, right, with scaled quantiles) provides a clear indication of the fit to the model residuals. "
   ]
  },
  {
   "cell_type": "code",
   "execution_count": 13,
   "metadata": {
    "collapsed": false
   },
   "outputs": [],
   "source": [
    "fig, (ax0, ax1) = plt.subplots(1,2, figsize=(14,6))\n",
    "\n",
    "bins = np.arange(-0.1, 0.21, 0.01)\n",
    "ax = seaborn.distplot(results.resid,bins=bins, ax=ax0, kde_kws={'label':'Residuals','linestyle':'--'})\n",
    "n, b = np.histogram(results.resid,bins=bins)\n",
    "fp = stats.nct.fit(results.resid,shape=np.mean(results.resid),scale=np.std(results.resid))\n",
    "print(\"Fit parameters for the non-central Student's T distribution:\")\n",
    "print(fp)\n",
    "\n",
    "x = np.linspace(-0.1, 0.2, 1000)\n",
    "\n",
    "ax.plot(x, stats.nct.pdf(x,fp[0], fp[1], loc=fp[2],scale=fp[3]), label='Non-central T')\n",
    "ax.legend(loc=0)\n",
    "\n",
    "\n",
    "ax.set_ylabel(\"Count\")\n",
    "ax.set_xlabel(r\"$\\varepsilon$\")\n",
    "pp = sm.ProbPlot(results.resid, stats.nct, fit=True)\n",
    "pp.qqplot('Non-central T', 'Residuals', line='45', ax=ax1, color='gray',alpha=0.5)\n",
    "fig.tight_layout()\n"
   ]
  },
  {
   "cell_type": "code",
   "execution_count": 14,
   "metadata": {
    "collapsed": false
   },
   "outputs": [],
   "source": [
    "fig, (ax0, ax1) = plt.subplots(1,2, figsize=(14,6))\n",
    "\n",
    "bins = np.arange(-0.1, 0.21, 0.01)\n",
    "ax = seaborn.distplot(results.resid, bins=bins, ax=ax0, kde_kws={'label':'Residuals','linestyle':'--'})\n",
    "n, b = np.histogram(results.resid, bins=bins, density=True)\n",
    "fp1 = stats.norm.fit(results.resid, floc=np.median(results.resid),scale=np.std(results.resid))\n",
    "print(\"Fit parameters for the normal distribution:\")\n",
    "print(fp1)\n",
    "\n",
    "x = np.linspace(-0.1, 0.2, 1000)\n",
    "ax.plot(x, stats.norm.pdf(x, *fp1),label='Normal')\n",
    "ax.legend(loc=0)\n",
    "\n",
    "\n",
    "ax.set_ylabel(\"Count\")\n",
    "ax.set_xlabel(r\"$\\varepsilon$\")\n",
    "pp = sm.ProbPlot(results.resid, stats.norm, fit=True)\n",
    "pp.qqplot('Normal', 'Residuals', line='45', ax=ax1, color='gray',alpha=0.5)\n",
    "fig.tight_layout()\n"
   ]
  },
  {
   "cell_type": "code",
   "execution_count": 15,
   "metadata": {
    "collapsed": false,
    "scrolled": false
   },
   "outputs": [],
   "source": [
    "fig, (ax0, ax1) = plt.subplots(1,2, figsize=(14,6))\n",
    "\n",
    "bins = np.arange(-0.1, 0.21, 0.01)\n",
    "ax = seaborn.distplot(results.resid, bins=bins, ax=ax0, kde_kws={'label':'Residuals','linestyle':'--'})\n",
    "n, b = np.histogram(results.resid, bins=bins, density=True)\n",
    "fp2 = stats.logistic.fit(results.resid, shape=np.median(results.resid), scale=np.std(results.resid))\n",
    "print(\"Fit parameters for the logistic distribution:\")\n",
    "print(fp2)\n",
    "\n",
    "x = np.linspace(-0.1, 0.2, 1000)\n",
    "ax.plot(x, stats.logistic.pdf(x, *fp2),label='Normal')\n",
    "ax.legend(loc=0)\n",
    "\n",
    "\n",
    "ax.set_ylabel(\"Count\")\n",
    "ax.set_xlabel(r\"$\\varepsilon$\")\n",
    "pp = sm.ProbPlot(results.resid, stats.logistic, fit=True)\n",
    "pp.qqplot('Logistic', 'Residuals', line='45', ax=ax1, color='gray',alpha=0.5)\n",
    "fig.tight_layout()"
   ]
  },
  {
   "cell_type": "markdown",
   "metadata": {},
   "source": [
    "#### Results\n",
    "\n",
    "The model chosen for the TC landfall decay model is as follows:\n",
    "\n",
    "$\\alpha = -0.00575 + 0.000862 \\Delta p_0 + \\varepsilon(\\nu, \\mu, \\lambda, \\sigma)$\n",
    "\n",
    "$\\varepsilon(\\nu, \\mu, \\lambda, \\sigma)$ is a random variate from a non-central Student's T distribution, with $\\nu = 4.57$ degrees of freedom, non-centrality parameter $\\mu = -0.101$, location parameter $\\lambda = 0.0$ and scale parameter $\\sigma = 0.0199$"
   ]
  },
  {
   "cell_type": "markdown",
   "metadata": {},
   "source": [
    "Here we demonstrate application of the landfall decay model, incorporating random innovations that reflect the variance explained by the linear regression model. Random innovations are sampled from an NCT with the degrees or freedom, noncentrality, location and scale given by the fitted results above. The modelled $\\alpha$ values show wide scatter around the linear model, comparable to the scatter in the observed data (above)."
   ]
  },
  {
   "cell_type": "code",
   "execution_count": 26,
   "metadata": {
    "collapsed": false,
    "scrolled": false
   },
   "outputs": [],
   "source": [
    "r = (results.rsquared)\n",
    "pr = results.params\n",
    "p0 = np.random.choice(landfall_pressure, 114, replace=True)\n",
    "\n",
    "pp = (pr[0] + pr[1]*p0) + stats.nct.rvs(fp[0], fp[1], loc=fp[2],scale=fp[3],size=114)\n",
    "\n",
    "fig, ax1 = plt.subplots(1, 1)\n",
    "\n",
    "seaborn.lmplot('dp0','alpha',df, size=25, label=\"Observed\", ax=ax1)\n",
    "ax1.set_xlim((0,120))\n",
    "ax1.set_ylim((-0.1, 0.25))\n",
    "ax1.set_xlabel(r\"${\\Delta p_0}$ (hPa)\")\n",
    "ax1.set_ylabel(r\"$\\alpha$\")\n",
    "\n",
    "ax1.scatter(p0,pp,s=25, color='red',marker='s',alpha=0.5, label=\"Modelled\")\n",
    "ax1.legend(loc=0)\n"
   ]
  },
  {
   "cell_type": "markdown",
   "metadata": {},
   "source": [
    "Notice that this model does permit a negative rate parameter (see the 95th percentile value for the intercept). i.e. it's possible that the central pressure will increase with time after landfall. This is feasible, since there are many observed TCs that record increases in intensity after landfall. However, for more intense TCs, this becomes less likely. "
   ]
  },
  {
   "cell_type": "markdown",
   "metadata": {},
   "source": [
    "### Other parameters\n",
    "\n",
    "But what about the translation speed at landfall? Vickery (2005) suggests that translation speed may influence the decay rate. So we plot the average translation speed at landfall ($v_t$) against $\\Delta p_0$, with contours of $\\alpha$. "
   ]
  },
  {
   "cell_type": "code",
   "execution_count": 17,
   "metadata": {
    "collapsed": false
   },
   "outputs": [],
   "source": [
    "seaborn.interactplot(\"dp0\", 'v0', 'alpha', df, cmap=get_cmap(\"YlOrRd\"))"
   ]
  },
  {
   "cell_type": "markdown",
   "metadata": {},
   "source": [
    "So it appears that there may be a relationship between $\\alpha$ and $v_t$. To confirm this, we put together a linear model of $\\alpha = f(\\Delta p_0, v_t)$. The resulting fit indicates a marginal improvement in the $R^2$ value, and the AIC score is very slightly decreased."
   ]
  },
  {
   "cell_type": "code",
   "execution_count": 18,
   "metadata": {
    "collapsed": false
   },
   "outputs": [],
   "source": [
    "X = np.column_stack((landfall_pressure, landfall_speed))\n",
    "X = sm.add_constant(X)\n",
    "y = np.array(decayrate)\n",
    "model = sm.OLS(y, X)\n",
    "results = model.fit()\n",
    "print(results.summary())\n",
    "print('Parameters: ', results.params)\n",
    "print('R2: ', results.rsquared)\n",
    "print('P-value: ', results.pvalues)"
   ]
  },
  {
   "cell_type": "markdown",
   "metadata": {},
   "source": [
    "Latitude at landfall has a lesser influence on decay rate. The resulting model has a higher AIC value compared to the simple model where $\\alpha$ is a function of landfall pressure deficit only."
   ]
  },
  {
   "cell_type": "code",
   "execution_count": 19,
   "metadata": {
    "collapsed": false
   },
   "outputs": [],
   "source": [
    "ax = seaborn.interactplot(\"dp0\", 'lat0', 'alpha', df, cmap=get_cmap(\"YlOrRd\"),)\n",
    "ax.set_xlabel(r'$\\Delta p_0$')\n",
    "ax.set_ylabel('Landfall latitude')\n"
   ]
  },
  {
   "cell_type": "code",
   "execution_count": 20,
   "metadata": {
    "collapsed": false
   },
   "outputs": [],
   "source": [
    "X = np.column_stack((landfall_pressure, landfall_lat))\n",
    "X = sm.add_constant(X)\n",
    "y = np.array(decayrate)\n",
    "model = sm.OLS(y, X)\n",
    "results = model.fit()\n",
    "print(results.summary())\n",
    "print('Parameters: ', results.params)\n",
    "print('P-value: ', results.pvalues)"
   ]
  },
  {
   "cell_type": "markdown",
   "metadata": {},
   "source": [
    "#### Contributing events\n",
    "\n",
    "Finally, we plot the tracks of all landfalling TCs used in the analysis. This uses some code written for [TCRM](https://github.com/GeoscienceAustralia/tcrm), so you'll need to have the code somewhere on the `PYTHONPATH` to get this to work. Notice also this is actually saving the image to a file, then displaying that image file, as opposed to the previous plots which are displayed inline. "
   ]
  },
  {
   "cell_type": "code",
   "execution_count": 21,
   "metadata": {
    "collapsed": false
   },
   "outputs": [],
   "source": [
    "from PlotInterface.tracks import saveTrackMap\n",
    "from IPython.display import Image"
   ]
  },
  {
   "cell_type": "code",
   "execution_count": 22,
   "metadata": {
    "collapsed": false
   },
   "outputs": [],
   "source": [
    "startSeason = config.get(\"DataProcess\", \"StartSeason\")\n",
    "#fig = SingleTrackMap()\n",
    "xx = np.arange(domain['xMin'], domain['xMax']+0.1,0.1)\n",
    "yy = np.arange(domain['yMin'], domain['yMax']+0.1,0.1)\n",
    "\n",
    "[xgrid, ygrid] = np.meshgrid(xx,yy)\n",
    "title = \"Landfalling TCs - {0} - 2013\".format(startSeason)\n",
    "mapkwargs = dict(llcrnrlon=domain['xMin']-10,\n",
    "                     llcrnrlat=domain['yMin'],\n",
    "                     urcrnrlon=domain['xMax'],\n",
    "                     urcrnrlat=domain['yMax'],\n",
    "                     resolution='f',\n",
    "                     projection='merc')\n",
    "\n",
    "saveTrackMap(lftracks, xgrid, ygrid, title, mapkwargs, \"tracks.png\")\n",
    "Image(\"tracks.png\")"
   ]
  },
  {
   "cell_type": "markdown",
   "metadata": {},
   "source": [
    "This document was written in an IPython notebook. The raw notebook can be downloaded [here](https://github.com/wcarthur/notebooks/blob/master/TC%20landfall%20decay.ipynb). See also [nbviewer](http://nbviewer.ipython.org/github/wcarthur/notebooks/blob/master/TC%20landfall%20decay.ipynb) for an online static view."
   ]
  }
 ],
 "metadata": {
  "kernelspec": {
   "display_name": "Python 2",
   "language": "python",
   "name": "python2"
  },
  "language_info": {
   "codemirror_mode": {
    "name": "ipython",
    "version": 2
   },
   "file_extension": ".py",
   "mimetype": "text/x-python",
   "name": "python",
   "nbconvert_exporter": "python",
   "pygments_lexer": "ipython2",
   "version": "2.7.3"
  }
 },
 "nbformat": 4,
 "nbformat_minor": 0
}
