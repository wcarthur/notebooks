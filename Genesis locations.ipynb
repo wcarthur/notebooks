{
 "cells": [
  {
   "cell_type": "code",
   "execution_count": 1,
   "metadata": {
    "collapsed": false
   },
   "outputs": [],
   "source": [
    "%matplotlib inline\n",
    "\n",
    "from __future__ import print_function\n",
    "\n",
    "import io\n",
    "import numpy as np\n",
    "\n",
    "from Utilities.loadData import loadTrackFile\n",
    "from Utilities.config import ConfigParser\n",
    "from Utilities.track import Track\n",
    "\n",
    "from PlotInterface.maps import ScatterMapFigure, saveFigure\n",
    "from IPython.display import Image\n",
    "\n",
    "import seaborn\n",
    "seaborn.set_context(\"poster\")\n",
    "\n"
   ]
  },
  {
   "cell_type": "code",
   "execution_count": 8,
   "metadata": {
    "collapsed": true
   },
   "outputs": [],
   "source": [
    "configstr = \"\"\"\n",
    "[DataProcess]\n",
    "InputFile=C:/WorkSpace/data/TC/Allstorms.ibtracs_wmo.v03r06.csv\n",
    "Source=IBTRACS\n",
    "StartSeason=1901\n",
    "FilterSeasons=True\n",
    "\n",
    "[Region]\n",
    "; Domain for windfield and hazard calculation\n",
    "gridLimit={'xMin':90.,'xMax':170.,'yMin':-30.0,'yMax':-5.0}\n",
    "gridSpace={'x':1.0,'y':1.0}\n",
    "gridInc={'x':1.0,'y':0.5}\n",
    "\n",
    "[Input]\n",
    "landmask = C:/WorkSpace/tcrm/input/landmask.nc\n",
    "mslpfile = C:/WorkSpace/data/MSLP/slp.day.ltm.nc\n",
    "datasets = IBTRACS,LTMSLP\n",
    "\n",
    "[IBTRACS]\n",
    "; Input data file settings\n",
    "url = ftp://eclipse.ncdc.noaa.gov/pub/ibtracs/v03r06/wmo/csv/Allstorms.ibtracs_wmo.v03r06.csv.gz\n",
    "path = C:/WorkSpace/data/TC/\n",
    "filename = Allstorms.ibtracs_wmo.v03r06.csv\n",
    "columns = tcserialno,season,num,skip,skip,skip,date,skip,lat,lon,skip,pressure\n",
    "fielddelimiter = ,\n",
    "numberofheadinglines = 3\n",
    "pressureunits = hPa\n",
    "lengthunits = km\n",
    "dateformat = %Y-%m-%d %H:%M:%S\n",
    "speedunits = kph\n",
    "\n",
    "[LTMSLP]\n",
    "; MSLP climatology file settings\n",
    "URL = ftp://ftp.cdc.noaa.gov/Datasets/ncep.reanalysis.derived/surface/slp.day.1981-2010.ltm.nc\n",
    "path = C:/WorkSpace/data/MSLP\n",
    "filename = slp.day.ltm.nc\n",
    "\"\"\""
   ]
  },
  {
   "cell_type": "code",
   "execution_count": 9,
   "metadata": {
    "collapsed": false
   },
   "outputs": [],
   "source": [
    "config = ConfigParser()\n",
    "config.readfp(io.BytesIO(configstr))\n",
    "\n",
    "trackFile = config.get('DataProcess', 'InputFile')\n",
    "source = config.get('DataProcess', 'Source')\n",
    "domain = config.geteval('Region', 'gridLimit')\n",
    "\n",
    "print(\"Track file: {0}\".format(trackFile))\n",
    "print(\"Track format: {0}\".format(source))\n",
    "tracks = loadTrackFile(configstr, trackFile, source)\n",
    "print(\"There are {0:d} tracks in the input dataset\".format(len(tracks)))"
   ]
  },
  {
   "cell_type": "code",
   "execution_count": 10,
   "metadata": {
    "collapsed": false
   },
   "outputs": [],
   "source": [
    "xp = []\n",
    "yp = []\n",
    "\n",
    "for n, track in enumerate(tracks):\n",
    "    if track.inRegion(domain):\n",
    "        xp.append(track.Longitude[0])\n",
    "        yp.append(track.Latitude[0])\n",
    "        \n",
    "data = np.vstack((np.array(xp), np.array(yp)))"
   ]
  },
  {
   "cell_type": "code",
   "execution_count": 11,
   "metadata": {
    "collapsed": true
   },
   "outputs": [],
   "source": [
    "xx = np.arange(domain['xMin'], domain['xMax']+0.1,0.1)\n",
    "yy = np.arange(domain['yMin'], domain['yMax']+0.1,0.1)\n",
    "[xgrid, ygrid] = np.meshgrid(xx,yy)\n",
    "mapkwargs = dict(llcrnrlon=domain['xMin'],\n",
    "                     llcrnrlat=domain['yMin'],\n",
    "                     urcrnrlon=domain['xMax'],\n",
    "                     urcrnrlat=domain['yMax'],\n",
    "                     resolution='h',\n",
    "                     projection='merc')\n",
    "\n",
    "startSeason = config.get(\"DataProcess\", \"StartSeason\")\n",
    "title = \"Genesis points - {0} - 2013\".format(startSeason)"
   ]
  },
  {
   "cell_type": "code",
   "execution_count": 12,
   "metadata": {
    "collapsed": false
   },
   "outputs": [],
   "source": [
    "fig = ScatterMapFigure()\n",
    "fig.add(data, xgrid,ygrid, title, [], \"\", mapkwargs)\n",
    "fig.plot()\n",
    "\n",
    "saveFigure(fig, \"genesis.png\")\n",
    "Image(\"genesis.png\")"
   ]
  },
  {
   "cell_type": "code",
   "execution_count": null,
   "metadata": {
    "collapsed": true
   },
   "outputs": [],
   "source": []
  },
  {
   "cell_type": "code",
   "execution_count": null,
   "metadata": {
    "collapsed": true
   },
   "outputs": [],
   "source": []
  }
 ],
 "metadata": {
  "kernelspec": {
   "display_name": "Python 2",
   "language": "python",
   "name": "python2"
  },
  "language_info": {
   "codemirror_mode": {
    "name": "ipython",
    "version": 2
   },
   "file_extension": ".py",
   "mimetype": "text/x-python",
   "name": "python",
   "nbconvert_exporter": "python",
   "pygments_lexer": "ipython2",
   "version": "2.7.3"
  }
 },
 "nbformat": 4,
 "nbformat_minor": 0
}
