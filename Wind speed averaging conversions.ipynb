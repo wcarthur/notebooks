{
 "cells": [
  {
   "cell_type": "markdown",
   "metadata": {},
   "source": [
    "# Converting between wind speed averaging periods\n",
    "\n",
    "This notebook demonstrates the derivation of the wind speed conversion factors published in the World Meteorological Organisation's *Guidelines for Converting Between Various Wind Averaging Periods in Tropical Cyclone Conditions* (Harper *et al.*, 2010: [available online](http://www.wmo.int/pages/prog/www/tcp/documents/WMO_TD_1555_en.pdf)). \n",
    "\n",
    "We follow the methods outlined in Appendix D *The Modified ESDU Gust Factor Method*, which establishes a procedure for estimating the peak factor $g$, in combination with an *a priori* estimate of the turbulence intensity $I_u$ to estimate the appropriate gust factor $G$ for TC conditions.\n",
    "\n",
    "#### Definition of the gust factor\n",
    "\n",
    "The gust factor to be defined is given by Eq. 14 in TD 1555:\n",
    "\n",
    "$G_{\\tau, T_o} = \\dfrac{V_{\\tau}}{V_{T_o}} = 1 + g_{\\tau, T_o} I_u$"
   ]
  },
  {
   "cell_type": "code",
   "execution_count": 25,
   "metadata": {
    "collapsed": true
   },
   "outputs": [],
   "source": [
    "%matplotlib inline\n",
    "from __future__ import division\n",
    "\n",
    "import numpy as np\n",
    "import matplotlib.pyplot as plt\n",
    "import seaborn as sns\n",
    "sns.set_style('ticks')\n",
    "sns.set_context(\"poster\")"
   ]
  },
  {
   "cell_type": "markdown",
   "metadata": {},
   "source": [
    "The approach starts with estimating the spectrally-based zero-crossing rate $\\nu$, relative to an *hourly* reference period $T'_o$:\n",
    "\n",
    "$\\nu(\\tau, T'_o) = \\dfrac{[0.007 + 0.213(T_u/\\tau)^{0.654}]}{T_u}$\n",
    "\n",
    "The integral time scale of the longitudinal turbulence $T_u$ is approximated empirically as a function of the elevation $z$:\n",
    "\n",
    "$T_u = 3.13z^{0.2}$"
   ]
  },
  {
   "cell_type": "code",
   "execution_count": 84,
   "metadata": {
    "collapsed": true
   },
   "outputs": [],
   "source": [
    "def crossingRate(tau, eta=10.):\n",
    "    Tu = 3.13 * np.power(eta, 0.2)\n",
    "    nu = (0.007 + 0.213 * np.power(Tu / tau, 0.654)) / Tu\n",
    "    return nu"
   ]
  },
  {
   "cell_type": "code",
   "execution_count": 152,
   "metadata": {
    "collapsed": true
   },
   "outputs": [],
   "source": [
    "def gustFactor(tau, turbulence, reftime=3600., elev=10.):\n",
    "    nu = crossingRate(tau, elev)\n",
    "    Tu = 3.13 * np.power(elev, 0.2)\n",
    "    sdratio = 1. - 0.193 * np.power((Tu / tau) + 0.1, -0.68)\n",
    "    v_tau = np.sqrt(2. * np.log(reftime * nu)) + \\\n",
    "        0.577 / np.sqrt(2. * np.log(reftime * nu))\n",
    "    g = v_tau * sdratio\n",
    "    return 1. + g * turbulence"
   ]
  },
  {
   "cell_type": "markdown",
   "metadata": {},
   "source": [
    "The ESDU $G_{T_o}$ function, taken from Figure 2b (ESDU, 2002), is approximated as:"
   ]
  },
  {
   "cell_type": "code",
   "execution_count": 86,
   "metadata": {
    "collapsed": true
   },
   "outputs": [],
   "source": [
    "def esdu_gto(reftime):\n",
    "    gto = 0.2193 * np.log(np.log10(reftime)) + 0.7242\n",
    "    return gto"
   ]
  },
  {
   "cell_type": "markdown",
   "metadata": {},
   "source": [
    "Here we calculate the wind speed conversion factors for a range of time periods. The base reference time is 600 seconds (10 minutes), but can be modified to suit the application. This step also applies the ESDU function $G_{T_o}$, and sets all values less than 1.0 equal to 1.0. We demonstrate wind speed conversion factors for a range of turbulence intensities, approximating the conditions described in Table 1.1 in TD1555."
   ]
  },
  {
   "cell_type": "code",
   "execution_count": 169,
   "metadata": {
    "collapsed": false
   },
   "outputs": [],
   "source": [
    "reftime = 600.\n",
    "tau = np.array([ 0.2, .5, 1., 3., 10., 30., 60., 120., 180., 600., 3600.])\n",
    "eta = 10.\n",
    "\n",
    "gto = esdu_gto(reftime)\n",
    "\n",
    "gf_inland = gustFactor(tau, 0.25, reftime) * gto\n",
    "gf_offland = gustFactor(tau, 0.2, reftime) * gto\n",
    "gf_offsea = gustFactor(tau, 0.15, reftime) * gto\n",
    "gf_atsea = gustFactor(tau, 0.1, reftime) * gto\n",
    "\n",
    "gf_inland = np.where(gf_inland < 1., 1., gf_inland)\n",
    "gf_offland = np.where(gf_offland < 1., 1., gf_offland)\n",
    "gf_offsea = np.where(gf_offsea < 1., 1., gf_offsea)\n",
    "gf_atsea = np.where(gf_atsea < 1., 1., gf_atsea)"
   ]
  },
  {
   "cell_type": "markdown",
   "metadata": {},
   "source": [
    "Plot the results:"
   ]
  },
  {
   "cell_type": "code",
   "execution_count": 170,
   "metadata": {
    "collapsed": false
   },
   "outputs": [],
   "source": [
    "plt.semilogx(tau, gf_inland, label=r\"In-land ($I_u=0.250$)\")\n",
    "plt.semilogx(tau, gf_offland, label=r\"Off-land ($I_u=0.200$)\")\n",
    "plt.semilogx(tau, gf_offsea, label=r\"Off-sea ($I_u=0.150$)\")\n",
    "plt.semilogx(tau, gf_atsea, label=r\"At-sea ($I_u=0.100$)\")\n",
    "plt.title(\"Gust factors ($T_o = {:.0f}$ seconds)\".format(reftime))\n",
    "plt.legend(frameon=True)\n",
    "plt.ylim((1.0, 2.0))\n",
    "plt.xlim((0.1, 1000))\n",
    "plt.ylabel(r'Gust factor $G_{\\tau, T_o}$')\n",
    "plt.xlabel(r'Gust duration $\\tau$ (s)')\n",
    "plt.grid(which='major')\n",
    "plt.grid(which='minor', linestyle='--', linewidth=1)\n",
    "plt.legend()\n",
    "sns.despine()\n",
    "#plt.show()"
   ]
  },
  {
   "cell_type": "markdown",
   "metadata": {},
   "source": [
    "Print a formatted table of the conversion factors"
   ]
  },
  {
   "cell_type": "code",
   "execution_count": 171,
   "metadata": {
    "collapsed": false
   },
   "outputs": [],
   "source": [
    "titlestr = \"Duration| \" + \"| \".join(['{:6.1f}']*len(tau)).format(*tau)\n",
    "print titlestr\n",
    "\n",
    "rowfmt = \"{:s}| \" + \"| \".join(['{:6.2f}']*len(tau))\n",
    "print rowfmt.format(\"In-land \", *gf_inland)\n",
    "print rowfmt.format(\"Off-land\", *gf_offland)\n",
    "print rowfmt.format(\"Off-sea \", *gf_offsea)\n",
    "print rowfmt.format(\"At-sea  \", *gf_atsea)"
   ]
  },
  {
   "cell_type": "code",
   "execution_count": null,
   "metadata": {
    "collapsed": true
   },
   "outputs": [],
   "source": []
  }
 ],
 "metadata": {
  "kernelspec": {
   "display_name": "Python 2",
   "language": "python",
   "name": "python2"
  },
  "language_info": {
   "codemirror_mode": {
    "name": "ipython",
    "version": 2
   },
   "file_extension": ".py",
   "mimetype": "text/x-python",
   "name": "python",
   "nbconvert_exporter": "python",
   "pygments_lexer": "ipython2",
   "version": "2.7.3"
  }
 },
 "nbformat": 4,
 "nbformat_minor": 0
}
