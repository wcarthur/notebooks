{
 "cells": [
  {
   "cell_type": "code",
   "execution_count": 1,
   "metadata": {
    "collapsed": false
   },
   "outputs": [],
   "source": [
    "%matplotlib inline\n",
    "from __future__ import print_function # py 2.7 compat.\n",
    "\n",
    "import sys\n",
    "import numpy as np\n",
    "import numpy.ma as ma\n",
    "import matplotlib.pyplot as plt\n",
    "\n",
    "# Import widgets for interactive notebook\n",
    "from IPython.html.widgets import interact, fixed\n",
    "from IPython.html import widgets\n",
    "\n",
    "from Utilities.metutils import convert"
   ]
  },
  {
   "cell_type": "code",
   "execution_count": 2,
   "metadata": {
    "collapsed": false
   },
   "outputs": [],
   "source": [
    "try:\n",
    "    import wind.windmodels as windmodels\n",
    "except ImportError:\n",
    "    print(\"Cannot import windmodels. Check that the TCRM folder is in the PYTHONPATH\")\n",
    "    \n",
    "holland = windmodels.HollandWindProfile"
   ]
  },
  {
   "cell_type": "code",
   "execution_count": 3,
   "metadata": {
    "collapsed": false
   },
   "outputs": [],
   "source": [
    "def plot_profile(lat, penv, pcentre, rmax, beta ):\n",
    "    \n",
    "    if penv < pcentre:\n",
    "        print(\"Central pressure must be less than environmental pressure\")\n",
    "        return None\n",
    "    r = np.arange(1, 201, 0.5)\n",
    "    h = holland(lat, 150., convert(penv, \"hPa\", \"Pa\"), convert(pcentre, \"hPa\", \"Pa\"), rmax, beta)\n",
    "    \n",
    "    V = h.velocity(r)\n",
    "    Z = h.vorticity(r)\n",
    "    \n",
    "    fig = plt.figure(figsize=(12,8))\n",
    "    ax1 = plt.subplot(1,1,1)\n",
    "    ax1.plot(r, V, linestyle='-', color='b', linewidth='2', label=\"Velocity (m/s)\")\n",
    "    ax1.set_ylabel(\"Velocity (m/s)\")\n",
    "    l = ax1.legend(loc='upper left')\n",
    "    for t in l.get_texts():\n",
    "        t.set_fontsize('x-small')\n",
    "    \n",
    "    ax2 = ax1.twinx()\n",
    "    ax2.plot(r, Z, linestyle='-', color='r', linewidth='2', label=\"Vorticity (/s)\")\n",
    "    \n",
    "    ax2.set_xlabel(\"Radius\")\n",
    "    ax2.axvline(rmax, linewidth=1, color='0.5')\n",
    "    ax2.set_xlim((0, 200))\n",
    "    l = ax2.legend(loc='upper right')\n",
    "    for t in l.get_texts():\n",
    "        t.set_fontsize('x-small')\n",
    "    plt.grid(axis='both')"
   ]
  },
  {
   "cell_type": "code",
   "execution_count": 4,
   "metadata": {
    "collapsed": false
   },
   "outputs": [],
   "source": [
    "interact(plot_profile, \n",
    "         lat=widgets.FloatSlider(min=-30., max=30.0, step=0.05, value=-15.), \n",
    "         penv=widgets.FloatSlider(min=990., max=1010.0, step=0.05, value=1000.),\n",
    "         pcentre=widgets.FloatSlider(min=900., max=1010.0, step=0.05, value=990.),\n",
    "         rmax=widgets.FloatSlider(min=1., max=100.0, step=0.5, value=20.),\n",
    "         beta=widgets.FloatSlider(min=0.5, max=3.0, step=0.01, value=1.5))"
   ]
  },
  {
   "cell_type": "code",
   "execution_count": 4,
   "metadata": {
    "collapsed": false
   },
   "outputs": [],
   "source": []
  },
  {
   "cell_type": "code",
   "execution_count": null,
   "metadata": {
    "collapsed": false
   },
   "outputs": [],
   "source": []
  }
 ],
 "metadata": {
  "kernelspec": {
   "display_name": "Python 2",
   "language": "python",
   "name": "python2"
  },
  "language_info": {
   "codemirror_mode": {
    "name": "ipython",
    "version": 2
   },
   "file_extension": ".py",
   "mimetype": "text/x-python",
   "name": "python",
   "nbconvert_exporter": "python",
   "pygments_lexer": "ipython2",
   "version": "2.7.3"
  }
 },
 "nbformat": 4,
 "nbformat_minor": 0
}
