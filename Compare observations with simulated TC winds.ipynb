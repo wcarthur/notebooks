{
 "cells": [
  {
   "cell_type": "markdown",
   "metadata": {},
   "source": [
    "#Compare observations with simulated TC winds\n",
    "\n",
    "This notebook allows users to compare the observed and simulated winds from TCs. The observations are extracted from half-hourly AWS records from BoM stations (to 2013)."
   ]
  },
  {
   "cell_type": "code",
   "execution_count": 14,
   "metadata": {
    "collapsed": false
   },
   "outputs": [],
   "source": [
    "%matplotlib inline\n",
    "\n",
    "from __future__ import print_function, division\n",
    "\n",
    "import os\n",
    "from os.path import join as pjoin\n",
    "import numpy as np\n",
    "import pandas as pd\n",
    "import seaborn as sns\n",
    "import logging as log\n",
    "\n",
    "import matplotlib.pyplot as plt\n",
    "from matplotlib import cm\n",
    "\n",
    "from matplotlib.dates import HourLocator, DayLocator, DateFormatter\n",
    "\n",
    "from datetime import datetime\n",
    "from glob import glob\n",
    "import pytz\n",
    "\n",
    "import Utilities.metutils as metutils\n",
    "\n",
    "sns.set_style(\"ticks\")\n",
    "sns.set_context(\"poster\")"
   ]
  },
  {
   "cell_type": "code",
   "execution_count": 48,
   "metadata": {
    "collapsed": false
   },
   "outputs": [],
   "source": [
    "LTZ = pytz.timezone('Australia/Brisbane')\n",
    "UTC = pytz.utc\n",
    "def parseTime(yr, month, day, hour, minute):\n",
    "    #LTZ = pytz.timezone(tz)\n",
    "    #dt = LTZ.localize()\n",
    "    dt =    datetime(int(yr), int(month), int(day), int(hour), int(minute))\n",
    "    return dt\n",
    "\n",
    "def parseMetarTime(dtstr, tmstr):\n",
    "    dt = datetime.strptime(\"{0} {1}\".format(dtstr, tmstr), \"%Y%m%d %H%M\")\n",
    "    return UTC.localize(dt)\n",
    "\n",
    "HALFHOURLY_DTYPE = [('hm', 'S2'), ('stnId', 'i'), ('dtLocalYear', 'i'), ('dtLocalMonth', 'i'), ('dtLocalDay', 'i'),\n",
    "                    ('dtLocalHour', 'i'), ('dtLocalMinute', 'i'), ('dtStdYear', 'i'), ('dtStdMonth', 'i'), \n",
    "                    ('dtStdDay', 'i'), ('dtStdHour', 'i'), ('dtStdMinute', 'i'), ('WindSpeed', 'f8'), ('WindSpeedQual', 'S1'),\n",
    "                    ('WindDir', 'f8'), ('WindDirQual', 'S1'), ('WindGust', 'f8'), ('WindGustQual', 'S1'), ('AWSFlag', 'S1'),\n",
    "                    ('end', 'S1')]\n",
    "HALFHOURLY_NAMES = [fields[0] for fields in HALFHOURLY_DTYPE]\n",
    "CONVERTER = {'WindSpeed': lambda s: metutils.convert(float(s or 0), 'kmh', 'mps'),\n",
    "             'WindGust': lambda s: metutils.convert(float(s or 0), 'kmh', 'mps')}\n",
    "\n",
    "METAR_DTYPE = [('stnWMO', 'i'), ('stnCode', '|S4'), ('dtUTCDate', '|S8'), ('dtUTCTime', '|S4'),\n",
    "               ('stnLat', 'f8'), ('stnLon', 'f8'), ('WindDir', 'f8'), ('WindSpeed', 'f8'),\n",
    "               ('TempDry', 'f8'), ('DewPoint', 'f8'), ('MSLP', 'f8'), ('RF24hr', 'f8'), \n",
    "               ('RF10min', 'f8'), ('vis', 'f8'), ('Avis', 'f8'), ('WindGust', 'f8')]\n",
    "METAR_NAMES = [fields[0] for fields in METAR_DTYPE]\n",
    "\n",
    "\n",
    "TCRM_DTYPE = [('stnWMO', 'i'), ('dtUTCDatetime', 'S16'), ('stnLon', 'f8'), ('stnLat', 'f8'),\n",
    "              ('tcWindGust', 'f8'), ('tcUwind', 'f8'), ('tcVwind', 'f8'), ('tcWindDir', 'f8'),\n",
    "              ('tcMSLPressure', 'f8')]\n",
    "TCRM_NAMES = [fields[0] for fields in TCRM_DTYPE]\n",
    "TCRM_CONVERTER = {'dtUTCDatetime': lambda s: UTC.localize(datetime.strptime(s, \"%Y-%m-%d %H:%M\"))}\n"
   ]
  },
  {
   "cell_type": "code",
   "execution_count": 20,
   "metadata": {
    "collapsed": false
   },
   "outputs": [],
   "source": [
    "def intersect(a, b):\n",
    "    \"\"\" return the intersection of two lists \"\"\"\n",
    "    return list(set(a) & set(b))"
   ]
  },
  {
   "cell_type": "code",
   "execution_count": 21,
   "metadata": {
    "collapsed": true
   },
   "outputs": [],
   "source": [
    "obs_path = \"N:/climate_change/CHARS/B_Wind/data/raw/obs/halfhourly/\"\n",
    "metar_path = \"N:/climate_change/CHARS/B_Wind/data/derived/obs/metar/\"\n",
    "tcrm_path = \"N:/climate_change/CHARS/B_Wind/data/derived/tc/events/{0}/process/timeseries/\"\n",
    "\n",
    "obsbasename = \"HM01X_Data_{0:06d}_999999997960860.txt\"\n",
    "metarbasename = \"{0}-*.csv\"\n",
    "tcrmbase = \"ts.{0:d}.csv\"\n",
    "stnId = 200840\n",
    "stnWMO = 94283\n",
    "stnName = \"Cooktown AMO\"\n",
    "tcName = \"Ita\"\n",
    "tcId = \"bsh232014\""
   ]
  },
  {
   "cell_type": "code",
   "execution_count": 47,
   "metadata": {
    "collapsed": false
   },
   "outputs": [],
   "source": [
    "obsfname = pjoin(obs_path, obsbasename.format(int(stnId)))\n",
    "if os.path.exists(obsfname):\n",
    "    df = pd.read_csv(obsfname, skipinitialspace=True, skiprows=1, names=HALFHOURLY_NAMES, \n",
    "                     parse_dates={'dtLocalDatetime':['dtLocalYear', 'dtLocalMonth', \n",
    "                                                      'dtLocalDay', 'dtLocalHour', 'dtLocalMinute']}, \n",
    "                     date_parser=parseTime, index_col=False, converters=CONVERTER)\n",
    "obsdata = df.to_records()\n"
   ]
  },
  {
   "cell_type": "code",
   "execution_count": 8,
   "metadata": {
    "collapsed": false
   },
   "outputs": [],
   "source": [
    "tcrmfname = pjoin(tcrm_path.format(tcId), tcrmbase.format(int(stnWMO)))\n",
    "\n",
    "if os.path.exists(tcrmfname):\n",
    "    df = pd.read_csv(tcrmfname, skipinitialspace=True, skiprows=1, names=TCRM_NAMES,\n",
    "                     index_col=False, converters=TCRM_CONVERTER)\n",
    "tcrmdata = df.to_records()"
   ]
  },
  {
   "cell_type": "code",
   "execution_count": 230,
   "metadata": {
    "collapsed": false
   },
   "outputs": [],
   "source": [
    "dtint = np.sort(intersect(tcrmdata['dtUTCDatetime'], obsdata['dtLocalDatetime']))\n",
    "obsidx = [list(obsdata['dtLocalDatetime']).index(dt) for dt in dtint]\n",
    "tcrmidx = [list(tcrmdata['dtUTCDatetime']).index(dt) for dt in dtint]\n",
    "\n",
    "tcrmdt = tcrmdata['dtUTCDatetime'][tcrmidx]\n",
    "tcrmws = tcrmdata['tcWindGust'][tcrmidx]\n",
    "tcrmdir = tcrmdata['tcWindDir'][tcrmidx]\n",
    "\n",
    "obsdt = obsdata['dtLocalDatetime'][obsidx]\n",
    "obsws = obsdata['WindGust'][obsidx]\n",
    "obsdir = obsdata['WindDir'][obsidx]"
   ]
  },
  {
   "cell_type": "code",
   "execution_count": 231,
   "metadata": {
    "collapsed": false
   },
   "outputs": [],
   "source": [
    "dayLocator = DayLocator()\n",
    "hourLocator = HourLocator(interval=12)\n",
    "dateFormat = DateFormatter('\\n%Y-%m-%d')\n",
    "hourFormat = DateFormatter('%H:%MZ')\n",
    "fig, (ax1, ax2) = plt.subplots(2, 1, sharex=True)\n",
    "\n",
    "ax1.scatter(obsdt, obsws * 1.093, label=\"Observations\", color='r')\n",
    "ax1.plot(tcrmdt, tcrmws, label=\"Simulation\")\n",
    "ax1.set_xlim((tcrmdt[0], tcrmdt[-1]))\n",
    "#ax1.set_xlabel(\"Date\")\n",
    "\n",
    "\n",
    "ax1.set_title(\"{0} observations for TC {1}\".format(stnName, tcName))\n",
    "ax1.set_ylabel(\"Wind gust (m/s)\")\n",
    "ax1.set_ylim((0,80))\n",
    "ax1.legend(loc=2)\n",
    "\n",
    "ax2.scatter(obsdt, obsdir, label=\"Observations\", color='r')\n",
    "ax2.plot(tcrmdt, tcrmdir, label=\"Simulation\")\n",
    "ax2.set_xlim((tcrmdt[0], tcrmdt[-1]))\n",
    "ax2.set_ylim((0, 360))\n",
    "ax2.set_yticks(np.arange(0, 361, 45))\n",
    "ax2.set_ylabel(\"Wind direction\")\n",
    "ax2.set_xlabel(\"Date\")\n",
    "\n",
    "ax2.xaxis.set_minor_locator(hourLocator)\n",
    "ax2.xaxis.set_major_locator(dayLocator)\n",
    "ax2.xaxis.set_major_formatter(dateFormat)\n",
    "ax2.xaxis.set_minor_formatter(hourFormat)"
   ]
  },
  {
   "cell_type": "code",
   "execution_count": 232,
   "metadata": {
    "collapsed": false
   },
   "outputs": [],
   "source": [
    "fig, ax = plt.subplots(1, 2)\n",
    "ax[0].scatter(obsws.compress(obsws!=0)* 1.093, tcrmws.compress(obsws!=0))\n",
    "ax[0].set_xlabel(\"Observations\")\n",
    "ax[0].set_ylabel(\"Model\")\n",
    "ax[0].plot([0,60], [0,60], linestyle='--', color='k')\n",
    "ax[0].set_ylim((0, 60))\n",
    "ax[0].set_xlim((0, 60))\n",
    "ax[0].set_aspect(1)\n",
    "\n",
    "ax[1].scatter(obsdir.compress(obsws!=0), tcrmdir.compress(obsws!=0))\n",
    "ax[1].set_xlabel(\"Observations\")\n",
    "ax[1].set_ylabel(\"Model\")\n",
    "ax[1].plot([0,360], [0,360], linestyle='--', color='k')\n",
    "ax[1].set_ylim((0, 360))\n",
    "ax[1].set_xlim((0, 360))\n",
    "ax[1].set_aspect(1)\n",
    "fig.set_tight_layout(2)"
   ]
  },
  {
   "cell_type": "code",
   "execution_count": 233,
   "metadata": {
    "collapsed": false
   },
   "outputs": [],
   "source": [
    "n = len(tcrmws.compress(obsws!=0))\n",
    "rmse = np.linalg.norm(tcrmws.compress(obsws!=0) - obsws.compress(obsws!=0)* 1.093) / np.sqrt(n)\n",
    "print(rmse)\n",
    "\n",
    "mae = np.sum(np.absolute((tcrmws.compress(obsws!=0) - obsws.compress(obsws!=0)* 1.093))) / n\n",
    "print(mae)\n",
    "\n",
    "bias = np.mean(tcrmws.compress(obsws!=0) - obsws.compress(obsws!=0)* 1.093)\n",
    "print(bias)\n",
    "\n",
    "scatter = rmse/np.mean(obsws.compress(obsws!=0)* 1.093)\n",
    "print(scatter)"
   ]
  },
  {
   "cell_type": "code",
   "execution_count": 234,
   "metadata": {
    "collapsed": false
   },
   "outputs": [],
   "source": [
    "n = len(tcrmws.compress(obsws>10))\n",
    "rmse = np.linalg.norm(tcrmws.compress(obsws>10) - obsws.compress(obsws>10)* 1.093) / np.sqrt(n)\n",
    "print(rmse)\n",
    "\n",
    "mae = np.sum(np.absolute((tcrmws.compress(obsws>10) - obsws.compress(obsws>10)* 1.093))) / n\n",
    "print(mae)\n",
    "\n",
    "bias = np.mean(tcrmws.compress(obsws>10) - obsws.compress(obsws>10)* 1.093)\n",
    "print(bias)\n",
    "\n",
    "scatter = rmse/np.mean(obsws.compress(obsws>10)* 1.093)\n",
    "print(scatter)"
   ]
  },
  {
   "cell_type": "code",
   "execution_count": 6,
   "metadata": {
    "collapsed": false
   },
   "outputs": [],
   "source": [
    "metarfname = pjoin(metar_path, metarbasename.format(stnWMO))\n",
    "from glob import glob\n",
    "metarfiles = glob(metarfname)\n",
    "print(metarfiles)\n",
    "if os.path.exists(metarfiles[0]):\n",
    "    df = pd.read_csv(metarfiles[0], skipinitialspace=True, skiprows=1, names=METAR_NAMES, \n",
    "                     parse_dates={'dtUTCDatetime':['dtUTCDate', 'dtUTCTime']}, \n",
    "                     date_parser=parseMetarTime, index_col=False)\n",
    "metardata = df.to_records()"
   ]
  },
  {
   "cell_type": "code",
   "execution_count": 9,
   "metadata": {
    "collapsed": false
   },
   "outputs": [],
   "source": [
    "dtint = np.sort(intersect(tcrmdata['dtUTCDatetime'], metardata['dtUTCDatetime']))\n",
    "metaridx = [list(metardata['dtUTCDatetime']).index(dt) for dt in dtint]\n",
    "tcrmidx = [list(tcrmdata['dtUTCDatetime']).index(dt) for dt in dtint]\n",
    "\n",
    "tcrmdt = tcrmdata['dtUTCDatetime'][tcrmidx]\n",
    "tcrmws = tcrmdata['tcWindGust'][tcrmidx]\n",
    "tcrmdir = tcrmdata['tcWindDir'][tcrmidx]\n",
    "\n",
    "metardt = metardata['dtUTCDatetime'][metaridx]\n",
    "metarws = metardata['WindGust'][metaridx]\n",
    "metardir = metardata['WindDir'][metaridx]\n"
   ]
  },
  {
   "cell_type": "code",
   "execution_count": 12,
   "metadata": {
    "collapsed": false
   },
   "outputs": [],
   "source": [
    "dayLocator = DayLocator()\n",
    "hourLocator = HourLocator(interval=12)\n",
    "dateFormat = DateFormatter('\\n%Y-%m-%d')\n",
    "hourFormat = DateFormatter('%H:%MZ')\n",
    "fig, (ax1, ax2) = plt.subplots(2, 1, sharex=True)\n",
    "\n",
    "ax1.scatter(metardt, metarws * 1.093, label=\"Observations\", c='r')\n",
    "ax1.plot(tcrmdt, tcrmws, label=\"Simulation\")\n",
    "ax1.set_xlim((tcrmdt[0], tcrmdt[-1]))\n",
    "#ax1.set_xlabel(\"Date\")\n",
    "\n",
    "\n",
    "ax1.set_title(\"{0} observations for TC {1}\".format(stnName, tcName))\n",
    "ax1.set_ylabel(\"Wind gust (m/s)\")\n",
    "ax1.set_ylim((0,80))\n",
    "ax1.legend(loc=2)\n",
    "\n",
    "ax2.scatter(metardt, metardir, label=\"Observations\", c='r')\n",
    "ax2.plot(tcrmdt, tcrmdir, label=\"Simulation\")\n",
    "ax2.set_xlim((tcrmdt[0], tcrmdt[-1]))\n",
    "ax2.set_ylim((0, 360))\n",
    "ax2.set_yticks(np.arange(0, 361, 45))\n",
    "ax2.set_ylabel(\"Wind direction\")\n",
    "ax2.set_xlabel(\"Date\")\n",
    "\n",
    "ax2.xaxis.set_minor_locator(hourLocator)\n",
    "ax2.xaxis.set_major_locator(dayLocator)\n",
    "ax2.xaxis.set_major_formatter(dateFormat)\n",
    "ax2.xaxis.set_minor_formatter(hourFormat)"
   ]
  },
  {
   "cell_type": "code",
   "execution_count": 16,
   "metadata": {
    "collapsed": false
   },
   "outputs": [],
   "source": [
    "fig, ax = plt.subplots(1, 2)\n",
    "ax[0].scatter(metarws.compress(metarws!=0)* 1.093, tcrmws.compress(metarws!=0), \n",
    "              c=metarws.compress(metarws!=0)* 1.093, cmap=cm.get_cmap('hot'))\n",
    "ax[0].set_xlabel(\"Observations\")\n",
    "ax[0].set_ylabel(\"Model\")\n",
    "ax[0].plot([0,60], [0,60], linestyle='--', color='k')\n",
    "ax[0].set_ylim((0, 60))\n",
    "ax[0].set_xlim((0, 60))\n",
    "ax[0].set_aspect(1)\n",
    "ax[1].scatter(metardir.compress(metarws!=0), tcrmdir.compress(metarws!=0), \n",
    "              c=metarws.compress(metarws!=0)* 1.093, cmap=cm.get_cmap('hot'))\n",
    "ax[1].set_xlabel(\"Observations\")\n",
    "ax[1].set_ylabel(\"Model\")\n",
    "ax[1].plot([0,360], [0,360], linestyle='--', color='k')\n",
    "ax[1].set_ylim((0, 360))\n",
    "ax[1].set_xlim((0, 360))\n",
    "ax[1].set_aspect(1)\n",
    "fig.set_tight_layout(2)"
   ]
  },
  {
   "cell_type": "code",
   "execution_count": 17,
   "metadata": {
    "collapsed": false,
    "scrolled": true
   },
   "outputs": [],
   "source": [
    "n = len(tcrmws.compress(metarws!=0))\n",
    "rmse = np.linalg.norm(tcrmws.compress(metarws!=0) - metarws.compress(metarws!=0)* 1.093) / np.sqrt(n)\n",
    "print(rmse)\n",
    "\n",
    "mae = np.sum(np.absolute((tcrmws.compress(metarws!=0) - metarws.compress(metarws!=0)* 1.093))) / n\n",
    "print(mae)\n",
    "\n",
    "bias = np.mean(tcrmws.compress(metarws!=0) - metarws.compress(metarws!=0)* 1.093)\n",
    "print(bias)\n",
    "\n",
    "scatter = rmse/np.mean(metarws.compress(metarws!=0)* 1.093)\n",
    "print(scatter)"
   ]
  },
  {
   "cell_type": "code",
   "execution_count": 18,
   "metadata": {
    "collapsed": false
   },
   "outputs": [],
   "source": [
    "n = len(tcrmws.compress(metarws>10))\n",
    "rmse = np.linalg.norm(tcrmws.compress(metarws>10) - metarws.compress(metarws>10)* 1.093) / np.sqrt(n)\n",
    "print(rmse)\n",
    "\n",
    "mae = np.sum(np.absolute((tcrmws.compress(metarws>10) - metarws.compress(metarws>10)* 1.093))) / n\n",
    "print(mae)\n",
    "\n",
    "bias = np.mean(tcrmws.compress(metarws>10) - metarws.compress(metarws>10)* 1.093)\n",
    "print(bias)\n",
    "\n",
    "scatter = rmse/np.mean(metarws.compress(metarws>10)* 1.093)\n",
    "print(scatter)"
   ]
  },
  {
   "cell_type": "code",
   "execution_count": 73,
   "metadata": {
    "collapsed": false
   },
   "outputs": [],
   "source": [
    "eventfile = \"C:/WorkSpace/obs/tcevents.csv\"\n",
    "eventdf = pd.read_csv(eventfile, index_col=False)\n",
    "print(len(eventdf))"
   ]
  },
  {
   "cell_type": "code",
   "execution_count": 72,
   "metadata": {
    "collapsed": false
   },
   "outputs": [],
   "source": [
    "for rec in eventdf.itertuples():\n",
    "    idx, tcName, tcId, stnName, stnTZ, stnType, stnId, stnWMO = rec\n",
    "    print(tcName, tcId, stnName, stnTZ)"
   ]
  }
 ],
 "metadata": {
  "kernelspec": {
   "display_name": "Python 2",
   "language": "python",
   "name": "python2"
  },
  "language_info": {
   "codemirror_mode": {
    "name": "ipython",
    "version": 2
   },
   "file_extension": ".py",
   "mimetype": "text/x-python",
   "name": "python",
   "nbconvert_exporter": "python",
   "pygments_lexer": "ipython2",
   "version": "2.7.3"
  }
 },
 "nbformat": 4,
 "nbformat_minor": 0
}
