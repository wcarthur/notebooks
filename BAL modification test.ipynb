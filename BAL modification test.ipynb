{
 "cells": [
  {
   "cell_type": "markdown",
   "metadata": {},
   "source": [
    "# Bushfire Attack Level Toolbox - fixing dependencies\n",
    "\n",
    "An undocumented dependency exists in the Bushfire Attack Level Toolbox (BAL Toolbox) code [http://github.com/GeoscienceAustralia/BAL], where the `scipy.ndimage` package is required to calculate the gradient of the input digital elevation model. \n",
    "\n",
    "However, because the BAL Toolbox is built on the Arcpy module, it is difficult to install the Scipy library. The `arcpy` module is built against a specific (and modified) version of `numpy`. Finding a version of `scipy` that matches the `numpy` version is nigh on impossible. Upgrading the installed version of `numpy` is also not possible, as this breaks the `arcpy` installation.\n",
    "\n",
    "This notebook is to test the option of replacing the function from `scipy.ndimage` with the `numpy.gradient` function. "
   ]
  },
  {
   "cell_type": "code",
   "execution_count": 1,
   "metadata": {
    "collapsed": true
   },
   "outputs": [],
   "source": [
    "%matplotlib inline\n",
    "\n",
    "import numpy as np\n",
    "import scipy.ndimage as scnd\n",
    "\n",
    "import matplotlib.pyplot as plt\n"
   ]
  },
  {
   "cell_type": "markdown",
   "metadata": {},
   "source": [
    "## Some definitions\n",
    "\n",
    "The BAL Toolbox uses the `scipy.ndimage.sobel` function to calculate the gradient of the input DEM in the x- and y-directions. The Sobel filter is in fact an operator suited to edge detection, which calculates an approximation to the gradient.  The Sobel filter is defined as:\n",
    "\n",
    "$\\mathbf{G}_x = \\begin{bmatrix} \n",
    " +1 & 0 & -1  \\\\\n",
    "+2 & 0 & -2 \\\\\n",
    "+1 & 0 & -1 \n",
    "\\end{bmatrix} * \\mathbf{A}\n",
    "\\quad\n",
    "\\mbox{and}\n",
    "\\quad   \n",
    "\\mathbf{G}_y = \\begin{bmatrix} \n",
    " +1 & +2 & +1\\\\\n",
    " 0 & 0 & 0 \\\\\n",
    "-1 & -2 & -1\n",
    "\\end{bmatrix} * \\mathbf{A}$\n",
    "\n",
    "where  $*$ here denotes the 2-dimensional signal processing convolution operation.\n",
    "\n",
    "Since the Sobel kernels can be decomposed as the products of an averaging and a differentiation kernel, they compute the gradient with smoothing. For example, $\\mathbf {G_{x}}$  can be written as:\n",
    "\n",
    "$\\begin{bmatrix}+1&0&-1\\\\+2&0&-2\\\\+1&0&-1\\end{bmatrix}={\\begin{bmatrix}1\\\\2\\\\1\\end{bmatrix}}{\\begin{bmatrix}+1&0&-1\\end{bmatrix}}$"
   ]
  },
  {
   "cell_type": "markdown",
   "metadata": {},
   "source": [
    "In contrast, the `numpy.gradient` operator calculates a second order accurate central difference in the interior and either first difference or second order accurate one-sides (forward or backwards) difference at the boundaries. This has no smoothing applied."
   ]
  },
  {
   "cell_type": "markdown",
   "metadata": {},
   "source": [
    "## Test set up\n",
    "\n",
    "We set up a simple grid, representing an elevation model, with a uniform north-south ridge in the middle of the domain. Some random variation is added, then a smoothing filter passed over the grid. \n",
    "\n",
    "We then calculate the slope using `numpy.gradient` and `scipy.ndimage.sobel` and compare the results."
   ]
  },
  {
   "cell_type": "code",
   "execution_count": 34,
   "metadata": {},
   "outputs": [],
   "source": [
    "np.random.seed(1)\n",
    "\n",
    "\n",
    "nx = 401\n",
    "ny = 401\n",
    "dx = 25.\n",
    "dy = 25.\n",
    "ht = np.zeros((nx, ny))\n",
    "\n",
    "hill_width=2000 # Hill width (m) - same as hill_width in WRF emles code!\n",
    "idx = hill_width/dx\n",
    "xs = nx/2 - idx\n",
    "xe = xs + 2.*idx\n",
    "ys = ny/2 - idx\n",
    "ye = ys + 2.*idx\n",
    "xx, yy = np.meshgrid(np.arange(ny), np.arange(nx))\n",
    "xm = xx * dx\n",
    "ym = yy * dx\n",
    "\n",
    "for i in range(nx):\n",
    "    for j in range(int(ys), int(ye)):\n",
    "        ht[i,j] =  250. * 0.5 * (1. + np.cos(2*np.pi/(ye-ys) *(j-ys)+ np.pi))\n",
    "        \n",
    "r = np.random.normal(0, 0.5,size=(nx, ny))\n",
    "\n",
    "ht += r\n",
    "f = np.ones((3,3))/9.\n",
    "ht = scnd.convolve(ht, f)\n",
    "\n",
    "plt.contourf(xm, ym, ht, cmap='terrain')\n",
    "plt.axes().set_aspect('equal')\n",
    "plt.colorbar()\n",
    "plt.title(\"Elevation (m)\")"
   ]
  },
  {
   "cell_type": "markdown",
   "metadata": {},
   "source": [
    "First, calculate the slope using `numpy.gradient`. In this case, we can automatically include the grid spacing in the function call. "
   ]
  },
  {
   "cell_type": "code",
   "execution_count": 35,
   "metadata": {},
   "outputs": [],
   "source": [
    "slope_x, slope_y = np.gradient(ht, dx)\n",
    "slope_np = np.hypot(slope_x, slope_y)\n",
    "print(slope_y.max())\n",
    "print(slope_y.min())\n",
    "\n",
    "\n",
    "# In[11]:\n",
    "\n",
    "plt.contourf(xm, ym, slope_np, cmap='seismic')\n",
    "plt.axes().set_aspect('equal')\n",
    "plt.colorbar()\n",
    "plt.title(\"Hill slope (fractional)\")"
   ]
  },
  {
   "cell_type": "markdown",
   "metadata": {},
   "source": [
    "Now calculate the slope using the Sobel filter. Here, we need to account for the fact that the convolution filter applied needs to be normalised, and the grid spacing also needs to be included explicitly."
   ]
  },
  {
   "cell_type": "code",
   "execution_count": 36,
   "metadata": {},
   "outputs": [],
   "source": [
    "dzdx = scnd.sobel(ht, axis=1)/(8.*dx)\n",
    "dzdy = scnd.sobel(ht, axis=0)/(8.*dy)\n",
    "slope_sc = np.hypot(dzdx, dzdy)\n",
    "\n",
    "plt.contourf(xm, ym, slope_sc, cmap='seismic')\n",
    "plt.axes().set_aspect('equal')\n",
    "plt.colorbar()\n",
    "plt.title(\"Hill slope (fractional)\")"
   ]
  },
  {
   "cell_type": "markdown",
   "metadata": {},
   "source": [
    "Finally, we take the difference of the two."
   ]
  },
  {
   "cell_type": "code",
   "execution_count": 37,
   "metadata": {},
   "outputs": [],
   "source": [
    "plt.contourf(xm, ym, slope_sc - slope_np, cmap='seismic')\n",
    "plt.axes().set_aspect('equal')\n",
    "plt.colorbar()\n",
    "plt.title(\"Hill slope difference\")"
   ]
  },
  {
   "cell_type": "code",
   "execution_count": 38,
   "metadata": {},
   "outputs": [],
   "source": [
    "plt.contourf(xm, ym, (slope_sc - slope_np)/slope_sc, cmap='seismic')\n",
    "plt.axes().set_aspect('equal')\n",
    "plt.colorbar()\n",
    "plt.title(\"Hill slope difference (fractional)\")"
   ]
  },
  {
   "cell_type": "markdown",
   "metadata": {},
   "source": [
    "In the case of no random variation to the input elevation grid, the results are indistiguishable."
   ]
  },
  {
   "cell_type": "code",
   "execution_count": 39,
   "metadata": {
    "collapsed": true
   },
   "outputs": [],
   "source": [
    "import numexpr\n",
    "RADIANS_PER_DEGREE = np.pi/180.\n",
    "aspect_array = numexpr.evaluate(\n",
    "        \"(450 - arctan2(dzdy, -dzdx) / RADIANS_PER_DEGREE) % 360\")\n",
    "\n",
    "aspect_np = np.mod((450. - np.arctan2(dzdy, -dzdx)/RADIANS_PER_DEGREE), 360.)\n",
    "\n"
   ]
  },
  {
   "cell_type": "code",
   "execution_count": 40,
   "metadata": {},
   "outputs": [],
   "source": [
    "plt.contourf(xm, ym, (aspect_array - aspect_np), cmap='seismic')\n",
    "plt.axes().set_aspect('equal')\n",
    "plt.colorbar()\n",
    "plt.title(\"Hill aspect difference\")"
   ]
  }
 ],
 "metadata": {
  "kernelspec": {
   "display_name": "Python 2",
   "language": "python",
   "name": "python2"
  },
  "language_info": {
   "codemirror_mode": {
    "name": "ipython",
    "version": 2
   },
   "file_extension": ".py",
   "mimetype": "text/x-python",
   "name": "python",
   "nbconvert_exporter": "python",
   "pygments_lexer": "ipython2",
   "version": "2.7.3"
  }
 },
 "nbformat": 4,
 "nbformat_minor": 2
}
