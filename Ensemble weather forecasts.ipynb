{
 "cells": [
  {
   "cell_type": "markdown",
   "metadata": {},
   "source": [
    "Analysing the weather using netcdf and basemap\n",
    "============================================="
   ]
  },
  {
   "cell_type": "markdown",
   "metadata": {},
   "source": [
    "Using [netcdf4-python](http://netcdf4-python.googlecode.com) to read some [NOMADS](http://nomads.ncep.noaa.gov/txt_descriptions/NOMADS_doc.shtml) [openDAP](http://opendap.org) ensemble forecast data, use [numpy](http://numpy.org) to do some rudimentary analysis, and have [matplotlib](http://matplotlib.org) and [Basemap](http://matplotlib.org/basemap) plot the results. "
   ]
  },
  {
   "cell_type": "code",
   "execution_count": 1,
   "metadata": {
    "collapsed": true
   },
   "outputs": [],
   "source": [
    "%matplotlib inline"
   ]
  },
  {
   "cell_type": "code",
   "execution_count": 2,
   "metadata": {
    "collapsed": false
   },
   "outputs": [],
   "source": [
    "from mpl_toolkits.basemap import Basemap  # import Basemap matplotlib toolkit\n",
    "import numpy as np\n",
    "import matplotlib.pyplot as plt\n",
    "import matplotlib.gridspec as gridspec\n",
    "\n",
    "from mpl_toolkits.basemap import cm as basemapcm\n",
    "from mpl_toolkits.axes_grid1 import make_axes_locatable\n",
    "from netCDF4 import Dataset, num2date  # netcdf4-python module\n",
    "from datetime import datetime, timedelta\n",
    "\n",
    "# Import widgets for interactive notebook\n",
    "from IPython.html.widgets import interact, fixed\n",
    "from IPython.html import widgets"
   ]
  },
  {
   "cell_type": "markdown",
   "metadata": {},
   "source": [
    "First we need to determine the correct forecast time to be retrieving. The global ensemble forecast output is published generally around 6 hours following the initial time, so we need to work backwards from the present UTC time. "
   ]
  },
  {
   "cell_type": "code",
   "execution_count": 3,
   "metadata": {
    "collapsed": false
   },
   "outputs": [],
   "source": [
    "def get_forecast_time(delay=6):\n",
    "    now = datetime.utcnow()\n",
    "    print \"Current time: {0}\".format(now)\n",
    "    fcast_time = datetime.utcnow()\n",
    "    if now.hour < delay:\n",
    "        fcast_time = fcast_time - timedelta(1)\n",
    "        fcast_time = fcast_time.replace(hour=delay+6, minute=0)\n",
    "    elif (now.hour >=delay and now.hour < (delay+12)):\n",
    "        fcast_time = fcast_time.replace(hour=0)\n",
    "    elif now.hour >= (delay+12):\n",
    "        fcast_time = fcast_time.replace(hour=12)\n",
    "    print \"Forecast time: {0}\".format(fcast_time)\n",
    "    return fcast_time"
   ]
  },
  {
   "cell_type": "markdown",
   "metadata": {},
   "source": [
    "Open an a [NOMADS](http://nomads.ncep.noaa.gov/txt_descriptions/NOMADS_doc.shtml) dataset containing NOAA/NCEP global ensemble forecast output with the netcdf4-python module.  Only the last week of forecasts are kept online, so you'll probably have to change the date in this URL to make it work.  "
   ]
  },
  {
   "cell_type": "code",
   "execution_count": 4,
   "metadata": {
    "collapsed": false
   },
   "outputs": [],
   "source": [
    "fcast_time = get_forecast_time()\n",
    "fcast_date_string = fcast_time.strftime(\"gens%Y%m%d/gep_all_%Hz\")\n",
    "data_url = 'http://nomads.ncep.noaa.gov:80/dods/gens/{0}'.format(fcast_date_string)\n",
    "print \"Dataset URL: \" +  data_url"
   ]
  },
  {
   "cell_type": "code",
   "execution_count": 6,
   "metadata": {
    "collapsed": false
   },
   "outputs": [],
   "source": [
    "gfs_fcst = Dataset(data_url)\n",
    "print \"\"\n",
    "print \"Dataset description:\"\n",
    "print gfs_fcst"
   ]
  },
  {
   "cell_type": "markdown",
   "metadata": {},
   "source": [
    "Get the available forecast times and convert to [datetime](http://docs.python.org/2/library/datetime.html) instances."
   ]
  },
  {
   "cell_type": "code",
   "execution_count": 7,
   "metadata": {
    "collapsed": false
   },
   "outputs": [],
   "source": [
    "time = gfs_fcst.variables['time']\n",
    "\n",
    "print time\n",
    "print \"Units: \" + time.units\n",
    "valid_dates = num2date(time[:], time.units).tolist()\n",
    "timelist = [d.strftime('%Y-%m-%d %H:%M') for d in valid_dates]\n",
    "print \"\\nValid times:\"\n",
    "print timelist\n",
    "levels = gfs_fcst.variables['lev']\n",
    "print \"\\nLevels:\"\n",
    "print [level for level in levels[:]]"
   ]
  },
  {
   "cell_type": "markdown",
   "metadata": {},
   "source": [
    "Plot the ensemble mean on a basemap covering Australia."
   ]
  },
  {
   "cell_type": "code",
   "execution_count": 8,
   "metadata": {
    "collapsed": false
   },
   "outputs": [],
   "source": [
    "def plot_mean(timestamp, threshold=5.):\n",
    "    idx = timelist.index(timestamp)\n",
    "    apcpens = gfs_fcst.variables['apcpsfc'][:,idx,:,:]\n",
    "    prmslens = gfs_fcst.variables['prmslmsl'][:,idx,:,:]\n",
    "    hgt1000 = gfs_fcst.variables['hgtprs'][:,idx,0,:,:]\n",
    "    hgt500 = gfs_fcst.variables['hgtprs'][:,idx,12,:,:]\n",
    "    thkens = (hgt500 - hgt1000)/10.\n",
    "    apcp = apcpens.mean(axis=0)\n",
    "    prmsl = prmslens.mean(axis=0)\n",
    "    thk = thkens.mean(axis=0)\n",
    "\n",
    "    lats = gfs_fcst.variables['lat'][:]; lons = gfs_fcst.variables['lon'][:]\n",
    "    lons, lats = np.meshgrid(lons, lats)\n",
    "    fig = plt.figure(figsize=(18,12))\n",
    "    gs = gridspec.GridSpec(3,4)\n",
    "    \n",
    "    ax1 = plt.subplot(gs[0:2,:])\n",
    "    ax2 = plt.subplot(gs[-1,0:2])\n",
    "    ax3 = plt.subplot(gs[-1,3:-1])\n",
    "    m = Basemap(ax=ax1,projection='mill',llcrnrlon=130., llcrnrlat=-45, \n",
    "                urcrnrlon=160., urcrnrlat=-25.,resolution='i')\n",
    "    \n",
    "    m.drawcoastlines()\n",
    "    m.drawstates()\n",
    "    m.drawcountries()\n",
    "    x,y = m(lons, lats) # convert lats/lons to map projection coordinates\n",
    "    clevs = [0,.1,.25,.5,.75,1.0,1.5,2.0,3.0,4.0,5.0,7.0,10.0,15.0,20.0,25.0,30.0,40.0,50.0,60.0,75.0]\n",
    "\n",
    "    cs = m.contourf(x,y,apcp,clevs,cmap=basemapcm.s3pcpn,extend='max')  # color-filled contours\n",
    "    ct = m.contour(x,y,thk, np.arange(500, 600, 4), colors='0.75', linestyle='--')\n",
    "    ct540 = m.contour(x, y, thk, [540], colors='b', linestyle='--')\n",
    "    cp = m.contour(x,y,prmsl/100.,np.arange(900, 1040, 2), colors='k')\n",
    "    cb = m.colorbar(cs,extend='max')  # draw colorbar\n",
    "    parallels = m.drawparallels(np.arange(-50,0,10),labels=[1,0,0,0])  # draw parallels, label on left\n",
    "    meridians = m.drawmeridians(np.arange(80,190,10),labels=[0,0,0,1]) # label meridians on bottom\n",
    "    \n",
    "    fig.suptitle('ens mean apcp fcst from %s for %s' % (valid_dates[0],valid_dates[idx]),fontweight='bold')\n",
    "    \n",
    "    rainprob = 100.*((apcpens > threshold ).sum(axis=0))/apcpens.shape[0]\n",
    "    m1 = Basemap(ax=ax2,projection='mill',llcrnrlon=130., llcrnrlat=-45, \n",
    "                urcrnrlon=160., urcrnrlat=-25.,resolution='i')\n",
    "    m1.drawcoastlines(color='r')\n",
    "    \n",
    "    cs1 = m1.contourf(x,y,rainprob,np.linspace(0,100.,41),cmap=basemapcm.GMT_haxby_r)\n",
    "    m1.drawstates()\n",
    "    cb1 = m1.colorbar(cs1)\n",
    "    \n",
    "    t = ax2.set_title('ens prob apcpsfc > {0} mm'.format(threshold), fontsize='small')\n",
    "    \n",
    "    m2 = Basemap(ax=ax3,projection='mill',llcrnrlon=130., llcrnrlat=-45, \n",
    "                urcrnrlon=160., urcrnrlat=-25.,resolution='i')\n",
    "    rainsd = np.std(apcpens, axis=0)\n",
    "    m2.drawcoastlines(color='r')\n",
    "    cs2 = m2.contourf(x,y,rainsd,np.linspace(0,10.,41),cmap=basemapcm.GMT_haxby_r,extend='max')\n",
    "    m2.drawstates()\n",
    "    cb2 = m2.colorbar(cs2,extend='max')\n",
    "   \n",
    "    t = ax3.set_title('Ensemble S.D.', fontsize='small')\n",
    "    #fig.tight_layout(h_pad=0.02, w_pad=0.02)"
   ]
  },
  {
   "cell_type": "markdown",
   "metadata": {},
   "source": [
    "What's the probability of more than 5 mm of rain in the forecast period (accumulated in the 6 hours preceding the selected time)? "
   ]
  },
  {
   "cell_type": "markdown",
   "metadata": {},
   "source": [
    "There's a wide range of outcomes among the ensemble members. To visualise this, we plot the standard deviation of the accumulated precipitation field across the ensemble members. "
   ]
  },
  {
   "cell_type": "code",
   "execution_count": 9,
   "metadata": {
    "collapsed": false
   },
   "outputs": [],
   "source": [
    "interact(plot_mean, timestamp=widgets.Dropdown(options=timelist, value=timelist[1]),\n",
    "         threshold=(0.0,20.0, 1.0))"
   ]
  },
  {
   "cell_type": "markdown",
   "metadata": {},
   "source": [
    "Ensemble weather prediction systems run multiple versions of the same model, each with slightly varying initial conditions. In this case, the NCEP Ensemble Prediction System runs 20 members. As time evolves, the solutions diverge. We plot every ensemble member to get an idea of the forecast uncertainty using the matplotlib.pyplot subplot function."
   ]
  },
  {
   "cell_type": "code",
   "execution_count": 12,
   "metadata": {
    "collapsed": false
   },
   "outputs": [],
   "source": [
    "def plot_ensemble(timestamp):\n",
    "    \n",
    "    idx = timelist.index(timestamp)\n",
    "    apcpens = gfs_fcst.variables['apcpsfc'][:,idx,:,:] #- 273.15\n",
    "    prmslens = gfs_fcst.variables['prmslmsl'][:,idx,:,:]\n",
    "    hgt1000 = gfs_fcst.variables['hgtprs'][:,idx,0,:,:]\n",
    "    hgt500 = gfs_fcst.variables['hgtprs'][:,idx,12,:,:]\n",
    "    thkens = (hgt500 - hgt1000)/10.\n",
    "    apcp = apcpens.mean(axis=0)\n",
    "    prmsl = prmslens.mean(axis=0)\n",
    "    thk = thkens.mean(axis=0)\n",
    "\n",
    "    lats = gfs_fcst.variables['lat'][:]; lons = gfs_fcst.variables['lon'][:]\n",
    "    lons, lats = np.meshgrid(lons, lats) \n",
    "    clevs = [0,.1,.25,.5,.75,1.0,1.5,2.0,3.0,4.0,5.0,7.0,10.0,15.0,20.0,25.0,30.0,40.0,50.0,60.0,75.0]\n",
    "    m = Basemap(projection='mill',llcrnrlon=130., llcrnrlat=-45, urcrnrlon=160., urcrnrlat=-25.,resolution='i')\n",
    "    x,y = m(lons, lats)\n",
    "    fig = plt.figure(figsize=(20,16))\n",
    "    for nens in range(1,21):\n",
    "        ax = plt.subplot(5,4,nens)\n",
    "        m.drawcoastlines()\n",
    "        cs = m.contourf(x,y,apcpens[nens],clevs,cmap=basemapcm.s3pcpn)\n",
    "        ct = m.contour(x,y, thkens[nens],np.arange(500, 600, 4), colors='0.75', linestyle=':')\n",
    "        ct540 = m.contour(x, y, thkens[nens], [540], colors='b', linestyle='--')\n",
    "        cp = m.contour(x,y,prmslens[nens]/100.,np.arange(900, 1040, 2),colors='k')\n",
    "        t = plt.title('Member %s' % nens)\n",
    "    \n",
    "    fig.suptitle('Ensemble apcp forecast from %s for %s' % (valid_dates[0],valid_dates[idx]),fontweight='bold')\n",
    "    plt.tight_layout()\n",
    "    "
   ]
  },
  {
   "cell_type": "markdown",
   "metadata": {},
   "source": [
    "Plot each of the ensemble members to highligt the subtle differences between each member. Earlier in the forecast period, there's likely to be little difference between them, but towards the end of the period, we would expect to see larger differences as the solutions all diverge based on the slightly different initial conditions. "
   ]
  },
  {
   "cell_type": "code",
   "execution_count": 13,
   "metadata": {
    "collapsed": false,
    "scrolled": false
   },
   "outputs": [],
   "source": [
    "interact(plot_ensemble, timestamp=widgets.Dropdown(options=timelist, value=timelist[1]))"
   ]
  },
  {
   "cell_type": "code",
   "execution_count": null,
   "metadata": {
    "collapsed": false
   },
   "outputs": [],
   "source": [
    "def plot_mean_wind(timestamp, threshold=15.):\n",
    "    idx = timelist.index(timestamp)\n",
    "    uu = gfs_fcst.variables['ugrdsig995'][:,idx,:,:]\n",
    "    vv = gfs_fcst.variables['vgrdsig995'][:,idx,:,:]\n",
    "    wspd = np.sqrt(uu*uu + vv*vv)\n",
    "    prmslens = gfs_fcst.variables['prmslmsl'][:,idx,:,:]\n",
    "    hgt1000 = gfs_fcst.variables['hgtprs'][:,idx,0,:,:]\n",
    "    hgt500 = gfs_fcst.variables['hgtprs'][:,idx,12,:,:]\n",
    "    thkens = (hgt500 - hgt1000)/10.\n",
    "    wspdmean = wspd.mean(axis=0)\n",
    "    prmsl = prmslens.mean(axis=0)\n",
    "    thk = thkens.mean(axis=0)\n",
    "\n",
    "    lats = gfs_fcst.variables['lat'][:]; lons = gfs_fcst.variables['lon'][:]\n",
    "    lons, lats = np.meshgrid(lons, lats)\n",
    "    fig = plt.figure(figsize=(18,12))\n",
    "    gs = gridspec.GridSpec(3,4)\n",
    "    \n",
    "    ax1 = plt.subplot(gs[0:2,:])\n",
    "    ax2 = plt.subplot(gs[-1,0:2])\n",
    "    ax3 = plt.subplot(gs[-1,3:-1])\n",
    "    m = Basemap(ax=ax1,projection='mill',llcrnrlon=130., llcrnrlat=-45, \n",
    "                urcrnrlon=160., urcrnrlat=-25.,resolution='i')\n",
    "    m.drawcoastlines()\n",
    "    m.drawstates()\n",
    "    m.drawcountries()\n",
    "    x,y = m(lons, lats) # convert lats/lons to map projection coordinates\n",
    "    clevs = np.arange(5.,41.)\n",
    "\n",
    "    cs = m.contourf(x,y,wspdmean,clevs,cmap=basemapcm.GMT_haxby_r, extend='both')  # color-filled contours\n",
    "    ct = m.contour(x,y,thk, np.arange(500, 600, 4), colors='0.75', linestyle='--')\n",
    "    cp = m.contour(x,y,prmsl/100.,np.arange(900, 1040, 2), colors='k')\n",
    "    cb = m.colorbar(cs,extend='both')  # draw colorbar\n",
    "    parallels = m.drawparallels(np.arange(-50,0,10),labels=[1,0,0,0])  # draw parallels, label on left\n",
    "    meridians = m.drawmeridians(np.arange(80,190,10),labels=[0,0,0,1]) # label meridians on bottom\n",
    "    \n",
    "    fig.suptitle('ens mean wind speed fcst from %s for %s' % (valid_dates[0],valid_dates[idx]),fontweight='bold')\n",
    "    \n",
    "    windprob = 100.*((wspd > threshold ).sum(axis=0))/wspd.shape[0]\n",
    "    m1 = Basemap(ax=ax2,projection='mill',llcrnrlon=130., llcrnrlat=-45, \n",
    "                urcrnrlon=160., urcrnrlat=-25.,resolution='i')\n",
    "    m1.drawcoastlines(color='k')\n",
    "    \n",
    "    cs1 = m1.contourf(x,y,windprob,np.linspace(0,100.,41),cmap=basemapcm.GMT_haxby_r)\n",
    "    m1.drawstates()\n",
    "    cb1 = m1.colorbar(cs1)\n",
    "    parallels = m1.drawparallels(np.arange(-50,0,10),labels=[0,0,0,0])  # draw parallels, label on left\n",
    "    meridians = m1.drawmeridians(np.arange(80,180,10),labels=[0,0,0,0]) # label meridians on bottom\n",
    "    \n",
    "    \n",
    "    t = ax2.set_title('ens prob wind speed > {0} m/s'.format(threshold), fontsize='small')\n",
    "    \n",
    "    m2 = Basemap(ax=ax3,projection='mill',llcrnrlon=130., llcrnrlat=-45, \n",
    "                urcrnrlon=160., urcrnrlat=-25.,resolution='i')\n",
    "    windsd = np.std(wspd, axis=0)\n",
    "    m2.drawcoastlines(color='k')\n",
    "    cs2 = m2.contourf(x,y,windsd,np.linspace(0,20.,41),cmap=basemapcm.GMT_haxby_r,extend='max')\n",
    "    m2.drawstates()\n",
    "    cb2 = m2.colorbar(cs2,extend='max')\n",
    "    parallels = m2.drawparallels(np.arange(-50,0,10),labels=[0,0,0,0])  \n",
    "    meridians = m2.drawmeridians(np.arange(80,180,10),labels=[0,0,0,0]) \n",
    "   \n",
    "    t = ax3.set_title('Ensemble S.D.', fontsize='small')\n",
    "    fig.tight_layout(h_pad=0.02, w_pad=0.02)"
   ]
  },
  {
   "cell_type": "code",
   "execution_count": null,
   "metadata": {
    "collapsed": false
   },
   "outputs": [],
   "source": [
    "interact(plot_mean_wind, timestamp=widgets.Dropdown(options=timelist, value=timelist[1]),\n",
    "         threshold=(5.0,25.0, 1.0))"
   ]
  },
  {
   "cell_type": "code",
   "execution_count": null,
   "metadata": {
    "collapsed": false
   },
   "outputs": [],
   "source": [
    "def plot_ensemble_wind(timestamp):\n",
    "    \n",
    "    #idx = valid_dates.index(datetime.strptime(timestamp,\"%Y%m%d%H\"))\n",
    "    idx = timelist.index(timestamp)\n",
    "    #timestring = valid_dates[idx]\n",
    "    uu = gfs_fcst.variables['ugrdsig995'][:,idx,:,:]\n",
    "    vv = gfs_fcst.variables['vgrdsig995'][:,idx,:,:]\n",
    "    wspdens = np.sqrt(uu*uu + vv*vv)\n",
    "    prmslens = gfs_fcst.variables['prmslmsl'][:,idx,:,:]\n",
    "    hgt1000 = gfs_fcst.variables['hgtprs'][:,idx,0,:,:]\n",
    "    hgt500 = gfs_fcst.variables['hgtprs'][:,idx,12,:,:]\n",
    "    thkens = (hgt500 - hgt1000)/10.\n",
    "    wspd = wspdens.mean(axis=0)\n",
    "    prmsl = prmslens.mean(axis=0)\n",
    "    thk = thkens.mean(axis=0)\n",
    "\n",
    "    lats = gfs_fcst.variables['lat'][:]; lons = gfs_fcst.variables['lon'][:]\n",
    "    lons, lats = np.meshgrid(lons, lats) \n",
    "    clevs = np.arange(5., 41.)\n",
    "    m = Basemap(projection='mill',llcrnrlon=130., llcrnrlat=-45, \n",
    "                urcrnrlon=160., urcrnrlat=-25.,resolution='i')\n",
    "    x,y = m(lons, lats)\n",
    "    fig = plt.figure(figsize=(20,16))\n",
    "    for nens in range(1,21):\n",
    "        ax = plt.subplot(5,4,nens)\n",
    "        m.drawcoastlines()\n",
    "        cs = m.contourf(x,y, wspdens[nens], clevs, cmap=basemapcm.GMT_haxby_r, extend='both')\n",
    "        ct = m.contour(x,y, thkens[nens],np.arange(500, 600, 4), colors='0.75', linestyle=':')\n",
    "        cp = m.contour(x,y,prmslens[nens]/100.,np.arange(900, 1040, 2),colors='k')\n",
    "        t = plt.title('Member %s' % nens)\n",
    "    \n",
    "    fig.suptitle('Ensemble wind speed forecast from %s for %s' % (valid_dates[0],valid_dates[idx]),fontweight='bold')\n",
    "    plt.tight_layout()"
   ]
  },
  {
   "cell_type": "code",
   "execution_count": null,
   "metadata": {
    "collapsed": false
   },
   "outputs": [],
   "source": [
    "interact(plot_ensemble_wind, timestamp=widgets.Dropdown(options=timelist, value=timelist[1]))"
   ]
  },
  {
   "cell_type": "code",
   "execution_count": null,
   "metadata": {
    "collapsed": false
   },
   "outputs": [],
   "source": []
  }
 ],
 "metadata": {
  "kernelspec": {
   "display_name": "Python 2",
   "language": "python",
   "name": "python2"
  },
  "language_info": {
   "codemirror_mode": {
    "name": "ipython",
    "version": 2
   },
   "file_extension": ".py",
   "mimetype": "text/x-python",
   "name": "python",
   "nbconvert_exporter": "python",
   "pygments_lexer": "ipython2",
   "version": "2.7.3"
  }
 },
 "nbformat": 4,
 "nbformat_minor": 0
}
