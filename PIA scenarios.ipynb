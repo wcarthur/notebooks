{
 "cells": [
  {
   "cell_type": "markdown",
   "metadata": {},
   "source": [
    "# The impact of different TC scenarios \n",
    "### For the Planning Institute of Australia 2016 Congress workshops"
   ]
  },
  {
   "cell_type": "code",
   "execution_count": null,
   "metadata": {},
   "outputs": [],
   "source": [
    "%matplotlib inline\n",
    "from __future__ import print_function, division\n",
    "import warnings\n",
    "warnings.simplefilter(action = \"ignore\", category = FutureWarning)\n",
    "import numpy as np\n",
    "import pandas as pd\n",
    "import seaborn as sns\n",
    "import matplotlib.pyplot as plt\n",
    "import scipy.stats as stats\n",
    "from os.path import join as pjoin\n",
    "sns.set_style('darkgrid')\n",
    "sns.set_context('poster')"
   ]
  },
  {
   "cell_type": "markdown",
   "metadata": {},
   "source": [
    "The scenarios have been developed from GA's Tropical Cyclone Risk Model (TCRM). TCRM is a statistical-parametric model of tropical cyclones, which allows users to generate a catalogue of TC events that look like the historical record of TCs. We can generate many thousands of years of events, each of which has some probability of occurring. \n",
    "\n",
    "We generated 2000 years of TCs for the north Queensland region, and from these, we selected three that passed close to Cairns, and generated a maximum wind gust at Cairns Airport of approximately 63 m/s (225 km/h) - just on category 4. \n",
    "\n",
    "To put this into context, TCs _Larry_, _Ita_, and _Yasi_ were all category 4 or higher at landfall. All three passed within 150 km of Cairns, and all occured within a 10 year period. "
   ]
  },
  {
   "cell_type": "code",
   "execution_count": null,
   "metadata": {},
   "outputs": [],
   "source": [
    "basepath = \"N:/georisk/HaRIA_B_Wind/projects/pia_workshop/data\"\n",
    "filename = \"cairns_impact.csv\"\n",
    "\n",
    "df01 = pd.read_csv(pjoin(basepath, \"01\", filename), header=0)\n",
    "df02 = pd.read_csv(pjoin(basepath, \"02\", filename), header=0)\n",
    "df03 = pd.read_csv(pjoin(basepath, \"03\", filename), header=0)"
   ]
  },
  {
   "cell_type": "code",
   "execution_count": null,
   "metadata": {},
   "outputs": [],
   "source": [
    "print(\"Mean losses for three scenarios:\")\n",
    "print(\"Scenario 1: ${0:,.2f}\".format(np.sum(df01['loss'])))\n",
    "print(\"Scenario 2: ${0:,.2f}\".format(np.sum(df02['loss'])))\n",
    "print(\"Scenario 3: ${0:,.2f}\".format(np.sum(df03['loss'])))"
   ]
  },
  {
   "cell_type": "code",
   "execution_count": null,
   "metadata": {},
   "outputs": [],
   "source": [
    "filename = \"cairns_impact_classified_local.csv\"\n",
    "\n",
    "data01 = pd.read_csv(pjoin(basepath, \"01\", filename), header=0)\n",
    "slr_cols = [col for col in data01.keys() if col.startswith('structural_loss_ratio') and col[-1].isdigit()]\n",
    "slrdf01 = data01[slr_cols]\n",
    "slrdf01.loc[:, '0.2s gust at 10m height m/s'] = data01['0.2s gust at 10m height m/s']\n",
    "slrdf01.loc[:, 'SUBURB_2015'] = data01['SUBURB_2015']\n",
    "slrdf01.loc[:, 'LID'] = data01['LID']\n",
    "slrdf01.loc[:, 'REPLACEMENT_VALUE'] = data01['REPLACEMENT_VALUE']\n",
    "slrdf01.loc[:, 'M4'] = data01['M4']\n",
    "slrdf01.loc[:, 'YEAR_BUILT'] = data01['YEAR_BUILT']\n",
    "sldf01 = slrdf01[['0.2s gust at 10m height m/s', 'SUBURB_2015', 'LID', 'REPLACEMENT_VALUE', 'M4', 'YEAR_BUILT']]\n",
    "sl_cols = []\n",
    "for col in slr_cols:\n",
    "    slcolname = col.replace(\"_ratio\", \"\")\n",
    "    sl_cols.append(slcolname)\n",
    "    sldf01.loc[:, slcolname] = slrdf01[col] * sldf01['REPLACEMENT_VALUE']\n",
    "    \n",
    "sumsl01 = np.sum(sldf01.loc[:, sl_cols]).values/10**6\n",
    "sumslmean01 = np.mean(sumsl01)"
   ]
  },
  {
   "cell_type": "code",
   "execution_count": null,
   "metadata": {},
   "outputs": [],
   "source": [
    "data02 = pd.read_csv(pjoin(basepath, \"02\", filename), header=0)\n",
    "slr_cols = [col for col in data02.keys() if col.startswith('structural_loss_ratio') and col[-1].isdigit()]\n",
    "slrdf02 = data02[slr_cols]\n",
    "slrdf02.loc[:, '0.2s gust at 10m height m/s'] = data02['0.2s gust at 10m height m/s']\n",
    "slrdf02.loc[:, 'SUBURB_2015'] = data02['SUBURB_2015']\n",
    "slrdf02.loc[:, 'LID'] = data02['LID']\n",
    "slrdf02.loc[:, 'REPLACEMENT_VALUE'] = data02['REPLACEMENT_VALUE']\n",
    "slrdf02.loc[:, 'M4'] = data02['M4']\n",
    "slrdf02.loc[:, 'YEAR_BUILT'] = data02['YEAR_BUILT']\n",
    "sldf02 = slrdf02[['0.2s gust at 10m height m/s', 'SUBURB_2015', 'LID', 'REPLACEMENT_VALUE', 'M4', 'YEAR_BUILT']]\n",
    "sl_cols = []\n",
    "for col in slr_cols:\n",
    "    slcolname = col.replace(\"_ratio\", \"\")\n",
    "    sl_cols.append(slcolname)\n",
    "    sldf02.loc[:, slcolname] = slrdf02[col] * sldf02['REPLACEMENT_VALUE']\n",
    "    \n",
    "sumsl02 = np.sum(sldf02.loc[:, sl_cols]).values/10**6\n",
    "sumslmean02 = np.mean(sumsl02)"
   ]
  },
  {
   "cell_type": "code",
   "execution_count": null,
   "metadata": {},
   "outputs": [],
   "source": [
    "data03 = pd.read_csv(pjoin(basepath, \"03\", filename), header=0)\n",
    "slr_cols = [col for col in data03.keys() if col.startswith('structural_loss_ratio') and col[-1].isdigit()]\n",
    "slrdf03 = data03[slr_cols]\n",
    "slrdf03.loc[:, '0.2s gust at 10m height m/s'] = data03['0.2s gust at 10m height m/s']\n",
    "slrdf03.loc[:, 'SUBURB_2015'] = data03['SUBURB_2015']\n",
    "slrdf03.loc[:, 'LID'] = data03['LID']\n",
    "slrdf03.loc[:, 'REPLACEMENT_VALUE'] = data03['REPLACEMENT_VALUE']\n",
    "slrdf03.loc[:, 'M4'] = data03['M4']\n",
    "slrdf03.loc[:, 'YEAR_BUILT'] = data03['YEAR_BUILT']\n",
    "sldf03 = slrdf03[['0.2s gust at 10m height m/s', 'SUBURB_2015', 'LID', 'REPLACEMENT_VALUE', 'M4', 'YEAR_BUILT']]\n",
    "sl_cols = []\n",
    "for col in slr_cols:\n",
    "    slcolname = col.replace(\"_ratio\", \"\")\n",
    "    sl_cols.append(slcolname)\n",
    "    sldf03.loc[:, slcolname] = slrdf03[col] * sldf03['REPLACEMENT_VALUE']\n",
    "    \n",
    "sumsl03 = np.sum(sldf03.loc[:, sl_cols]).values/10**6\n",
    "sumslmean03 = np.mean(sumsl03)"
   ]
  },
  {
   "cell_type": "markdown",
   "metadata": {},
   "source": [
    "We selected the scenarios based on the wind speed recorded at Cairns Airport for each event. For these three scenarios, the maximum wind speed at the Airport was just over 225 km/h, or just on Category 4 winds. The Airport is only one location, and it is an exposed location - no buildings, no trees or vegetation, and no hills. It's at sites like this that we can measure comparable wind speeds for different events. \n",
    "\n",
    "Once we move into the urban area though, there are factors that influence the winds. Hills, vegetation, surrounding buildings all affect the wind speed that a house will experience, and this can be different depending on which way the wind is blowing. \n",
    "\n",
    "Here, we plot the distribution of wind speeds at each location (some 50,000 residential houses). Two of the scenarios produce comparatively similar distributions - the median wind speed being approximately 41 m/s. The third scenario has a median wind speed of 45 m/s. \n"
   ]
  },
  {
   "cell_type": "code",
   "execution_count": null,
   "metadata": {},
   "outputs": [],
   "source": [
    "fig, ax = plt.subplots(1, 1, figsize=(16, 8))\n",
    "bins = np.arange(30, 90, 1)\n",
    "sns.distplot(slrdf01['0.2s gust at 10m height m/s'],\n",
    "             axlabel=\"0.2s gust at 10m height m/s\", \n",
    "             ax=ax, color='Blue', bins=bins,\n",
    "             hist_kws={'label':'Scenario 1', 'alpha':0.25})\n",
    "\n",
    "sns.distplot(slrdf02['0.2s gust at 10m height m/s'],\n",
    "             axlabel=\"0.2s gust at 10m height m/s\", \n",
    "             ax=ax, color='Red', bins=bins,\n",
    "             hist_kws={'label':'Scenario 2', 'alpha':0.25})\n",
    "\n",
    "sns.distplot(slrdf03['0.2s gust at 10m height m/s'],\n",
    "             axlabel=\"0.2s gust at 10m height m/s\", \n",
    "             ax=ax, color='Green', bins=bins,\n",
    "             hist_kws={'label':'Scenario 3', 'alpha':0.25})\n",
    "\n",
    "ax.legend(loc=9, ncol=3)\n",
    "\n",
    "print(np.median(slrdf01['0.2s gust at 10m height m/s']))\n",
    "print(np.median(slrdf02['0.2s gust at 10m height m/s']))\n",
    "print(np.median(slrdf03['0.2s gust at 10m height m/s']))"
   ]
  },
  {
   "cell_type": "markdown",
   "metadata": {},
   "source": [
    "Now, we plot out the estimated damage to the Cairns region, based on the three scenarios. The impacts show much greater spread, ranging from \\$540 million to \\$1.3 billion. \n",
    "\n",
    "This is because the damage is related to the local wind speed and the houses that are impacted - their value and their resilience to wind damage. "
   ]
  },
  {
   "cell_type": "code",
   "execution_count": null,
   "metadata": {},
   "outputs": [],
   "source": [
    "fig, ax = plt.subplots(1, 1, figsize=(16, 8))\n",
    "sns.distplot(sumsl01, axlabel=\"Total structural loss ($ million)\", \n",
    "             ax=ax, color='Blue',\n",
    "             hist_kws={'label':'Scenario 1', 'alpha':0.25})\n",
    "ax.axvline(sumslmean01, label=\"Mean: ${0:0.1f} million\".format(sumslmean01), color='b')\n",
    "\n",
    "sns.distplot(sumsl02, axlabel=\"Total structural loss ($ million)\", \n",
    "             ax=ax, color='Red',\n",
    "             hist_kws={'label':'Scenario 2', 'alpha':0.25})\n",
    "ax.axvline(sumslmean02, label=\"Mean: ${0:0.1f} million\".format(sumslmean02), color='r')\n",
    "\n",
    "sns.distplot(sumsl03, axlabel=\"Total structural loss ($ million)\", \n",
    "             ax=ax, color='Green',\n",
    "             hist_kws={'label':'Scenario 3', 'alpha':0.25})\n",
    "ax.axvline(sumslmean03, label=\"Mean: ${0:0.1f} million\".format(sumslmean03), color='g')\n",
    "\n",
    "ax.set_xlim((0, 1500))\n",
    "ax.legend(loc=2, ncol=2)"
   ]
  },
  {
   "cell_type": "code",
   "execution_count": null,
   "metadata": {},
   "outputs": [],
   "source": [
    "def classifyDamageState(df, states, thresholds):\n",
    "\n",
    "    df['Damage state'] = \"Negligible\"\n",
    "    for thres, state in zip(thresholds, states):\n",
    "        idx = np.where(df['loss_ratio'] >= thres)[0]\n",
    "        df['Damage state'][idx] = state\n",
    "        \n",
    "    return df\n",
    "\n",
    "thresholds = [0.01, 0.1, 0.2, 0.5]\n",
    "states = ['Slight', 'Moderate', 'Extensive', 'Complete']\n",
    "df01 = classifyDamageState(df01, states, thresholds)\n",
    "df02 = classifyDamageState(df02, states, thresholds)\n",
    "df03 = classifyDamageState(df03, states, thresholds)"
   ]
  },
  {
   "cell_type": "code",
   "execution_count": null,
   "metadata": {},
   "outputs": [],
   "source": [
    "ax = sns.countplot(x='Damage state', data=df01, palette='RdBu', hue='YEAR_BUILT',\n",
    "                   order=['Negligible', 'Slight', 'Moderate', 'Extensive', 'Complete'])\n",
    "ax.legend(loc=1)\n",
    "ax.set_xlabel(\"Expected damage state\")"
   ]
  },
  {
   "cell_type": "code",
   "execution_count": null,
   "metadata": {},
   "outputs": [],
   "source": [
    "ax = sns.countplot(x='Damage state', data=df02, palette='RdBu', hue='YEAR_BUILT',\n",
    "                   order=['Negligible', 'Slight', 'Moderate', 'Extensive', 'Complete'])\n",
    "ax.legend(loc=1)\n",
    "ax.set_xlabel(\"Expected damage state\")"
   ]
  },
  {
   "cell_type": "code",
   "execution_count": null,
   "metadata": {},
   "outputs": [],
   "source": [
    "ax = sns.countplot(x='Damage state', data=df03, palette='RdBu', hue='YEAR_BUILT',\n",
    "                   order=['Negligible', 'Slight', 'Moderate', 'Extensive', 'Complete'])\n",
    "ax.legend(loc=1)\n",
    "ax.set_xlabel(\"Expected damage state\")"
   ]
  },
  {
   "cell_type": "code",
   "execution_count": null,
   "metadata": {},
   "outputs": [],
   "source": [
    "agedmg01 = df01.groupby(['Damage state', 'YEAR_BUILT'])\n",
    "100 * agedmg01.count()['latitude']/len(df01)"
   ]
  },
  {
   "cell_type": "code",
   "execution_count": null,
   "metadata": {},
   "outputs": [],
   "source": [
    "agedmg02 = df02.groupby(['Damage state', 'YEAR_BUILT'])\n",
    "100 * agedmg02.count()['latitude']/len(df02)"
   ]
  },
  {
   "cell_type": "code",
   "execution_count": null,
   "metadata": {},
   "outputs": [],
   "source": [
    "agedmg03 = df03.groupby(['Damage state', 'YEAR_BUILT'])\n",
    "100 * agedmg03.count()['latitude']/len(df03)"
   ]
  },
  {
   "cell_type": "code",
   "execution_count": null,
   "metadata": {},
   "outputs": [],
   "source": [
    "print(agedmg01.count()['latitude'])"
   ]
  },
  {
   "cell_type": "code",
   "execution_count": null,
   "metadata": {},
   "outputs": [],
   "source": [
    "print(agedmg02.count()['latitude'])"
   ]
  },
  {
   "cell_type": "code",
   "execution_count": null,
   "metadata": {},
   "outputs": [],
   "source": [
    "print(agedmg03.count()['latitude'])"
   ]
  },
  {
   "cell_type": "code",
   "execution_count": null,
   "metadata": {},
   "outputs": [],
   "source": [
    "subdmg01 = df01.groupby(['SUBURB_2015', 'Damage state'])\n",
    "subdmg02 = df02.groupby(['SUBURB_2015', 'Damage state'])\n",
    "subdmg03 = df03.groupby(['SUBURB_2015', 'Damage state'])\n",
    "print(subdmg01.count()['latitude'])\n",
    "print(subdmg02.count()['latitude'])\n",
    "print(subdmg03.count()['latitude'])"
   ]
  },
  {
   "cell_type": "code",
   "execution_count": null,
   "metadata": {},
   "outputs": [],
   "source": [
    "dmg01 = df01.groupby(['Damage state'])\n",
    "dmg02 = df02.groupby(['Damage state'])\n",
    "dmg03 = df03.groupby(['Damage state'])\n",
    "\n",
    "print(dmg01.count()['latitude'])\n",
    "print(dmg02.count()['latitude'])\n",
    "print(dmg03.count()['latitude'])\n",
    "\n"
   ]
  },
  {
   "cell_type": "code",
   "execution_count": null,
   "metadata": {},
   "outputs": [],
   "source": []
  }
 ],
 "metadata": {
  "kernelspec": {
   "display_name": "Python 2",
   "language": "python",
   "name": "python2"
  },
  "language_info": {
   "codemirror_mode": {
    "name": "ipython",
    "version": 2
   },
   "file_extension": ".py",
   "mimetype": "text/x-python",
   "name": "python",
   "nbconvert_exporter": "python",
   "pygments_lexer": "ipython2"
  }
 },
 "nbformat": 4,
 "nbformat_minor": 1
}
