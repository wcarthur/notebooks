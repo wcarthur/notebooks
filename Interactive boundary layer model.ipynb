{
 "cells": [
  {
   "cell_type": "code",
   "execution_count": 1,
   "metadata": {
    "collapsed": false
   },
   "outputs": [],
   "source": [
    "%matplotlib inline\n",
    "import matplotlib.pyplot as plt\n",
    "from matplotlib import cm as cmap\n",
    "from inspect import getargspec\n",
    "import numpy as np\n",
    "\n",
    "from wind import windmodels\n",
    "from Utilities import metutils\n",
    "from Utilities.maputils import bearing2theta, makeGrid, meshLatLon, gridLatLonDist\n",
    "from PlotInterface.maps import saveWindfieldMap\n",
    "\n",
    "from IPython.html.widgets import interact, fixed, FloatSlider\n",
    "from IPython.html import widgets\n",
    "\n",
    "import seaborn as sns\n",
    "sns.set_style('ticks', {'image.cmap':'coolwarm'})\n",
    "sns.set_context('poster')\n",
    "\n",
    "profileType = 'powell'\n",
    "windFieldType = 'kepert'"
   ]
  },
  {
   "cell_type": "code",
   "execution_count": 2,
   "metadata": {
    "collapsed": true
   },
   "outputs": [],
   "source": [
    "def polarGridAroundEye(lon, lat, margin=3, resolution=0.01):\n",
    "    R, theta = makeGrid(lon, lat, margin, resolution)\n",
    "    return R, theta\n",
    "\n",
    "def meshGrid(lon, lat, margin=3, resolution=0.01):\n",
    "    xgrid, ygrid = meshLatLon(lon, lat, margin, resolution)\n",
    "    return xgrid, ygrid"
   ]
  },
  {
   "cell_type": "code",
   "execution_count": 3,
   "metadata": {
    "collapsed": true
   },
   "outputs": [],
   "source": [
    "def localWindField(lon, lat, pEnv, pCentre, rMax, vFm, thetaFm, beta, \n",
    "                   profileType='powell', windFieldType='kepert'):\n",
    "    thetaMax = 70.\n",
    "    cls = windmodels.profile(profileType)\n",
    "    profile = cls(lat, lon, pEnv, pCentre, rMax*1000)\n",
    "    R, theta = polarGridAroundEye(lon, lat)\n",
    "    \n",
    "    cls = windmodels.field(windFieldType)\n",
    "    windfield = cls(profile)\n",
    "    \n",
    "    Ux, Vy = windfield.field(R*1000, theta, vFm, thetaFm, thetaMax)\n",
    "    return Ux, Vy"
   ]
  },
  {
   "cell_type": "code",
   "execution_count": 4,
   "metadata": {
    "collapsed": true
   },
   "outputs": [],
   "source": [
    "def plotWindfield(lon, lat, pEnv, pCentre, rMax, vFm, thetaFm, beta, \n",
    "                  profileType='powell', windFieldType='kepert'):\n",
    "    xgrid, ygrid = meshGrid(lon, lat)\n",
    "    #xkm, ykm = gridLatLonDist(lon, lat, xgrid[:,0], ygrid[0,:])\n",
    "    \n",
    "    Ux, Vy = localWindField(lon, lat, pEnv, pCentre, rMax, vFm, thetaFm, beta, \n",
    "                            profileType=profileType, windFieldType=windFieldType)\n",
    "    cx = rMax*np.sin(np.arange(0.00,6.29,0.01))  # Circle for rmw plots.\n",
    "    cy = rMax*np.cos(np.arange(0.00,6.29,0.01))\n",
    "    \n",
    "    xlims=[lon-2, lon+2]\n",
    "    ylims=[lat-2, lat+2]\n",
    "    xkmlims = [-150, 150]\n",
    "    ykmlims = [-150, 150]\n",
    "    fig, axes = plt.subplots(2, 2,subplot_kw={'aspect':'equal'}, figsize=(16, 16))\n",
    "    ax = axes.flatten()\n",
    "    ax[0].hold(True)\n",
    "    #set(plt.gca(),'DataAspectRatio',[1,1,1])\n",
    "    ax[0].set_xlim(xlims)\n",
    "    ax[0].set_ylim(ylims)\n",
    "    levels = np.arange(-20, 21, 2)\n",
    "    cm = ax[0].contourf(xgrid, ygrid, Ux, np.arange(-100., 101, 5))\n",
    "    cs = ax[0].contour(xgrid, ygrid, Ux, np.arange(-100, 101, 5), colors='k')\n",
    "    ax[0].clabel(cs, fontsize='x-small', fmt='%1.2f') #, range(-20,11,4))\n",
    "    plt.colorbar(cm, ax=ax[0], orientation='horizontal')\n",
    "    ax[0].plot(cx,cy,'w')\n",
    "    \n",
    "    ax[1].hold(True)\n",
    "    #set(plt.gca(),'DataAspectRatio',[1,1,1])\n",
    "    ax[1].set_xlim(xlims)\n",
    "    ax[1].set_ylim(ylims)\n",
    "    levels = np.arange(-20, 21, 2)\n",
    "    cm = ax[1].contourf(xgrid, ygrid, Vy, np.arange(-100., 101, 5))\n",
    "    cs = ax[1].contour(xgrid, ygrid, Vy, np.arange(-100, 101, 5), colors='k')\n",
    "    ax[1].clabel(cs, fontsize='x-small', fmt='%1.2f') #, range(-20,11,4))\n",
    "    plt.colorbar(cm, ax=ax[1], orientation='horizontal')\n",
    "    ax[1].plot(cx,cy,'w')\n",
    "    \n",
    "    ax[2].hold(True)\n",
    "    #set(plt.gca(),'DataAspectRatio',[1,1,1])\n",
    "    ax[2].set_xlim(xlims)\n",
    "    ax[2].set_ylim(ylims)\n",
    "    levels = np.arange(-20, 21, 2)\n",
    "    cm = ax[2].contourf(xgrid, ygrid, np.sqrt(Ux*Ux+Vy*Vy), np.arange(0., 101, 5))\n",
    "    cs = ax[2].contour(xgrid, ygrid, np.sqrt(Ux*Ux+Vy*Vy), np.arange(0, 101, 5), colors='k')\n",
    "    ax[2].clabel(cs, fontsize='x-small', fmt='%1.2f') #, range(-20,11,4))\n",
    "    plt.colorbar(cm, ax=ax[2], orientation='horizontal')\n",
    "    ax[2].plot(cx,cy,'w')    \n",
    "    \n",
    "    ax[3].hold(True)\n",
    "    ax[3].set_xlim(xlims)\n",
    "    ax[3].set_ylim(ylims)\n",
    "    levels = np.arange(-20, 21, 2)\n",
    "    cm = ax[3].contourf(xgrid, ygrid, np.sqrt(Ux*Ux+Vy*Vy), np.arange(0., 101, 5))\n",
    "    ax[3].streamplot(xgrid, ygrid, Ux, Vy, density=3, color='k', linewidth=1)\n",
    "    plt.colorbar(cm, ax=ax[3], orientation='horizontal')\n",
    "    fig.tight_layout()\n"
   ]
  },
  {
   "cell_type": "code",
   "execution_count": 5,
   "metadata": {
    "collapsed": false
   },
   "outputs": [],
   "source": [
    "interact(plotWindfield, \n",
    "         lon=fixed(120),\n",
    "         lat=(-20, 20, 0.1), \n",
    "         pEnv=(99500, 100000, 100),\n",
    "         pCentre=(90000, 99000, 100),\n",
    "         rMax=(10, 100, 1),\n",
    "         vFm=(0,30, 1),\n",
    "         thetaFm=(0, 2.*np.pi, 0.1),\n",
    "         beta=(1.2, 2.5, 0.05))"
   ]
  },
  {
   "cell_type": "code",
   "execution_count": null,
   "metadata": {
    "collapsed": true
   },
   "outputs": [],
   "source": []
  }
 ],
 "metadata": {
  "kernelspec": {
   "display_name": "Python 2",
   "language": "python",
   "name": "python2"
  },
  "language_info": {
   "codemirror_mode": {
    "name": "ipython",
    "version": 2
   },
   "file_extension": ".py",
   "mimetype": "text/x-python",
   "name": "python",
   "nbconvert_exporter": "python",
   "pygments_lexer": "ipython2",
   "version": "2.7.3"
  }
 },
 "nbformat": 4,
 "nbformat_minor": 0
}
