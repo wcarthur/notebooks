{
 "cells": [
  {
   "cell_type": "markdown",
   "metadata": {},
   "source": [
    "# Cursory check of the PCRAFI database\n",
    "\n",
    "This notebook serves to give a quick view of the quality of the information held in the [PCRAFI database](http://pcrafi.spc.int/beta), to help inform priority areas for enhancement of the database. \n",
    "\n",
    "We check the fraction of records with valid entries for wall type, wall frame, roof type, foundations and minimum floor height. These attributes are important for determining appropriate vulnerability relations for estimating damage, or estimating impact (in the case of floor height). \n",
    "\n",
    "This notebook uses matplotlib, numpy, pandas and it's geospatially enabled counterpart geopandas. Seaborn is used to simplify visualisation fo statistical analyses. "
   ]
  },
  {
   "cell_type": "code",
   "execution_count": 1,
   "metadata": {
    "collapsed": false
   },
   "outputs": [],
   "source": [
    "%matplotlib inline\n",
    "\n",
    "from matplotlib import pyplot as plt\n",
    "import numpy as np\n",
    "import pandas as pd\n",
    "import geopandas as gpd\n",
    "\n",
    "import seaborn as sns\n"
   ]
  },
  {
   "cell_type": "markdown",
   "metadata": {},
   "source": [
    "Start by loading the data from file. I'd prefer to set this up to read a web feature service (then others can readily use and extend this notebook), but alas, there's no support for doing so in the documentation for the underlying module ([fiona](http://toblerity.org/fiona/index.html))."
   ]
  },
  {
   "cell_type": "code",
   "execution_count": 3,
   "metadata": {
    "collapsed": false
   },
   "outputs": [],
   "source": [
    "gdf = gpd.read_file(\"C:/WorkSpace/pacsafeapp/data/Nukualofa/to_buildings.shp\")\n",
    "\n",
    "gdf.info()"
   ]
  },
  {
   "cell_type": "markdown",
   "metadata": {},
   "source": [
    "A very quick look at the first fiew entries to confirm that the data loaded correctly. Not all the fields (72 in this example) are shown."
   ]
  },
  {
   "cell_type": "code",
   "execution_count": 3,
   "metadata": {
    "collapsed": false
   },
   "outputs": [],
   "source": [
    "gdf.head()"
   ]
  },
  {
   "cell_type": "markdown",
   "metadata": {},
   "source": [
    "Now to define some groups, based on building attributes. In this instance, the grouping is purely by the building attributes, so commercial buildings are lumped in with residential buildings, industrial and critical infrastructure. Further down, we break down the data by building use."
   ]
  },
  {
   "cell_type": "code",
   "execution_count": 4,
   "metadata": {
    "collapsed": false
   },
   "outputs": [],
   "source": [
    "wall_frame = gdf.groupby('B_FRAME1')\n",
    "wall_material = gdf.groupby('WALL_MAT1')\n",
    "roof_material = gdf.groupby('ROOF_MAT_1')\n",
    "foundations = gdf.groupby('FOUND1')\n",
    "floor_height = gdf.groupby('F_MINHT')\n",
    "nrecords = len(gdf)\n",
    "\n",
    "pwallframe = 100 * np.count_nonzero(gdf['B_FRAME1'].notnull())/float(nrecords)\n",
    "pwall_material = 100 * np.count_nonzero(gdf['WALL_MAT1'].notnull())/float(nrecords)\n",
    "proof_material = 100 * np.count_nonzero(gdf['ROOF_MAT_1'].notnull())/float(nrecords)\n",
    "pfoundations = 100 * np.count_nonzero(gdf['FOUND1'].notnull())/float(nrecords)\n",
    "pfloor_height = 100 * np.count_nonzero(gdf['F_MINHT'].notnull())/float(nrecords)\n",
    "\n",
    "print(\"Percentage of complete records\")\n",
    "print(\"------------------------------\")\n",
    "print(\"Wall frame:    {0:.2f}%\".format(pwallframe))\n",
    "print(\"Wall material: {0:.2f}%\".format(pwall_material))\n",
    "print(\"Roof material: {0:.2f}%\".format(proof_material))\n",
    "print(\"Foundation:    {0:.2f}%\".format(pfoundations))\n",
    "print(\"Floor height   {0:.2f}%\".format(pfloor_height))"
   ]
  },
  {
   "cell_type": "markdown",
   "metadata": {},
   "source": [
    "Here we give the percentage of each class in each attribute. Note the total is not 100% - this gives an indication of the completeness of the data. In most cases, only around 35% of records have an entry. "
   ]
  },
  {
   "cell_type": "code",
   "execution_count": 5,
   "metadata": {
    "collapsed": false
   },
   "outputs": [],
   "source": [
    "100 * wall_frame.count()['AGE']/nrecords"
   ]
  },
  {
   "cell_type": "code",
   "execution_count": 6,
   "metadata": {
    "collapsed": false
   },
   "outputs": [],
   "source": [
    "100 * wall_material.count()['AGE']/nrecords"
   ]
  },
  {
   "cell_type": "code",
   "execution_count": 7,
   "metadata": {
    "collapsed": false
   },
   "outputs": [],
   "source": [
    "100 * roof_material.count()['AGE']/nrecords"
   ]
  },
  {
   "cell_type": "code",
   "execution_count": 8,
   "metadata": {
    "collapsed": false
   },
   "outputs": [],
   "source": [
    "100 * foundations.count()['AGE']/nrecords"
   ]
  },
  {
   "cell_type": "code",
   "execution_count": 9,
   "metadata": {
    "collapsed": false
   },
   "outputs": [],
   "source": [
    "grouped = gdf.groupby(['USE_GRP', 'B_FRAME1'])\n",
    "100 * grouped.count()['AGE']/len(gdf)"
   ]
  },
  {
   "cell_type": "code",
   "execution_count": 10,
   "metadata": {
    "collapsed": true
   },
   "outputs": [],
   "source": [
    "def autolabel(rects, rotation='horizontal'):\n",
    "    # attach some text labels\n",
    "    for rect in rects:\n",
    "        height = rect.get_height()\n",
    "        if np.isnan(height):\n",
    "            height = 0\n",
    "        ax.text(rect.get_x()+rect.get_width()/2., 1.05*height, '%d'%int(height),\n",
    "                ha='center', va='bottom', rotation=rotation, fontsize='small')"
   ]
  },
  {
   "cell_type": "code",
   "execution_count": 11,
   "metadata": {
    "collapsed": false
   },
   "outputs": [],
   "source": [
    "fig, ax = plt.subplots(1, 1, figsize=(16,8))\n",
    "ax = sns.countplot(x='USE_GRP', data=gdf, palette='RdBu', hue='B_FRAME1')\n",
    "autolabel(ax.patches, rotation='vertical')\n",
    "ax.legend(loc=1, title=\"Wall frame type\")\n",
    "ax.set_xlabel('Building use group')\n",
    "ax.set_title(\"Building stock - Tonga\")\n",
    "#labels = ax.get_xticklabels()\n",
    "#ax.set_xticklabels(labels,rotation='vertical')\n"
   ]
  },
  {
   "cell_type": "code",
   "execution_count": 12,
   "metadata": {
    "collapsed": false
   },
   "outputs": [],
   "source": [
    "gdf_valid = gdf[gdf['B_FRAME1'].notnull()]"
   ]
  },
  {
   "cell_type": "code",
   "execution_count": 13,
   "metadata": {
    "collapsed": false
   },
   "outputs": [],
   "source": [
    "fig, ax = plt.subplots(1, 1, figsize=(6, 16))\n",
    "\n",
    "villages = gpd.read_file(\"R:/Pacific/data/external/pcrafi/TO/to_village.shp\")\n",
    "base = villages.plot(ax=ax, cmap='Blues')\n",
    "gdf.plot(ax=base, color='k')\n",
    "gdf_valid.plot(ax=base, color='r')"
   ]
  },
  {
   "cell_type": "code",
   "execution_count": null,
   "metadata": {
    "collapsed": true
   },
   "outputs": [],
   "source": []
  }
 ],
 "metadata": {
  "kernelspec": {
   "display_name": "Python 2",
   "language": "python",
   "name": "python2"
  },
  "language_info": {
   "codemirror_mode": {
    "name": "ipython",
    "version": 2
   },
   "file_extension": ".py",
   "mimetype": "text/x-python",
   "name": "python",
   "nbconvert_exporter": "python",
   "pygments_lexer": "ipython2",
   "version": "2.7.3"
  }
 },
 "nbformat": 4,
 "nbformat_minor": 1
}
