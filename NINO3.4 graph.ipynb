{
 "cells": [
  {
   "cell_type": "code",
   "execution_count": 1,
   "metadata": {
    "collapsed": true
   },
   "outputs": [],
   "source": [
    "%matplotlib inline\n",
    "\n",
    "from __future__ import division, print_function\n",
    "\n",
    "import numpy as np\n",
    "import pandas as pd\n",
    "from datetime import datetime\n",
    "import matplotlib.pyplot as plt\n",
    "import seaborn as sns\n",
    "sns.set_style('ticks')\n",
    "sns.set_context('talk')"
   ]
  },
  {
   "cell_type": "code",
   "execution_count": 2,
   "metadata": {
    "collapsed": true
   },
   "outputs": [],
   "source": [
    "def dtparse(datestr):\n",
    "    fmtstr = '%d%b%Y'\n",
    "    return datetime.strptime(datestr, fmtstr)"
   ]
  },
  {
   "cell_type": "code",
   "execution_count": 39,
   "metadata": {
    "collapsed": true
   },
   "outputs": [],
   "source": [
    "nhl = 4\n",
    "delim = ' '\n",
    "cols = ['week', 'NINO12', 'NINO12A', 'NINO3', 'NINO3A',\n",
    "        'NINO34', 'NINO34A', 'NINO4', 'NINO4A']\n",
    "\" 03JAN1990     23.4-0.4     25.1-0.3     26.6 0.0     28.6 0.3\"\n",
    "colspecs = [(1, 10), (15, 19), (19, 23), (28, 32), (32, 36), \n",
    "            (41, 45), (45, 50), (53, 58), (58, 63)]"
   ]
  },
  {
   "cell_type": "code",
   "execution_count": 40,
   "metadata": {
    "collapsed": false
   },
   "outputs": [],
   "source": [
    "url = \"http://www.cpc.ncep.noaa.gov/data/indices/wksst8110.for\"\n",
    "df = pd.read_fwf(url, header=None, skiprows=nhl, names=cols, \n",
    "                 parse_dates=[0], date_parser=dtparse, colspecs=colspecs)"
   ]
  },
  {
   "cell_type": "code",
   "execution_count": 72,
   "metadata": {
    "collapsed": false
   },
   "outputs": [],
   "source": [
    "fig, ax = plt.subplots(1,1)\n",
    "ax.plot(df['week'], df['NINO34A'])\n",
    "plt.axhspan(0.8, 5., color='r', alpha=0.25)\n",
    "plt.axhspan(-5, -0.8, color='b', alpha=0.25)\n",
    "ax.set_ylim(-3,3)\n",
    "ax.grid(which='both')\n",
    "n = len(df)\n",
    "dt = datetime.strftime(df['week'][n-1], \"%d %b %Y\")\n",
    "ax.set_title(\"Weekly NINO3.4 index - %s\"%dt)"
   ]
  },
  {
   "cell_type": "code",
   "execution_count": 71,
   "metadata": {
    "collapsed": false
   },
   "outputs": [],
   "source": []
  }
 ],
 "metadata": {
  "kernelspec": {
   "display_name": "Python 2",
   "language": "python",
   "name": "python2"
  },
  "language_info": {
   "codemirror_mode": {
    "name": "ipython",
    "version": 2
   },
   "file_extension": ".py",
   "mimetype": "text/x-python",
   "name": "python",
   "nbconvert_exporter": "python",
   "pygments_lexer": "ipython2",
   "version": "2.7.3"
  }
 },
 "nbformat": 4,
 "nbformat_minor": 0
}
