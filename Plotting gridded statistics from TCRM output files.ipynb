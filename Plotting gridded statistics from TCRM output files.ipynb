{
 "cells": [
  {
   "cell_type": "code",
   "execution_count": 1,
   "metadata": {
    "collapsed": false
   },
   "outputs": [],
   "source": [
    "%matplotlib inline\n",
    "from Utilities.nctools import ncLoadFile, ncGetDims, ncGetVar, ncFileInfo\n",
    "from Utilities.grid import SampleGrid\n",
    "from PlotInterface.maps import ArrayMapFigure, saveFigure, levels\n",
    "import numpy as np\n",
    "from IPython.display import Image\n",
    "from matplotlib.backends.backend_agg import FigureCanvasAgg as FC\n",
    "\n",
    "from os.path import join as pjoin\n",
    "import seaborn as sns\n",
    "sns.set_context('paper')"
   ]
  },
  {
   "cell_type": "code",
   "execution_count": 2,
   "metadata": {
    "collapsed": true
   },
   "outputs": [],
   "source": [
    "def show(fig):\n",
    "    canvas = FC(fig)\n",
    "    fig"
   ]
  },
  {
   "cell_type": "code",
   "execution_count": 3,
   "metadata": {
    "collapsed": true
   },
   "outputs": [],
   "source": [
    "landmask_file = \"C:/WorkSpace/tcrm/input/landmask.nc\"\n",
    "landmask = SampleGrid(landmask_file)\n"
   ]
  },
  {
   "cell_type": "code",
   "execution_count": 4,
   "metadata": {
    "collapsed": true
   },
   "outputs": [],
   "source": [
    "def getData(ncobj, varname, ij):\n",
    "    var = ncGetVar(ncobj, varname)[:]\n",
    "    lvar = ncGetVar(ncobj, 'l'+varname)[:]\n",
    "    data = var\n",
    "    data[ij] = lvar[ij]\n",
    "    return data"
   ]
  },
  {
   "cell_type": "code",
   "execution_count": 5,
   "metadata": {
    "collapsed": false
   },
   "outputs": [],
   "source": [
    "path = \"C:/Workspace/temp\"\n",
    "fname = pjoin(path, \"pressure_rate_stats.nc\")\n",
    "ncFileInfo(fname)"
   ]
  },
  {
   "cell_type": "code",
   "execution_count": 6,
   "metadata": {
    "collapsed": false
   },
   "outputs": [],
   "source": [
    "ncobj = ncLoadFile(fname)\n",
    "\n",
    "#lon = np.arange(90., 180., 1.0)\n",
    "#lat = np.arange(-30., -5., 1.0)\n",
    "\n",
    "lon = ncGetDims(ncobj, 'lon')\n",
    "lat = ncGetDims(ncobj, 'lat')\n",
    "ncobj.close()\n",
    "xgrid, ygrid = np.meshgrid(lon, lat)\n",
    "\n",
    "ls = np.zeros(np.shape(xgrid))\n",
    "\n",
    "for i in range(len(lon)):\n",
    "    for j in range(len(lat)):\n",
    "        if landmask.sampleGrid(lon[i], lat[j]) > 0.0:\n",
    "            ls[j, i] = 1\n",
    "            \n",
    "ij = np.where(ls==1)\n"
   ]
  },
  {
   "cell_type": "markdown",
   "metadata": {},
   "source": [
    "Set the map keyword arguments that will help draw the basemap."
   ]
  },
  {
   "cell_type": "code",
   "execution_count": 7,
   "metadata": {
    "collapsed": true
   },
   "outputs": [],
   "source": [
    "map_kwargs = dict(llcrnrlon=100., llcrnrlat=-30,\n",
    "                  urcrnrlon=160., urcrnrlat=-5.,\n",
    "                  resolution='h', projection='merc')"
   ]
  },
  {
   "cell_type": "markdown",
   "metadata": {},
   "source": [
    "Start with pressure rate statistics:"
   ]
  },
  {
   "cell_type": "code",
   "execution_count": 8,
   "metadata": {
    "collapsed": false
   },
   "outputs": [],
   "source": [
    "ncobj = ncLoadFile(pjoin(path, \"pressure_rate_stats.nc\"))\n",
    "lon = ncGetDims(ncobj, 'lon')\n",
    "lat = ncGetDims(ncobj, 'lat')\n",
    "ardata = getData(ncobj, 'alpha', ij)\n",
    "mudata = getData(ncobj, 'mu', ij)\n",
    "mindata = getData(ncobj, 'min', ij)\n",
    "sigdata = getData(ncobj, 'sig', ij)\n",
    "ncobj.close()\n",
    "fig = ArrayMapFigure()\n",
    "fig.add(ardata, xgrid, ygrid, 'Pressure rate AR(1)', [-1, 1], 'AR(1)', map_kwargs)\n",
    "fig.add(mudata, xgrid, ygrid, 'Mean pressure rate', [-1, 1], 'Pressure rate (hPa/hr)', map_kwargs)\n",
    "fig.add(mindata, xgrid, ygrid, 'Minimum pressure rate', [-10, 10], 'Pressure rate (hPa/hr)', map_kwargs)\n",
    "fig.add(sigdata, xgrid, ygrid, 'Pressure rate standard deviation', [0, 5], 'Std dev.', map_kwargs)\n",
    "fig.plot()\n",
    "#canvas = FC(fig)\n",
    "#fig\n",
    "saveFigure(fig, \"pressure_rate_stats.png\")\n",
    "Image(\"pressure_rate_stats.png\")"
   ]
  },
  {
   "cell_type": "code",
   "execution_count": 9,
   "metadata": {
    "collapsed": false
   },
   "outputs": [],
   "source": [
    "ncobj = ncLoadFile(pjoin(path, \"pressure_stats.nc\"))\n",
    "lon = ncGetDims(ncobj, 'lon')\n",
    "lat = ncGetDims(ncobj, 'lat')\n",
    "ardata = getData(ncobj, 'alpha', ij)\n",
    "mudata = getData(ncobj, 'mu', ij)\n",
    "mindata = getData(ncobj, 'min', ij)\n",
    "sigdata = getData(ncobj, 'sig', ij)\n",
    "ncobj.close()\n",
    "fig = ArrayMapFigure()\n",
    "fig.add(ardata, xgrid, ygrid, 'Pressure AR(1)', [-1, 1], 'AR(1)', map_kwargs)\n",
    "fig.add(mudata, xgrid, ygrid, 'Mean pressure ', [950, 1000], 'Pressure (hPa)', map_kwargs)\n",
    "fig.add(mindata, xgrid, ygrid, 'Minimum pressure', [900, 1000], 'Pressure (hPa)', map_kwargs)\n",
    "fig.add(sigdata, xgrid, ygrid, 'Pressure standard deviation', [0, 50], 'Std dev.', map_kwargs)\n",
    "fig.plot()\n",
    "#canvas = FC(fig)\n",
    "#fig\n",
    "saveFigure(fig, \"pressure_stats.png\")\n",
    "Image(\"pressure_stats.png\")"
   ]
  },
  {
   "cell_type": "code",
   "execution_count": 10,
   "metadata": {
    "collapsed": false
   },
   "outputs": [],
   "source": [
    "ncobj = ncLoadFile(pjoin(path, \"speed_rate_stats.nc\"))\n",
    "lon = ncGetDims(ncobj, 'lon')\n",
    "lat = ncGetDims(ncobj, 'lat')\n",
    "ardata = getData(ncobj, 'alpha', ij)\n",
    "mudata = getData(ncobj, 'mu', ij)\n",
    "mindata = getData(ncobj, 'min', ij)\n",
    "sigdata = getData(ncobj, 'sig', ij)\n",
    "ncobj.close()\n",
    "fig = ArrayMapFigure()\n",
    "fig.add(ardata, xgrid, ygrid, 'Speed rate AR(1)', [-1, 1], 'AR(1)', map_kwargs)\n",
    "fig.add(mudata, xgrid, ygrid, 'Mean speed rate', [-1, 1], 'Speed rate (m/s/hr)', map_kwargs)\n",
    "fig.add(mindata, xgrid, ygrid, 'Minimum speed rate', [-10, 10], 'Speed rate (m/s/hr)', map_kwargs)\n",
    "fig.add(sigdata, xgrid, ygrid, 'Speed standard deviation', [0, 5], 'Std dev.', map_kwargs)\n",
    "fig.plot()\n",
    "#canvas = FC(fig)\n",
    "#fig\n",
    "saveFigure(fig, \"speed_rate_stats.png\")\n",
    "Image(\"speed_rate_stats.png\")"
   ]
  },
  {
   "cell_type": "code",
   "execution_count": 11,
   "metadata": {
    "collapsed": false
   },
   "outputs": [],
   "source": [
    "ncobj = ncLoadFile(pjoin(path, \"speed_stats.nc\"))\n",
    "lon = ncGetDims(ncobj, 'lon')\n",
    "lat = ncGetDims(ncobj, 'lat')\n",
    "ardata = getData(ncobj, 'alpha', ij)\n",
    "mudata = getData(ncobj, 'mu', ij)\n",
    "mindata = getData(ncobj, 'min', ij)\n",
    "sigdata = getData(ncobj, 'sig', ij)\n",
    "ncobj.close()\n",
    "fig = ArrayMapFigure()\n",
    "fig.add(ardata, xgrid, ygrid, 'Speed AR(1)', [-1, 1], 'AR(1)', map_kwargs)\n",
    "fig.add(mudata, xgrid, ygrid, 'Mean speed', [0, 25], 'Speed (m/s)', map_kwargs)\n",
    "fig.add(mindata, xgrid, ygrid, 'Minimum speed', [0, 25], 'Speed (m/s)', map_kwargs)\n",
    "fig.add(sigdata, xgrid, ygrid, 'Speed standard deviation', [0, 20], 'Std dev.', map_kwargs)\n",
    "fig.plot()\n",
    "#canvas = FC(fig)\n",
    "#fig\n",
    "saveFigure(fig, \"speed_stats.png\")\n",
    "Image(\"speed_stats.png\")"
   ]
  },
  {
   "cell_type": "code",
   "execution_count": 28,
   "metadata": {
    "collapsed": true
   },
   "outputs": [],
   "source": [
    "ncobj = ncLoadFile(pjoin(path, \"bearing_rate_stats.nc\"))\n",
    "lon = ncGetDims(ncobj, 'lon')\n",
    "lat = ncGetDims(ncobj, 'lat')\n",
    "ardata = getData(ncobj, 'alpha', ij)\n",
    "mudata = getData(ncobj, 'mu', ij)\n",
    "mindata = getData(ncobj, 'min', ij)\n",
    "sigdata = getData(ncobj, 'sig', ij)\n",
    "ncobj.close()"
   ]
  },
  {
   "cell_type": "code",
   "execution_count": 50,
   "metadata": {
    "collapsed": false
   },
   "outputs": [],
   "source": [
    "print np.percentile(sigdata, 90)\n",
    "print np.median(sigdata)"
   ]
  },
  {
   "cell_type": "code",
   "execution_count": 51,
   "metadata": {
    "collapsed": false
   },
   "outputs": [],
   "source": [
    "fig = ArrayMapFigure()\n",
    "fig.add(ardata, xgrid, ygrid, 'Bearing rate AR(1)', [-1, 1], 'AR(1)', map_kwargs)\n",
    "fig.add(mudata, xgrid, ygrid, 'Mean bearing rate', [0, 5], 'Bearing rate (degrees/hr)', map_kwargs)\n",
    "fig.add(mindata, xgrid, ygrid, 'Minimum bearing rate', [-1., 1], 'Bearing rate (degrees/hr)', map_kwargs)\n",
    "fig.add(sigdata, xgrid, ygrid, 'Bearing rate standard deviation', [0, 15], 'Std dev.', map_kwargs)\n",
    "fig.plot()\n",
    "#canvas = FC(fig)\n",
    "#fig\n",
    "saveFigure(fig, \"bearing_rate_stats.png\")\n",
    "Image(\"bearing_rate_stats.png\")"
   ]
  },
  {
   "cell_type": "code",
   "execution_count": 15,
   "metadata": {
    "collapsed": false
   },
   "outputs": [],
   "source": [
    "ncobj = ncLoadFile(pjoin(path, \"bearing_stats.nc\"))\n",
    "lon = ncGetDims(ncobj, 'lon')\n",
    "lat = ncGetDims(ncobj, 'lat')\n",
    "ardata = getData(ncobj, 'alpha', ij)\n",
    "mudata = getData(ncobj, 'mu', ij)\n",
    "mindata = getData(ncobj, 'min', ij)\n",
    "sigdata = getData(ncobj, 'sig', ij)\n",
    "\n",
    "ncobj.close()\n",
    "fig = ArrayMapFigure()\n",
    "fig.add(ardata, xgrid, ygrid, 'Bearing AR(1)', [-1, 1], 'AR(1)', map_kwargs)\n",
    "fig.add(mudata*180./np.pi, xgrid, ygrid, 'Mean bearing', [0, 360.], 'Bearing (degrees)', map_kwargs)\n",
    "fig.add(mindata, xgrid, ygrid, 'Minimum bearing', [0, 180], 'Bearing (degrees)', map_kwargs)\n",
    "fig.add(sigdata, xgrid, ygrid, 'Bearing standard deviation', [0, 1], 'Std dev.', map_kwargs)\n",
    "fig.plot()\n",
    "#canvas = FC(fig)\n",
    "#fig\n",
    "saveFigure(fig, \"bearing_stats.png\")\n",
    "Image(\"bearing_stats.png\")"
   ]
  },
  {
   "cell_type": "code",
   "execution_count": null,
   "metadata": {
    "collapsed": true
   },
   "outputs": [],
   "source": []
  }
 ],
 "metadata": {
  "kernelspec": {
   "display_name": "Python 2",
   "language": "python",
   "name": "python2"
  },
  "language_info": {
   "codemirror_mode": {
    "name": "ipython",
    "version": 2
   },
   "file_extension": ".py",
   "mimetype": "text/x-python",
   "name": "python",
   "nbconvert_exporter": "python",
   "pygments_lexer": "ipython2",
   "version": "2.7.3"
  }
 },
 "nbformat": 4,
 "nbformat_minor": 0
}
