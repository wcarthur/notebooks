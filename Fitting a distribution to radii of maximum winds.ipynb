{
 "cells": [
  {
   "cell_type": "markdown",
   "metadata": {},
   "source": [
    "# Fitting a distribution to radius to maximum wind observations\n",
    "\n",
    "The historical record has only sparse observations of radius to maximum winds $\\textrm{R}_{mw}$ in the Australian region (2002 onwards). As a first step, we fit a log-normal distribution to the observations and use that as a basis for setting the $\\textrm{R}_{mw}$ values for stochastically generated storms in TCRM."
   ]
  },
  {
   "cell_type": "code",
   "execution_count": 1,
   "metadata": {
    "collapsed": false
   },
   "outputs": [],
   "source": [
    "%matplotlib inline\n",
    "\n",
    "import os\n",
    "from os.path import join as pjoin\n",
    "from matplotlib import pyplot as plt\n",
    "from datetime import datetime, timedelta\n",
    "\n",
    "from Utilities.metutils import convert\n",
    "\n",
    "import numpy as np\n",
    "import scipy.stats as stats\n",
    "\n",
    "import pandas as pd\n",
    "import statsmodels.formula.api as smf\n",
    "\n",
    "import seaborn as sns\n",
    "sns.set_style(\"ticks\")\n",
    "sns.set_context(\"poster\")"
   ]
  },
  {
   "cell_type": "markdown",
   "metadata": {},
   "source": [
    "First a short function to convert the formatted latitude/longitude values to actual numbers."
   ]
  },
  {
   "cell_type": "code",
   "execution_count": 2,
   "metadata": {
    "collapsed": true
   },
   "outputs": [],
   "source": [
    "def convertLatLon(strval):\n",
    "    \"\"\"\n",
    "    Convert a string representing lat/lon values from '140S to -14.0, etc.\n",
    "    \n",
    "    :param str strval: string containing the latitude or longitude.\n",
    "    \n",
    "    :returns: Latitude/longitude as a float value.\n",
    "    \n",
    "    \"\"\"\n",
    "    hemi = strval[-1].upper()\n",
    "    fval = float(strval[:-1]) / 10.\n",
    "    if (hemi == 'S') | (hemi == 'W'): \n",
    "        fval *= -1\n",
    "    if (hemi == 'E') | (hemi == 'W'):\n",
    "        fval = fval % 360\n",
    "    return fval\n",
    "            "
   ]
  },
  {
   "cell_type": "markdown",
   "metadata": {},
   "source": [
    "Define the data structure and a small function to load a file. This uses the JTWC data format, described [here](http://www.usno.navy.mil/NOOC/nmfc-ph/RSS/jtwc/best_tracks/shindex.php). "
   ]
  },
  {
   "cell_type": "code",
   "execution_count": 3,
   "metadata": {
    "collapsed": false
   },
   "outputs": [],
   "source": [
    "COLNAMES = ['BASIN','Number', 'Datetime','TECHNUM', 'TECH','TAU', 'Latitude', 'Longitude', 'Windspeed','Pressure',\n",
    "            'Status', 'RAD', 'WINDCODE','RAD1', 'RAD2','RAD3', 'RAD4','Poci', 'Roci','rMax', 'GUSTS','EYE',\n",
    "            'SUBREGION','MAXSEAS', 'INITIALS','DIR', 'SPEED','STORMNAME', 'DEPTH','SEAS',\n",
    "            'SEASCODE','SEAS1', 'SEAS2','SEAS3', 'SEAS4'] \n",
    "\n",
    "COLTYPES = ['|S2', 'i', datetime, 'i', '|S4', 'i', 'f', 'f', 'f', 'f', \n",
    "            '|S4', 'f', '|S3', 'f', 'f', 'f', 'f', 'f', 'f', 'f', 'f', 'f',\n",
    "            '|S1', 'f', '|S3', 'f', 'f', '|S10', '|S1', 'f', \n",
    "            '|S3', 'f', 'f', 'f', 'f']\n",
    "COLUNITS = ['', '', '', '', '', '', '', '', 'kts', 'hPa', \n",
    "            '', 'nm', '', 'nm', 'nm', 'nm', 'nm', 'hPa', 'nm', 'nm', 'kts', 'nm',\n",
    "            '', '', '', 'degrees', 'kts', '', '', '',\n",
    "            '', '', '', '', '']\n",
    "DATEFORMAT = \"%Y%m%d%H\"\n",
    "dtype = np.dtype({'names':COLNAMES, 'formats':COLTYPES})\n",
    "converters = {\n",
    "    1: lambda s: s.strip(' ,'),\n",
    "    2: lambda s: datetime.strptime(s.strip(' ,'), DATEFORMAT),\n",
    "    6: lambda s: float(convertLatLon(s.strip(' ,'))),\n",
    "    7: lambda s: float(convertLatLon(s.strip(' ,'))),\n",
    "    8: lambda s: s.strip(' ,'),\n",
    "    9: lambda s: s.strip(' ,'),\n",
    "    10: lambda s: s.strip(' ,'),\n",
    "    11: lambda s: convert(float(s.strip(' ,') or 0), COLUNITS[11], 'km'),\n",
    "    12: lambda s: s.strip(' ,'),\n",
    "    13: lambda s: convert(float(s.strip(' ,') or 0), COLUNITS[13], 'km'),\n",
    "    14: lambda s: convert(float(s.strip(' ,') or 0), COLUNITS[14], 'km'),\n",
    "    15: lambda s: convert(float(s.strip(' ,') or 0), COLUNITS[15], 'km'),\n",
    "    16: lambda s: convert(float(s.strip(' ,') or 0), COLUNITS[16], 'km'),\n",
    "    17: lambda s: float(s.strip(',')),\n",
    "    18: lambda s: convert(float(s.strip(' ,') or 0), COLUNITS[18], 'km'),\n",
    "    19: lambda s: convert(float(s.strip(' ,') or 0), COLUNITS[19], 'km'),\n",
    "}\n",
    "delimiter = (3,4,12,4,6,5,7,7,5,6,4,5,5,6,6,6,6,6,6,5,5,5,5)\n",
    "skip_header = 0\n",
    "usecols = tuple(range(23))\n",
    "missing_value = \"\"\n",
    "filling_values = 0\n",
    "\n",
    "def loadData(filename):\n",
    "    try:\n",
    "        data = np.genfromtxt(filename, dtype, delimiter=delimiter, skip_header=skip_header, \n",
    "                             converters=converters, missing_values=missing_value, \n",
    "                             filling_values=filling_values, usecols=usecols, autostrip=True, invalid_raise=False)\n",
    "    except IndexError:\n",
    "        try:\n",
    "            data = np.genfromtxt(filename, dtype, delimiter=delimiter, skip_header=skip_header, \n",
    "                             converters=converters, missing_values=missing_value, \n",
    "                             filling_values=filling_values, usecols=tuple(range(18)), autostrip=True, invalid_raise=False)\n",
    "        except IndexError:\n",
    "            data = np.genfromtxt(filename, dtype, delimiter=[3,4,12,4,6,5,7,7,5], skip_header=skip_header, \n",
    "                             converters=converters, missing_values=missing_value, \n",
    "                             filling_values=filling_values, usecols=tuple(range(9)), autostrip=True, invalid_raise=False)\n",
    "    return data\n"
   ]
  },
  {
   "cell_type": "markdown",
   "metadata": {},
   "source": [
    "Often the b-deck files contain multiple records with the same time stamp. This is to record information on different wind speed radii (e.g. the radius to 34-knot winds, 48-knot winds, etc.). We can quickly filter out this extra information using [`numpy.unique()`](http://docs.scipy.org/doc/numpy/reference/generated/numpy.unique.html). Additional filtering restricts to a known domain and only those storms that are of Tropical Storm or Typhoon strength."
   ]
  },
  {
   "cell_type": "code",
   "execution_count": 4,
   "metadata": {
    "collapsed": true
   },
   "outputs": [],
   "source": [
    "def filterData(data):\n",
    "    datetimes, idx = np.unique(data['Datetime'], True)\n",
    "    filter1 = (data['Status'][idx] == 'TS') | (data['Status'][idx] == 'TY')\n",
    "    filter2 = (data['Longitude'][idx] >= 90.) & (data['Longitude'][idx] <= 180.)\n",
    "    filter3 = (data['rMax'][idx] >= 0.1)\n",
    "    subsidx = np.nonzero(filter1 & filter2 & filter3)\n",
    "    return data[subsidx]"
   ]
  },
  {
   "cell_type": "markdown",
   "metadata": {},
   "source": [
    "Now churn through the best-track files (unmodified) and pull out $\\textrm{R}_{mw}$ and central pressure estimates. This assumes you have the JTWC best track files somewhere locally - no download performed."
   ]
  },
  {
   "cell_type": "code",
   "execution_count": 5,
   "metadata": {
    "collapsed": true
   },
   "outputs": [],
   "source": [
    "def processfiles(path, basin):\n",
    "    rmax = np.array([])\n",
    "    prs = np.array([])\n",
    "    for root, dirs, files in os.walk(path):\n",
    "        if root.endswith(basin):\n",
    "            for file in files:\n",
    "                data = loadData(pjoin(root, file))\n",
    "                if 'Status' in data.dtype.names:\n",
    "                    data = filterData(data)\n",
    "                    if 'rMax' in data.dtype.names:\n",
    "                        rmax = np.append(rmax, data['rMax'])\n",
    "                        prs = np.append(prs, data['Pressure'])\n",
    "    return rmax, prs"
   ]
  },
  {
   "cell_type": "code",
   "execution_count": 6,
   "metadata": {
    "collapsed": false
   },
   "outputs": [],
   "source": [
    "inputPath = \"C:\\\\WorkSpace\\\\data\\\\Raw\\\\best_tracks\"\n",
    "srmax, sprs = processfiles(inputPath, 'sh')\n",
    "nrmax, nprs = processfiles(inputPath, 'wp')"
   ]
  },
  {
   "cell_type": "markdown",
   "metadata": {},
   "source": [
    "Plot up the distribution, with a kernel density estimate and a fitted lognormal distribution (with the location parameter fixed at 0)."
   ]
  },
  {
   "cell_type": "code",
   "execution_count": 17,
   "metadata": {
    "collapsed": false
   },
   "outputs": [],
   "source": [
    "fig, (ax1, ax2) = plt.subplots(2,1)\n",
    "sns.distplot(srmax, bins=np.arange(0, 201, 10),\n",
    "             kde_kws={'clip':(0, 200), 'label':\"KDE\"}, ax=ax1)\n",
    "\n",
    "shape, loc, scale = stats.lognorm.fit(srmax, scale=np.mean(srmax), floc=0)\n",
    "print \"Southern hemisphere basin: \", shape, loc, scale, np.mean(srmax)\n",
    "x = np.arange(1, 201)\n",
    "v = stats.lognorm.pdf(x, shape, loc=loc, scale=scale)\n",
    "ax1.plot(x, v, label=\"Lognormal fit\")\n",
    "ax1.legend(loc=0)\n",
    "ax1.set_xlabel(r'$R_{mw}$ (km)')\n",
    "ax1.set_xlim((0,200))\n",
    "ax1.set_title(\"Southern hemisphere (2002-2013)\")\n",
    "#################################\n",
    "sns.distplot(nrmax, bins=np.arange(0, 201, 10),\n",
    "             kde_kws={'clip':(0, 200), 'label':\"KDE\"}, ax=ax2)\n",
    "\n",
    "shape, loc, scale = stats.lognorm.fit(nrmax, scale=np.std(nrmax),floc=0)\n",
    "print \"Western Pacific basin:     \", shape, loc, scale, np.mean(nrmax)\n",
    "x = np.arange(1, 201)\n",
    "v = stats.lognorm.pdf(x, shape, loc=loc, scale=scale)\n",
    "ax2.plot(x, v, label=\"Lognormal fit\")\n",
    "ax2.legend(loc=0)\n",
    "ax2.set_xlabel(r'$R_{mw}$ (km)')\n",
    "ax2.set_xlim((0,200))\n",
    "ax2.set_title(\"Western Pacific (2002-2013)\")\n",
    "\n",
    "\n",
    "fig.tight_layout()\n",
    "sns.despine()"
   ]
  },
  {
   "cell_type": "code",
   "execution_count": 10,
   "metadata": {
    "collapsed": false
   },
   "outputs": [],
   "source": [
    "ax = sns.distplot(srmax, bins=np.arange(0, 201, 10),\n",
    "             kde_kws={'clip':(0, 200), 'label':\"KDE\"})\n",
    "\n",
    "shape, loc, scale = stats.lognorm.fit(srmax, scale=np.mean(srmax), floc=0)\n",
    "print \"Southern hemisphere basin: \", shape, scale\n",
    "x = np.arange(1, 201)\n",
    "v = stats.lognorm.pdf(x, shape, loc=loc, scale=scale)\n",
    "ax.plot(x, v, label=\"Lognormal fit\")\n",
    "ax.legend(loc=0)\n",
    "ax.set_xlabel(r'$R_{mw}$ (km)')\n",
    "ax.set_xlim((0,200))\n",
    "ax.set_title(\"Southern hemisphere (2002-2013)\")\n",
    "sns.despine()"
   ]
  },
  {
   "cell_type": "code",
   "execution_count": 11,
   "metadata": {
    "collapsed": false
   },
   "outputs": [],
   "source": [
    "sns.jointplot(sprs, srmax,kind='hex', ylim=(0,200),xlim=(900,1020))"
   ]
  },
  {
   "cell_type": "code",
   "execution_count": 12,
   "metadata": {
    "collapsed": false
   },
   "outputs": [],
   "source": [
    "m,v,s,k = stats.lognorm.stats(shape, loc, scale, moments='mvsk')\n",
    "print m, v, s, k"
   ]
  },
  {
   "cell_type": "code",
   "execution_count": 13,
   "metadata": {
    "collapsed": true
   },
   "outputs": [],
   "source": [
    "rmfile = \"C:\\\\Workspace\\\\data\\\\Derived\\\\jtwc\\\\rmw\\\\rmw.sh.csv\"\n",
    "df = pd.read_csv(rmfile)\n"
   ]
  },
  {
   "cell_type": "code",
   "execution_count": 14,
   "metadata": {
    "collapsed": false
   },
   "outputs": [],
   "source": [
    "sns.pairplot(df, kind='scatter',hue='Wind', palette='cubehelix')"
   ]
  },
  {
   "cell_type": "code",
   "execution_count": 15,
   "metadata": {
    "collapsed": false
   },
   "outputs": [],
   "source": [
    "jp = sns.jointplot(np.log(df['Pressure']), df['RMW'], kind='kde')\n",
    "jp.set_axis_labels('log(pressure)', 'RMW')"
   ]
  },
  {
   "cell_type": "code",
   "execution_count": 16,
   "metadata": {
    "collapsed": false
   },
   "outputs": [],
   "source": [
    "ax = sns.distplot(df['RMW']*1.852, bins=np.arange(0, 201, 10), kde_kws={'clip':(0, 200), 'label':\"KDE\"})\n",
    "shape, loc, scale = stats.lognorm.fit(df['RMW']*1.852, loc=np.std(df['RMW']), scale=np.mean(df['RMW']))\n",
    "print shape, loc, scale\n",
    "x = np.arange(1, 201)\n",
    "v = stats.lognorm.pdf(x, shape, loc, scale)\n",
    "ax.plot(x, v, label=\"Lognormal fit\")\n",
    "ax.legend(loc=0)\n",
    "ax.set_xlim((0, 200))\n",
    "ax.set_xlabel(r'$R_{MW}$ (km)')\n",
    "sns.despine()"
   ]
  },
  {
   "cell_type": "code",
   "execution_count": 148,
   "metadata": {
    "collapsed": false
   },
   "outputs": [],
   "source": [
    "m,v,s,k = stats.lognorm.stats(shape, loc, scale, moments='mvsk')\n",
    "print m, v, s, k"
   ]
  },
  {
   "cell_type": "code",
   "execution_count": 196,
   "metadata": {
    "collapsed": false
   },
   "outputs": [],
   "source": [
    "sns.interactplot('Pressure', 'Latitude', 'RMW', df)"
   ]
  },
  {
   "cell_type": "code",
   "execution_count": 191,
   "metadata": {
    "collapsed": false
   },
   "outputs": [],
   "source": [
    "x = np.arange(1, 120., 1.)\n",
    "p = stats.lognorm.pdf(x, shape, loc=loc, scale=scale)\n",
    "c = stats.lognorm.cdf(x, shape, loc=loc, scale=scale)"
   ]
  },
  {
   "cell_type": "code",
   "execution_count": 194,
   "metadata": {
    "collapsed": false
   },
   "outputs": [],
   "source": [
    "from Utilities.stats import rMaxDist\n",
    "xx, pp, cc = rMaxDist(scale, shape, 120.)"
   ]
  },
  {
   "cell_type": "code",
   "execution_count": 195,
   "metadata": {
    "collapsed": false
   },
   "outputs": [],
   "source": [
    "fig, (ax1, ax2) = plt.subplots(2, 1)\n",
    "ax1.plot(x, p, label=\"stats.lognorm.pdf\")\n",
    "ax1.plot(xx, pp, label=\"Utilities.stats.rMaxDist pdf\")\n",
    "ax1.legend(loc=0)\n",
    "\n",
    "ax2.plot(x, c, label=\"stats.lognorm.cdf\")\n",
    "ax2.plot(xx, cc, label=\"Utilities.stats.rMaxDist cdf\")\n",
    "ax2.legend(loc=0)\n",
    "sns.despine()"
   ]
  },
  {
   "cell_type": "code",
   "execution_count": 165,
   "metadata": {
    "collapsed": false
   },
   "outputs": [],
   "source": [
    "jp = sns.jointplot(df['Pressure'], df['RMW'], kind='reg',joint_kws={'robust':1})"
   ]
  },
  {
   "cell_type": "code",
   "execution_count": null,
   "metadata": {
    "collapsed": true
   },
   "outputs": [],
   "source": []
  }
 ],
 "metadata": {
  "kernelspec": {
   "display_name": "Python 2",
   "language": "python",
   "name": "python2"
  },
  "language_info": {
   "codemirror_mode": {
    "name": "ipython",
    "version": 2
   },
   "file_extension": ".py",
   "mimetype": "text/x-python",
   "name": "python",
   "nbconvert_exporter": "python",
   "pygments_lexer": "ipython2",
   "version": "2.7.3"
  }
 },
 "nbformat": 4,
 "nbformat_minor": 0
}
