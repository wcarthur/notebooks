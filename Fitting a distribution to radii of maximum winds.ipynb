{
 "cells": [
  {
   "cell_type": "markdown",
   "metadata": {},
   "source": [
    "# Fitting a distribution to radius to maximum wind observations\n",
    "\n",
    "The historical record has only sparse observations of radius to maximum winds $R_{mw}$ in the Australian region (2002 onwards). As in Vickery and Skerjl (2000), we assume that $R_{mw}$ fits a log-normal distribution. Powell _et al._ (2005) provide a functional form for the distribution (their Eq. 7), and we will use this as a first estimate. The resulting model is intended for application in setting $R_{mw}$ values for stochastically generated storms in TCRM.\n",
    "\n",
    "Note that this model describes the log normal distribution of $R_{mw}$ in kilometres -- Powell _et al._ define their model in nautical miles."
   ]
  },
  {
   "cell_type": "code",
   "execution_count": 1,
   "metadata": {
    "collapsed": false
   },
   "outputs": [],
   "source": [
    "%matplotlib inline\n",
    "\n",
    "from __future__ import division, print_function\n",
    "import os\n",
    "from os.path import join as pjoin\n",
    "from matplotlib import pyplot as plt\n",
    "from datetime import datetime, timedelta\n",
    "\n",
    "from Utilities.metutils import convert\n",
    "\n",
    "import numpy as np\n",
    "import scipy.stats as stats\n",
    "\n",
    "import pandas as pd\n",
    "import statsmodels.formula.api as smf\n",
    "import statsmodels.api as sm\n",
    "\n",
    "from statsmodels.tools.tools import ECDF\n",
    "\n",
    "import seaborn as sns\n",
    "sns.set_style(\"ticks\")\n",
    "sns.set_context(\"poster\")"
   ]
  },
  {
   "cell_type": "markdown",
   "metadata": {},
   "source": [
    "First a short function to convert the formatted latitude/longitude values to actual numbers."
   ]
  },
  {
   "cell_type": "code",
   "execution_count": 2,
   "metadata": {
    "collapsed": true
   },
   "outputs": [],
   "source": [
    "def convertLatLon(strval):\n",
    "    \"\"\"\n",
    "    Convert a string representing lat/lon values from '140S to -14.0, etc.\n",
    "    \n",
    "    :param str strval: string containing the latitude or longitude.\n",
    "    \n",
    "    :returns: Latitude/longitude as a float value.\n",
    "    \n",
    "    \"\"\"\n",
    "    hemi = strval[-1].upper()\n",
    "    fval = float(strval[:-1]) / 10.\n",
    "    if (hemi == 'S') | (hemi == 'W'): \n",
    "        fval *= -1\n",
    "    if (hemi == 'E') | (hemi == 'W'):\n",
    "        fval = fval % 360\n",
    "    return fval\n",
    "            "
   ]
  },
  {
   "cell_type": "markdown",
   "metadata": {},
   "source": [
    "Define the data structure and a small function to load a file. This uses the JTWC data format, described [here](http://www.usno.navy.mil/NOOC/nmfc-ph/RSS/jtwc/best_tracks/shindex.php). "
   ]
  },
  {
   "cell_type": "code",
   "execution_count": 3,
   "metadata": {
    "collapsed": false
   },
   "outputs": [],
   "source": [
    "COLNAMES = ['BASIN','Number', 'Datetime','TECHNUM', 'TECH','TAU', 'Latitude', 'Longitude', 'Windspeed','Pressure',\n",
    "            'Status', 'RAD', 'WINDCODE','RAD1', 'RAD2','RAD3', 'RAD4','Poci', 'Roci','rMax', 'GUSTS','EYE',\n",
    "            'SUBREGION','MAXSEAS', 'INITIALS','DIR', 'SPEED','STORMNAME', 'DEPTH','SEAS',\n",
    "            'SEASCODE','SEAS1', 'SEAS2','SEAS3', 'SEAS4'] \n",
    "\n",
    "COLTYPES = ['|S2', 'i', datetime, 'i', '|S4', 'i', 'f', 'f', 'f', 'f', \n",
    "            '|S4', 'f', '|S3', 'f', 'f', 'f', 'f', 'f', 'f', 'f', 'f', 'f',\n",
    "            '|S1', 'f', '|S3', 'f', 'f', '|S10', '|S1', 'f', \n",
    "            '|S3', 'f', 'f', 'f', 'f']\n",
    "COLUNITS = ['', '', '', '', '', '', '', '', 'kts', 'hPa', \n",
    "            '', 'nm', '', 'nm', 'nm', 'nm', 'nm', 'hPa', 'nm', 'nm', 'kts', 'nm',\n",
    "            '', '', '', 'degrees', 'kts', '', '', '',\n",
    "            '', '', '', '', '']\n",
    "DATEFORMAT = \"%Y%m%d%H\"\n",
    "dtype = np.dtype({'names':COLNAMES, 'formats':COLTYPES})\n",
    "converters = {\n",
    "    1: lambda s: s.strip(' ,'),\n",
    "    2: lambda s: datetime.strptime(s.strip(' ,'), DATEFORMAT),\n",
    "    6: lambda s: float(convertLatLon(s.strip(' ,'))),\n",
    "    7: lambda s: float(convertLatLon(s.strip(' ,'))),\n",
    "    8: lambda s: s.strip(' ,'),\n",
    "    9: lambda s: s.strip(' ,'),\n",
    "    10: lambda s: s.strip(' ,'),\n",
    "    11: lambda s: convert(float(s.strip(' ,') or 0), COLUNITS[11], 'km'),\n",
    "    12: lambda s: s.strip(' ,'),\n",
    "    13: lambda s: convert(float(s.strip(' ,') or 0), COLUNITS[13], 'km'),\n",
    "    14: lambda s: convert(float(s.strip(' ,') or 0), COLUNITS[14], 'km'),\n",
    "    15: lambda s: convert(float(s.strip(' ,') or 0), COLUNITS[15], 'km'),\n",
    "    16: lambda s: convert(float(s.strip(' ,') or 0), COLUNITS[16], 'km'),\n",
    "    17: lambda s: float(s.strip(' ,')),\n",
    "    18: lambda s: convert(float(s.strip(' ,') or 0), COLUNITS[18], 'km'),\n",
    "    19: lambda s: convert(float(s.strip(' ,') or 0), COLUNITS[19], 'km'),\n",
    "}\n",
    "delimiter = (3,4,12,4,6,5,7,7,5,6,4,5,5,6,6,6,6,6,6,5,5,5,5)\n",
    "skip_header = 0\n",
    "usecols = tuple(range(23))\n",
    "missing_value = \"\"\n",
    "filling_values = 0\n",
    "\n",
    "def loadData(filename):\n",
    "    try:\n",
    "        data = np.genfromtxt(filename, dtype, delimiter=delimiter, skip_header=skip_header, \n",
    "                             converters=converters, missing_values=missing_value, \n",
    "                             filling_values=filling_values, usecols=usecols, autostrip=True, invalid_raise=False)\n",
    "    except IndexError:\n",
    "        try:\n",
    "            data = np.genfromtxt(filename, dtype, delimiter=delimiter, skip_header=skip_header, \n",
    "                             converters=converters, missing_values=missing_value, \n",
    "                             filling_values=filling_values, usecols=tuple(range(18)), autostrip=True, invalid_raise=False)\n",
    "        except IndexError:\n",
    "            data = np.genfromtxt(filename, dtype, delimiter=[3,4,12,4,6,5,7,7,5], skip_header=skip_header, \n",
    "                             converters=converters, missing_values=missing_value, \n",
    "                             filling_values=filling_values, usecols=tuple(range(9)), autostrip=True, invalid_raise=False)\n",
    "    return data\n"
   ]
  },
  {
   "cell_type": "markdown",
   "metadata": {},
   "source": [
    "Often the b-deck files contain multiple records with the same time stamp. This is to record information on different wind speed radii (e.g. the radius to 34-knot winds, 48-knot winds, etc.). We can quickly filter out this extra information using [`numpy.unique()`](http://docs.scipy.org/doc/numpy/reference/generated/numpy.unique.html). Additional filtering restricts to a known domain and only those storms that are of Tropical Storm or Typhoon strength."
   ]
  },
  {
   "cell_type": "code",
   "execution_count": 4,
   "metadata": {
    "collapsed": true
   },
   "outputs": [],
   "source": [
    "def filterData(data):\n",
    "    datetimes, idx = np.unique(data['Datetime'], True)\n",
    "    filter1 = (data['Status'][idx] == 'TS') | (data['Status'][idx] == 'TY')\n",
    "    filter2 = (data['Longitude'][idx] >= 90.) & (data['Longitude'][idx] <= 180.)\n",
    "    filter3 = (data['rMax'][idx] >= 0.1)\n",
    "    filter4 = (data['Poci'][idx] > 0.1)\n",
    "    subsidx = np.nonzero(filter1 & filter2 & filter3 & filter4)\n",
    "    return data[subsidx]"
   ]
  },
  {
   "cell_type": "markdown",
   "metadata": {},
   "source": [
    "Now churn through the best-track files (unmodified) and pull out $R_{mw}$ and central pressure estimates. This assumes you have the JTWC best track files somewhere locally - no download performed."
   ]
  },
  {
   "cell_type": "code",
   "execution_count": 5,
   "metadata": {
    "collapsed": true
   },
   "outputs": [],
   "source": [
    "def processfiles(path, basin):\n",
    "    rmax = np.array([])\n",
    "    prs = np.array([])\n",
    "    lat = np.array([])\n",
    "    poci = np.array([])\n",
    "    for root, dirs, files in os.walk(path):\n",
    "        if root.endswith(basin):\n",
    "            for file in files:\n",
    "                data = loadData(pjoin(root, file))\n",
    "                if 'Status' in data.dtype.names:\n",
    "                    data = filterData(data)\n",
    "                    if 'rMax' in data.dtype.names:\n",
    "                        rmax = np.append(rmax, data['rMax'])\n",
    "                        prs = np.append(prs, data['Pressure'])\n",
    "                        poci = np.append(poci, data['Poci'])\n",
    "                        lat = np.append(lat, data['Latitude'])\n",
    "    return rmax, prs, poci, lat"
   ]
  },
  {
   "cell_type": "code",
   "execution_count": 16,
   "metadata": {
    "collapsed": false
   },
   "outputs": [],
   "source": [
    "inputPath = \"C:\\\\WorkSpace\\\\data\\\\Raw\\\\best_tracks\"\n",
    "rmax, prs, poci, lat = processfiles(inputPath, 'sh')"
   ]
  },
  {
   "cell_type": "markdown",
   "metadata": {},
   "source": [
    "Now we test the first hypothesis - that the distribution of $R_{mw}$ is represented by a log-normal distribution. Plot up the probability distribution function, with a kernel density estimate and a fitted log-normal distribution."
   ]
  },
  {
   "cell_type": "code",
   "execution_count": 17,
   "metadata": {
    "collapsed": false
   },
   "outputs": [],
   "source": [
    "print(\"Parameter estimates:       Shape; Location (fixed);    Scale;    Mean\")\n",
    "fig, ax = plt.subplots(1,1)\n",
    "sns.distplot(rmax, bins=np.arange(0, 201, 10),\n",
    "             kde_kws={'clip':(0, 200), 'label':\"KDE\"}, ax=ax)\n",
    "\n",
    "shape, loc, scale = stats.lognorm.fit(rmax, scale=np.mean(rmax), floc=0)\n",
    "print(\"Southern hemisphere basin: \", shape, loc, scale, np.mean(rmax))\n",
    "x = np.arange(1, 201)\n",
    "v = stats.lognorm.pdf(x, shape, loc=loc, scale=scale)\n",
    "fcdf = stats.lognorm.cdf(np.sort(rmax), shape, loc=loc, scale=scale)\n",
    "\n",
    "ax.plot(x, v, label=\"Lognormal fit\")\n",
    "ax.legend(loc=0)\n",
    "ax.set_xlabel(r'$R_{mw}$ (km)')\n",
    "ax.set_xlim((0, 200))\n",
    "ax.set_title(\"Southern hemisphere (2002-2013)\")\n",
    "\n",
    "\n",
    "fig.tight_layout()\n",
    "sns.despine()"
   ]
  },
  {
   "cell_type": "markdown",
   "metadata": {},
   "source": [
    "Evaluate empirical CDFs for each region, then compare to the fitted CDFs evaluated above. "
   ]
  },
  {
   "cell_type": "code",
   "execution_count": 18,
   "metadata": {
    "collapsed": false
   },
   "outputs": [],
   "source": [
    "ecdf = ECDF(rmax, side='left')\n",
    "\n",
    "plt.plot(np.sort(rmax), ecdf.y[1:])\n",
    "plt.plot(np.sort(rmax), fcdf, 'r' )\n",
    "rsq = stats.pearsonr(np.sort(rmax), fcdf)[0]**2\n",
    "plt.text( 10, 0.9, r\"$R^{2}$ = %f\"%rsq)"
   ]
  },
  {
   "cell_type": "markdown",
   "metadata": {},
   "source": [
    "## Fitting to multiple parameters\n",
    "\n",
    "In Powell _et al._ (2005), the natural logarithm of $R_{mw}$ is modelled as follows:\n",
    "\n",
    "$\\ln R_{mw} = \\alpha + \\beta \\Delta p + \\gamma \\Delta p^2 + \\zeta \\lambda^2 + \\varepsilon$\n",
    "\n",
    "The constants were determined by a generalised linear model, $\\lambda$ is the latitude and $\\varepsilon$ is a normal random variable with zero mean. \n",
    "\n",
    "Additional filtering is needed here to remove records where the pressure of the outermost closed isobar ($P_{oci}$) is not known."
   ]
  },
  {
   "cell_type": "code",
   "execution_count": 19,
   "metadata": {
    "collapsed": false
   },
   "outputs": [],
   "source": [
    "def filterPoci(field, poci):\n",
    "    filter1 = (poci >= 0.1)\n",
    "    subsidx = np.nonzero(filter1)\n",
    "    return field[subsidx]\n",
    "\n",
    "\n",
    "dp = filterPoci(poci, poci) - filterPoci(prs, poci)\n",
    "dpsq = dp*dp\n",
    "lat = filterPoci(lat, poci)\n",
    "latsq = lat*lat"
   ]
  },
  {
   "cell_type": "markdown",
   "metadata": {},
   "source": [
    "Now fit a model, based on Powell _et al._ above. "
   ]
  },
  {
   "cell_type": "code",
   "execution_count": 20,
   "metadata": {
    "collapsed": false
   },
   "outputs": [],
   "source": [
    "X = np.column_stack((dp, dpsq, latsq))\n",
    "X = sm.add_constant(X)\n",
    "y = np.array(np.log(filterPoci(rmax, poci)))\n",
    "model = sm.OLS(y, X)\n",
    "results = model.fit()\n",
    "print(results.summary())\n",
    "print('Parameters: ', results.params)\n",
    "print('P-value: ', results.pvalues)\n",
    "print('R-squared: ', results.rsquared)\n",
    "print('T-values: ', results.tvalues)"
   ]
  },
  {
   "cell_type": "markdown",
   "metadata": {},
   "source": [
    "On first inspection, this is counter to the expected outcome. The coefficient for the $\\Delta p^2$ term is positive, while the coefficient for the $\\Delta p$ term is negative. This would imply an increasing $R_{mw}$ for more intense storms (i.e. with larger $\\Delta p$). \n",
    "\n",
    "First though, we fit the data using Generalized Least Squares - this better accounts for a degree of correlation between the explanatory variables. "
   ]
  },
  {
   "cell_type": "code",
   "execution_count": 21,
   "metadata": {
    "collapsed": false
   },
   "outputs": [],
   "source": [
    "rho = results.params[1]\n",
    "from scipy.linalg import toeplitz\n",
    "order = toeplitz(range(len(results.resid)))\n",
    "sigma = rho ** order\n",
    "gls_model = sm.GLS(y, X, sigma=sigma)\n",
    "gls_results = gls_model.fit()\n",
    "print(gls_results.summary())\n",
    "print('Parameters: ', gls_results.params)\n",
    "print('P-value: ', gls_results.pvalues)\n",
    "print('R-squared: ', gls_results.rsquared)\n",
    "print('T-values: ', gls_results.tvalues)"
   ]
  },
  {
   "cell_type": "markdown",
   "metadata": {},
   "source": [
    "The results are similar. The coefficient for the $\\Delta p^2$ term is positive, and the coefficient for the $\\Delta p$ term is negative.\n",
    "\n",
    "We now plot the function to visualise what's happening. We exclude the random innovation term ($\\varepsilon$) to highlight the functional form of the model."
   ]
  },
  {
   "cell_type": "code",
   "execution_count": 23,
   "metadata": {
    "collapsed": false
   },
   "outputs": [],
   "source": [
    "deltap = np.linspace(0, 100, 100)\n",
    "lats = np.arange(-30, -1, 4)\n",
    "\n",
    "f = gls_results.params\n",
    "fig, ax = plt.subplots(1,1)\n",
    "sns.set_palette(sns.color_palette(\"coolwarm\", 8))\n",
    "for l in lats:\n",
    "    yy = f[0] + f[1]*deltap + f[2]*deltap*deltap + f[3]*l*l\n",
    "    ax.plot(deltap, np.exp(yy), label=\"%d\"%l)\n",
    "    \n",
    "ax.set_ylabel(r\"$R_{mw}$ (km)\")\n",
    "ax.set_xlabel(r\"$\\Delta p$ (hPa)\")\n",
    "ax.legend(loc=1)"
   ]
  },
  {
   "cell_type": "markdown",
   "metadata": {},
   "source": [
    "The functional form is parabolic in $\\Delta p$ (as expected), with the local minimum near $\\Delta p = 60$ hPa. Above this value (i.e. more intense storms), $R_{mw}$ would tend to increase. Latitude has only a minor influence on $R_{mw}$, but remains a useful predictor nonetheless.\n",
    "\n",
    "Now, let us examine the residuals from the GLS model:"
   ]
  },
  {
   "cell_type": "code",
   "execution_count": 24,
   "metadata": {
    "collapsed": false,
    "scrolled": false
   },
   "outputs": [],
   "source": [
    "ax = sns.distplot(gls_results.resid, kde_kws={'label':'Residuals', 'linestyle':'--'})\n",
    "fp = stats.norm.fit(gls_results.resid,shape=np.mean(gls_results.resid),scale=np.std(gls_results.resid))\n",
    "x = np.linspace(-2, 2, 1000)\n",
    "print(fp)\n",
    "print(stats.mstats.normaltest(gls_results.resid))\n",
    "ax.plot(x, stats.norm.pdf(x, fp[0], fp[1]), label='Normal')"
   ]
  },
  {
   "cell_type": "markdown",
   "metadata": {},
   "source": [
    "This provides an estimate of the magnitude of random variation around the fitted model. \n",
    "\n",
    "We now put the full model together, using randomly sampled data from the observed dataset. "
   ]
  },
  {
   "cell_type": "code",
   "execution_count": 28,
   "metadata": {
    "collapsed": false
   },
   "outputs": [],
   "source": [
    "nx = len(dp)\n",
    "ind = np.random.choice(np.arange(nx), 200, replace=True)\n",
    "dp0 = dp[ind]\n",
    "l0 = lat[ind]\n",
    "\n",
    "yy = f[0] + f[1]*dp0 + f[2]*dp0*dp0 + f[3]*l0*l0 + np.random.normal(scale=fp[1], size=200)\n",
    "rm = np.exp(yy)\n",
    "fig, ax = plt.subplots(1, 1)\n",
    "ax.scatter(dp, filterPoci(rmax, poci), c='w', edgecolor='k', s=50, marker='+', label='Observations')\n",
    "ax.scatter(dp0, rm, c=np.abs(l0), cmap=sns.light_palette('blue', as_cmap=True), s=40, label='Model', alpha=0.5)\n",
    "ax.set_xlim(0, 100)\n",
    "ax.set_xlabel(r\"$\\Delta p$ (hPa)\")\n",
    "ax.set_ylabel(r\"$R_{mw}$ (km)\")\n",
    "ax.set_ylim(0, 200)\n",
    "ax.legend(loc=1)\n",
    "ax.grid()\n"
   ]
  },
  {
   "cell_type": "markdown",
   "metadata": {},
   "source": [
    "So the model reproduces the observations reasonably well on visual inspection. Modelled values of $R_{mw}$ are generally less than 50 km for the most intense storms, while for weak storms, $R_{mw}$ values tend to be higher, with maximum values occuring for those storms with $\\Delta p < 20$ hPa. \n",
    "\n",
    "The overall distribution of $R_{mw}$ is also well reproduced. Here, we present the distribution from the $R_{mw}$ model with the fitted log-normal distribution for the observations. There's a slight over-representation of smaller storms ($R_{mw} < 25$ km), but above this the distributions match well."
   ]
  },
  {
   "cell_type": "code",
   "execution_count": 52,
   "metadata": {
    "collapsed": false
   },
   "outputs": [],
   "source": [
    "x = np.arange(1, 101)\n",
    "v = stats.lognorm.pdf(x, shape, loc=loc, scale=scale)\n",
    "fig, ax = plt.subplots(1, 1)\n",
    "sns.distplot(rm, bins=np.arange(0, 101, 5),\n",
    "             kde_kws={'clip':(0, 100), 'label':\"Model data (KDE)\"},)\n",
    "ax.plot(x, v, label=\"Lognormal fit from observations\", color='r')\n",
    "ax.legend(loc=0)\n",
    "ax.set_xlabel(r'$R_{mw}$ (km)')\n",
    "ax.set_xlim((0, 100))"
   ]
  },
  {
   "cell_type": "markdown",
   "metadata": {
    "collapsed": true
   },
   "source": [
    "## A reduced model for $R_{mw}$ - Wang and Rosowsky\n",
    "\n",
    "Wang and Rosowsky (2012) used a reduced model, where the dependence is only on the square of the pressure deficit and latitude:\n",
    "\n",
    "$\\ln R_{mw} = \\alpha + \\gamma \\Delta p^2 + \\zeta |\\lambda| + \\varepsilon$\n",
    "\n",
    "First fit a ordinary least squares model:"
   ]
  },
  {
   "cell_type": "code",
   "execution_count": 53,
   "metadata": {
    "collapsed": false
   },
   "outputs": [],
   "source": [
    "X = np.column_stack((dpsq, np.abs(lat)))\n",
    "X = sm.add_constant(X)\n",
    "y = np.array(np.log(filterPoci(rmax, poci)))\n",
    "model = sm.OLS(y, X)\n",
    "results = model.fit()\n",
    "print(results.summary())\n",
    "print('Parameters: ', results.params)\n",
    "print('P-value: ', results.pvalues)\n",
    "print('R-squared: ', results.rsquared)\n",
    "print('T-values: ', results.tvalues)"
   ]
  },
  {
   "cell_type": "markdown",
   "metadata": {},
   "source": [
    "Now use a generalised least squares model:"
   ]
  },
  {
   "cell_type": "code",
   "execution_count": 54,
   "metadata": {
    "collapsed": false
   },
   "outputs": [],
   "source": [
    "rho = results.params[1]\n",
    "from scipy.linalg import toeplitz\n",
    "order = toeplitz(range(len(results.resid)))\n",
    "sigma = rho ** order\n",
    "gls_model = sm.GLS(y, X, sigma=sigma)\n",
    "gls_results = gls_model.fit()\n",
    "print(gls_results.summary())\n",
    "print('Parameters: ', gls_results.params)\n",
    "print('P-value: ', gls_results.pvalues)\n",
    "print('R-squared: ', gls_results.rsquared)\n",
    "print('T-values: ', gls_results.tvalues)"
   ]
  },
  {
   "cell_type": "code",
   "execution_count": 55,
   "metadata": {
    "collapsed": false
   },
   "outputs": [],
   "source": [
    "deltap = np.linspace(0, 100, 100)\n",
    "lats = np.arange(-30, -1, 4)\n",
    "\n",
    "f = gls_results.params\n",
    "fig, ax = plt.subplots(1,1)\n",
    "sns.set_palette(sns.color_palette(\"coolwarm\", 8))\n",
    "for l in lats:\n",
    "    yy = f[0] + f[1]*deltap*deltap + f[2]*np.abs(l)\n",
    "    ax.plot(deltap, np.exp(yy), label=\"%d\"%l)\n",
    "    \n",
    "ax.set_ylabel(r\"$R_{mw}$ (km)\")\n",
    "ax.set_xlabel(r\"$\\Delta p$ (hPa)\")\n",
    "ax.legend(loc=1)"
   ]
  },
  {
   "cell_type": "code",
   "execution_count": 56,
   "metadata": {
    "collapsed": false
   },
   "outputs": [],
   "source": [
    "ax = sns.distplot(gls_results.resid, kde_kws={'label':'Residuals', 'linestyle':'--'})\n",
    "fp = stats.norm.fit(gls_results.resid,shape=np.mean(gls_results.resid),scale=np.std(gls_results.resid))\n",
    "x = np.linspace(-2, 2, 1000)\n",
    "print(fp)\n",
    "print(stats.mstats.normaltest(gls_results.resid))\n",
    "\n",
    "ax.plot(x, stats.norm.pdf(x, fp[0], fp[1]), label='Normal')"
   ]
  },
  {
   "cell_type": "code",
   "execution_count": 73,
   "metadata": {
    "collapsed": false
   },
   "outputs": [],
   "source": [
    "nx = len(dp)\n",
    "ind = np.random.choice(np.arange(nx), 200, replace=True)\n",
    "dp0 = dp[ind]\n",
    "l0 = lat[ind]\n",
    "\n",
    "yy = f[0] + f[1]*dp0*dp0 + f[2]*np.abs(l0) + np.random.normal(scale=fp[1], size=200)\n",
    "rm = np.exp(yy)\n",
    "fig, ax = plt.subplots(1, 1)\n",
    "ax.scatter(dp, filterPoci(rmax, poci), c='w', edgecolor='k', s=50, marker='+', label='Observations')\n",
    "ax.scatter(dp0, rm, c=np.abs(l0), s=40, label='Model')\n",
    "ax.set_xlim(0, 100)\n",
    "ax.set_xlabel(r\"$\\Delta p$ (hPa)\")\n",
    "ax.set_ylabel(r\"$R_{mw}$ (km)\")\n",
    "ax.set_ylim(0, 200)\n",
    "ax.legend(loc=1)\n",
    "ax.grid()"
   ]
  },
  {
   "cell_type": "code",
   "execution_count": 62,
   "metadata": {
    "collapsed": false
   },
   "outputs": [],
   "source": [
    "x = np.arange(1, 101)\n",
    "v = stats.lognorm.pdf(x, shape, loc=loc, scale=scale)\n",
    "fig, ax = plt.subplots(1, 1)\n",
    "sns.distplot(rm, bins=np.arange(0, 101, 5),\n",
    "             kde_kws={'clip':(0, 100), 'label':\"Model data (KDE)\"},)\n",
    "ax.plot(x, v, label=\"Lognormal fit from observations\", color='r')\n",
    "ax.legend(loc=0)\n",
    "ax.set_xlabel(r'$R_{mw}$ (km)')\n",
    "ax.set_xlim((0, 100))"
   ]
  },
  {
   "cell_type": "markdown",
   "metadata": {},
   "source": [
    "## A simple model\n",
    "\n",
    "We use a simple model, using $\\Delta p$ and $\\lambda$ only as predictors - i.e.:\n",
    "\n",
    "$\\ln R_{mw} = \\alpha + \\beta \\Delta p + \\gamma\\lambda + \\varepsilon$\n"
   ]
  },
  {
   "cell_type": "code",
   "execution_count": 75,
   "metadata": {
    "collapsed": false
   },
   "outputs": [],
   "source": [
    "X = np.column_stack((dp, np.abs(lat)))\n",
    "X = sm.add_constant(X)\n",
    "y = np.array(np.log(filterPoci(rmax, poci)))\n",
    "model = sm.OLS(y, X)\n",
    "results = model.fit()\n",
    "print(results.summary())\n",
    "print('Parameters: ', results.params)\n",
    "print('P-value: ', results.pvalues)\n",
    "print('R-squared: ', results.rsquared)\n",
    "print('T-values: ', results.tvalues)"
   ]
  },
  {
   "cell_type": "code",
   "execution_count": 76,
   "metadata": {
    "collapsed": false
   },
   "outputs": [],
   "source": [
    "rho = results.params[1]\n",
    "from scipy.linalg import toeplitz\n",
    "order = toeplitz(range(len(results.resid)))\n",
    "sigma = rho ** order\n",
    "gls_model = sm.GLS(y, X, sigma=sigma)\n",
    "gls_results = gls_model.fit()\n",
    "print(gls_results.summary())\n",
    "print('Parameters: ', gls_results.params)\n",
    "print('P-value: ', gls_results.pvalues)\n",
    "print('R-squared: ', gls_results.rsquared)\n",
    "print('T-values: ', gls_results.tvalues)"
   ]
  },
  {
   "cell_type": "code",
   "execution_count": 77,
   "metadata": {
    "collapsed": false
   },
   "outputs": [],
   "source": [
    "deltap = np.linspace(0, 100, 100)\n",
    "lats = np.arange(-30, -1, 4)\n",
    "\n",
    "f = gls_results.params\n",
    "fig, ax = plt.subplots(1,1)\n",
    "sns.set_palette(sns.color_palette(\"coolwarm\", 8))\n",
    "for l in lats:\n",
    "    yy = f[0] + f[1]*deltap + f[2]*np.abs(l)\n",
    "    ax.plot(deltap, np.exp(yy), label=\"%d\"%l)\n",
    "    \n",
    "ax.set_ylabel(r\"$R_{mw}$ (km)\")\n",
    "ax.set_xlabel(r\"$\\Delta p$ (hPa)\")\n",
    "ax.legend(loc=1)"
   ]
  },
  {
   "cell_type": "code",
   "execution_count": 78,
   "metadata": {
    "collapsed": false
   },
   "outputs": [],
   "source": [
    "ax = sns.distplot(gls_results.resid, kde_kws={'label':'Residuals', 'linestyle':'--'})\n",
    "fp = stats.norm.fit(gls_results.resid,shape=np.mean(gls_results.resid),scale=np.std(gls_results.resid))\n",
    "x = np.linspace(-2, 2, 1000)\n",
    "print(fp)\n",
    "print(stats.mstats.normaltest(gls_results.resid))\n",
    "\n",
    "ax.plot(x, stats.norm.pdf(x, fp[0], fp[1]), label='Normal')"
   ]
  },
  {
   "cell_type": "code",
   "execution_count": 80,
   "metadata": {
    "collapsed": false
   },
   "outputs": [],
   "source": [
    "nx = len(dp)\n",
    "ind = np.random.choice(np.arange(nx), 200, replace=True)\n",
    "dp0 = dp[ind]\n",
    "l0 = lat[ind]\n",
    "\n",
    "yy = f[0] + f[1]*dp0 + f[2]*np.abs(l0) + np.random.normal(scale=fp[1], size=200)\n",
    "rm = np.exp(yy)\n",
    "fig, ax = plt.subplots(1, 1)\n",
    "ax.scatter(dp, filterPoci(rmax, poci), c='w', edgecolor='k', s=50, marker='+', label='Observations')\n",
    "ax.scatter(dp0, rm, c=np.abs(l0), s=40, label='Model')\n",
    "ax.set_xlim(0, 100)\n",
    "ax.set_xlabel(r\"$\\Delta p$ (hPa)\")\n",
    "ax.set_ylabel(r\"$R_{mw}$ (km)\")\n",
    "ax.set_ylim(0, 200)\n",
    "ax.legend(loc=1)\n",
    "ax.grid()"
   ]
  },
  {
   "cell_type": "code",
   "execution_count": 81,
   "metadata": {
    "collapsed": false
   },
   "outputs": [],
   "source": [
    "x = np.arange(1, 101)\n",
    "v = stats.lognorm.pdf(x, shape, loc=loc, scale=scale)\n",
    "fig, ax = plt.subplots(1, 1)\n",
    "sns.distplot(rm, bins=np.arange(0, 101, 5),\n",
    "             kde_kws={'clip':(0, 100), 'label':\"Model data (KDE)\"},)\n",
    "ax.plot(x, v, label=\"Lognormal fit from observations\", color='r')\n",
    "ax.legend(loc=0)\n",
    "ax.set_xlabel(r'$R_{mw}$ (km)')\n",
    "ax.set_xlim((0, 100))"
   ]
  },
  {
   "cell_type": "markdown",
   "metadata": {},
   "source": [
    "<a id='references'></a>\n",
    "## References"
   ]
  }
 ],
 "metadata": {
  "kernelspec": {
   "display_name": "Python 2",
   "language": "python",
   "name": "python2"
  },
  "language_info": {
   "codemirror_mode": {
    "name": "ipython",
    "version": 2
   },
   "file_extension": ".py",
   "mimetype": "text/x-python",
   "name": "python",
   "nbconvert_exporter": "python",
   "pygments_lexer": "ipython2",
   "version": "2.7.3"
  }
 },
 "nbformat": 4,
 "nbformat_minor": 0
}
