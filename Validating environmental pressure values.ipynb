{
 "cells": [
  {
   "cell_type": "markdown",
   "metadata": {},
   "source": [
    "# Validating the environmental pressure assumption\n",
    "\n",
    "TCRM samples the long-term daily mean sea level pressure at the location of the synthetic TC to represent the far-field pressure value ($P_{env}$). However, looking at the central pressure values, the synthetic TCs tend to have too high a central pressure. Here, we compare the long-term daily mean sea level pressure values against the observed pressures at the outermost closed isobar ($P_{oci}$), and the dependence (or otherwise) on central pressure ($P_c$)."
   ]
  },
  {
   "cell_type": "code",
   "execution_count": 1,
   "metadata": {
    "collapsed": false
   },
   "outputs": [],
   "source": [
    "%matplotlib inline\n",
    "\n",
    "import os\n",
    "from os.path import join as pjoin\n",
    "from matplotlib import pyplot as plt\n",
    "from datetime import datetime, timedelta\n",
    "\n",
    "from Utilities.metutils import convert\n",
    "from Utilities.interp3d import interp3d\n",
    "from Utilities.nctools import ncLoadFile, ncGetData\n",
    "\n",
    "import numpy as np\n",
    "import scipy.stats as stats\n",
    "\n",
    "import pandas as pd\n",
    "import statsmodels.formula.api as smf\n",
    "\n",
    "from IPython.html.widgets import interact, fixed\n",
    "from IPython.html import widgets\n",
    "\n",
    "import seaborn as sns\n",
    "sns.set_style(\"ticks\")\n",
    "sns.set_context(\"poster\")"
   ]
  },
  {
   "cell_type": "markdown",
   "metadata": {},
   "source": [
    "Define a function to convert the formatted latitude/longitude values to actual numbers."
   ]
  },
  {
   "cell_type": "code",
   "execution_count": 2,
   "metadata": {
    "collapsed": true
   },
   "outputs": [],
   "source": [
    "def convertLatLon(strval):\n",
    "    \"\"\"\n",
    "    Convert a string representing lat/lon values from '140S to -14.0, etc.\n",
    "    \n",
    "    :param str strval: string containing the latitude or longitude.\n",
    "    \n",
    "    :returns: Latitude/longitude as a float value.\n",
    "    \n",
    "    \"\"\"\n",
    "    hemi = strval[-1].upper()\n",
    "    fval = float(strval[:-1]) / 10.\n",
    "    if (hemi == 'S') | (hemi == 'W'): \n",
    "        fval *= -1\n",
    "    if (hemi == 'E') | (hemi == 'W'):\n",
    "        fval = fval % 360\n",
    "    return fval"
   ]
  },
  {
   "cell_type": "code",
   "execution_count": 3,
   "metadata": {
    "collapsed": true
   },
   "outputs": [],
   "source": [
    "COLNAMES = ['BASIN','Number', 'Datetime','TECHNUM', 'TECH','TAU', 'Latitude', 'Longitude', 'Windspeed','Pressure',\n",
    "            'Status', 'RAD', 'WINDCODE','RAD1', 'RAD2','RAD3', 'RAD4','Poci', 'Roci','rMax', 'GUSTS','EYE',\n",
    "            'SUBREGION','MAXSEAS', 'INITIALS','DIR', 'SPEED','STORMNAME', 'DEPTH','SEAS',\n",
    "            'SEASCODE','SEAS1', 'SEAS2','SEAS3', 'SEAS4'] \n",
    "\n",
    "COLTYPES = ['|S2', 'i', datetime, 'i', '|S4', 'i', 'f', 'f', 'f', 'f', \n",
    "            '|S4', 'f', '|S3', 'f', 'f', 'f', 'f', 'f', 'f', 'f', 'f', 'f',\n",
    "            '|S1', 'f', '|S3', 'f', 'f', '|S10', '|S1', 'f', \n",
    "            '|S3', 'f', 'f', 'f', 'f']\n",
    "COLUNITS = ['', '', '', '', '', '', '', '', 'kts', 'hPa', \n",
    "            '', 'nm', '', 'nm', 'nm', 'nm', 'nm', 'hPa', 'nm', 'nm', 'kts', 'nm',\n",
    "            '', '', '', 'degrees', 'kts', '', '', '',\n",
    "            '', '', '', '', '']\n",
    "DATEFORMAT = \"%Y%m%d%H\"\n",
    "dtype = np.dtype({'names':COLNAMES, 'formats':COLTYPES})\n",
    "converters = {\n",
    "    1: lambda s: s.strip(' ,'),\n",
    "    2: lambda s: datetime.strptime(s.strip(' ,'), DATEFORMAT),\n",
    "    6: lambda s: float(convertLatLon(s.strip(' ,'))),\n",
    "    7: lambda s: float(convertLatLon(s.strip(' ,'))),\n",
    "    8: lambda s: s.strip(' ,'),\n",
    "    9: lambda s: s.strip(' ,'),\n",
    "    10: lambda s: s.strip(' ,'),\n",
    "    11: lambda s: convert(float(s.strip(' ,') or 0), COLUNITS[11], 'km'),\n",
    "    12: lambda s: s.strip(' ,'),\n",
    "    13: lambda s: convert(float(s.strip(' ,') or 0), COLUNITS[13], 'km'),\n",
    "    14: lambda s: convert(float(s.strip(' ,') or 0), COLUNITS[14], 'km'),\n",
    "    15: lambda s: convert(float(s.strip(' ,') or 0), COLUNITS[15], 'km'),\n",
    "    16: lambda s: convert(float(s.strip(' ,') or 0), COLUNITS[16], 'km'),\n",
    "    17: lambda s: float(s.strip(',')),\n",
    "    18: lambda s: convert(float(s.strip(' ,') or 0), COLUNITS[18], 'km'),\n",
    "    19: lambda s: convert(float(s.strip(' ,') or 0), COLUNITS[19], 'km'),\n",
    "}\n",
    "delimiter = (3,4,12,4,6,5,7,7,5,6,4,5,5,6,6,6,6,6,6,5,5,5,5)\n",
    "skip_header = 0\n",
    "usecols = tuple(range(23))\n",
    "missing_value = \"\"\n",
    "filling_values = 0\n",
    "\n",
    "def loadData(filename):\n",
    "    try:\n",
    "        data = np.genfromtxt(filename, dtype, delimiter=delimiter, skip_header=skip_header, \n",
    "                             converters=converters, missing_values=missing_value, \n",
    "                             filling_values=filling_values, usecols=usecols, autostrip=True, invalid_raise=False)\n",
    "    except IndexError:\n",
    "        try:\n",
    "            data = np.genfromtxt(filename, dtype, delimiter=delimiter, skip_header=skip_header, \n",
    "                             converters=converters, missing_values=missing_value, \n",
    "                             filling_values=filling_values, usecols=tuple(range(18)), autostrip=True, invalid_raise=False)\n",
    "        except IndexError:\n",
    "            data = np.genfromtxt(filename, dtype, delimiter=[3,4,12,4,6,5,7,7,5], skip_header=skip_header, \n",
    "                             converters=converters, missing_values=missing_value, \n",
    "                             filling_values=filling_values, usecols=tuple(range(9)), autostrip=True, invalid_raise=False)\n",
    "    return data\n"
   ]
  },
  {
   "cell_type": "markdown",
   "metadata": {},
   "source": [
    "Often the b-deck files contain multiple records with the same time stamp. This is to record information on different wind speed radii (e.g. the radius to 34-knot winds, 48-knot winds, etc.). We can quickly filter out this extra information using [`numpy.unique()`](http://docs.scipy.org/doc/numpy/reference/generated/numpy.unique.html). Additional filtering restricts to a known domain and only those storms that are of Tropical Storm or Typhoon strength."
   ]
  },
  {
   "cell_type": "code",
   "execution_count": 7,
   "metadata": {
    "collapsed": false
   },
   "outputs": [],
   "source": [
    "def filterData(data):\n",
    "    datetimes, idx = np.unique(data['Datetime'], True)\n",
    "    filter1 = (data['Status'][idx] == 'TS') | (data['Status'][idx] == 'TY')\n",
    "    filter2 = (data['Longitude'][idx] >= 90.) & (data['Longitude'][idx] <= 180.)\n",
    "    filter3 = (data['rMax'][idx] >= 0.1)\n",
    "    subsidx = np.nonzero(filter1 & filter2 & filter3)\n",
    "    return data[subsidx]\n",
    "\n",
    "def julianDays(datetime):\n",
    "    jdays = np.array([float(dt.strftime(\"%j\")) + dt.hour/24. for dt in datetime])\n",
    "    return jdays"
   ]
  },
  {
   "cell_type": "code",
   "execution_count": 8,
   "metadata": {
    "collapsed": true
   },
   "outputs": [],
   "source": [
    "def processFiles(path, basin):\n",
    "    lon = np.array([])\n",
    "    lat = np.array([])\n",
    "    prs = np.array([])\n",
    "    poci = np.array([])\n",
    "    day = np.array([])\n",
    "    for root, dirs, files in os.walk(path):\n",
    "        if root.endswith(basin):\n",
    "            for file in files:\n",
    "                data = loadData(pjoin(root, file))\n",
    "                if 'Status' in data.dtype.names:\n",
    "                    data = filterData(data)\n",
    "                    if 'Poci' in data.dtype.names:\n",
    "                        poci = np.append(poci, data['Poci'])\n",
    "                        prs = np.append(prs, data['Pressure'])\n",
    "                        lat = np.append(lat, data['Latitude'])\n",
    "                        lon = np.append(lon, data['Longitude'])\n",
    "                        day = np.append(day, julianDays(data['Datetime']))\n",
    "    return poci, prs, lon, lat, day"
   ]
  },
  {
   "cell_type": "code",
   "execution_count": 9,
   "metadata": {
    "collapsed": false
   },
   "outputs": [],
   "source": [
    "inputPath = \"C:\\\\WorkSpace\\\\data\\\\Raw\\\\best_tracks\"\n",
    "spoci, sprs, slon, slat, sdays = processFiles(inputPath, 'sh')"
   ]
  },
  {
   "cell_type": "code",
   "execution_count": 10,
   "metadata": {
    "collapsed": false
   },
   "outputs": [],
   "source": [
    "scoords = np.array([sdays, slat, slon])\n",
    "ncfile = \"C:\\\\WorkSpace\\\\tcrm\\\\MSLP\\\\slp.day.ltm.nc\"\n",
    "ncobj = ncLoadFile(ncfile)\n",
    "slpunits = getattr(ncobj.variables['slp'], 'units')\n",
    "slpdata = ncGetData(ncobj, 'slp')\n",
    "spenv = interp3d(slpdata, scoords, scale=[365., 180., 360.], offset=[0., -90., 0.])\n",
    "spenv = convert(spenv, slpunits, 'hPa')\n"
   ]
  },
  {
   "cell_type": "code",
   "execution_count": 11,
   "metadata": {
    "collapsed": false
   },
   "outputs": [],
   "source": [
    "sjp = sns.jointplot(spenv.compress(spoci!=0), spoci.compress(spoci!=0), kind='hex')\n",
    "\n",
    "sjp.set_axis_labels(r'$P_{env}$', r'$P_{oci}$')\n"
   ]
  },
  {
   "cell_type": "markdown",
   "metadata": {},
   "source": [
    "So the long-term daily mean sea level pressure isn't the best predictor of $P_{oci}$ - in either the Southern Hemisphere or the North West Pacific basin. There are cases in the NW Pacific where the difference is > 30 hPa! That's going to generate some very strange results.\n",
    "\n",
    "Can we improve this? Let's start by looking at any possible relationship to the central pressure."
   ]
  },
  {
   "cell_type": "code",
   "execution_count": 12,
   "metadata": {
    "collapsed": false
   },
   "outputs": [],
   "source": [
    "sdf = pd.DataFrame({'CentralPressure': sprs.compress(spoci!=0),\n",
    "                    'EnvPressure': spenv.compress(spoci!=0),\n",
    "                    'Poci': spoci.compress(spoci!=0), \n",
    "                    'Longitude': slon.compress(spoci!=0),\n",
    "                    'Latitude': slat.compress(spoci!=0)})\n",
    "\n",
    "sdf['Pdiff'] = sdf['EnvPressure'] - sdf['Poci']"
   ]
  },
  {
   "cell_type": "code",
   "execution_count": 13,
   "metadata": {
    "collapsed": false,
    "scrolled": false
   },
   "outputs": [],
   "source": [
    "sns.interactplot('EnvPressure', 'CentralPressure', 'Poci', sdf)"
   ]
  },
  {
   "cell_type": "code",
   "execution_count": 14,
   "metadata": {
    "collapsed": false,
    "scrolled": false
   },
   "outputs": [],
   "source": [
    "sns.pairplot(sdf, kind='reg')"
   ]
  },
  {
   "cell_type": "code",
   "execution_count": 15,
   "metadata": {
    "collapsed": false
   },
   "outputs": [],
   "source": [
    "ax = sns.distplot(sdf['Pdiff'])\n",
    "ax.set_xlabel(r'$P_{env} - P_{oci}$ (hPa)')\n",
    "ax.set_ylabel('Probability')\n",
    "sns.despine()"
   ]
  },
  {
   "cell_type": "code",
   "execution_count": 16,
   "metadata": {
    "collapsed": false
   },
   "outputs": [],
   "source": [
    "from patsy import dmatrices\n",
    "import statsmodels.api as sm\n",
    "y, X = dmatrices('Pdiff ~ EnvPressure + CentralPressure + np.abs(Latitude)', data=sdf, return_type='dataframe')\n",
    "mod = sm.OLS(y, X)\n",
    "res = mod.fit()\n",
    "print(res.summary())"
   ]
  },
  {
   "cell_type": "code",
   "execution_count": 17,
   "metadata": {
    "collapsed": false
   },
   "outputs": [],
   "source": [
    "res.params"
   ]
  },
  {
   "cell_type": "code",
   "execution_count": 20,
   "metadata": {
    "collapsed": false
   },
   "outputs": [],
   "source": [
    "def plotter(a, b, c, d, lat):\n",
    "    pc = np.linspace(800, 1000, 200)\n",
    "    penv = np.linspace(1000, 1020, 200)\n",
    "    ppc, ppenv = np.meshgrid(pc, penv)\n",
    "\n",
    "    levels = np.arange(990, 1021, 1)\n",
    "    y = a*ppenv - b*ppc - c*np.abs(lat) - d\n",
    "    cb = plt.contourf(pc, penv, np.flipud(y), levels=levels, extend='both', \n",
    "                     cmap=sns.light_palette((210, 90, 50), input=\"husl\", as_cmap=True))\n",
    "    cs = plt.contour(pc, penv, np.flipud(y), levels=levels, colors='0.25')\n",
    "    plt.clabel(cs, inline=1, fmt='%.1f hPa')\n",
    "    plt.colorbar(cb, label=r\"Modelled $P_{oci}$ (hPa)\", extend='both', \n",
    "                 shrink=1.0, aspect=30)\n",
    "    plt.xlabel(\"Central pressure (hPa)\")\n",
    "    plt.ylabel(\"Long-term daily mean sea level pressure (hPa)\")"
   ]
  },
  {
   "cell_type": "code",
   "execution_count": 21,
   "metadata": {
    "collapsed": false
   },
   "outputs": [],
   "source": [
    "d = res.params['Intercept']\n",
    "c = res.params['np.abs(Latitude)']\n",
    "b = res.params['CentralPressure']\n",
    "a = 1 - res.params['EnvPressure']\n",
    "\n",
    "\n",
    "interact(plotter, a=fixed(a), b=fixed(b), c=fixed(c), d=fixed(d), lat=(-30, -5, 1))"
   ]
  },
  {
   "cell_type": "code",
   "execution_count": null,
   "metadata": {
    "collapsed": true
   },
   "outputs": [],
   "source": []
  },
  {
   "cell_type": "code",
   "execution_count": null,
   "metadata": {
    "collapsed": true
   },
   "outputs": [],
   "source": []
  }
 ],
 "metadata": {
  "kernelspec": {
   "display_name": "Python 2",
   "language": "python",
   "name": "python2"
  },
  "language_info": {
   "codemirror_mode": {
    "name": "ipython",
    "version": 2
   },
   "file_extension": ".py",
   "mimetype": "text/x-python",
   "name": "python",
   "nbconvert_exporter": "python",
   "pygments_lexer": "ipython2",
   "version": "2.7.3"
  }
 },
 "nbformat": 4,
 "nbformat_minor": 0
}
