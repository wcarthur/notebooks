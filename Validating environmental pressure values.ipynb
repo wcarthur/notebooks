{
 "cells": [
  {
   "cell_type": "markdown",
   "metadata": {},
   "source": [
    "# Validating the environmental pressure assumption\n",
    "\n",
    "TCRM samples the long-term daily mean sea level pressure at the location of the synthetic TC to represent the far-field pressure value ($P_{env}$). However, looking at the central pressure values, the synthetic TCs tend to have too high a central pressure. Here, we compare the long-term daily mean sea level pressure values against the observed pressures at the outermost closed isobar ($P_{oci}$), and the dependence (or otherwise) on central pressure ($P_c$)."
   ]
  },
  {
   "cell_type": "code",
   "execution_count": 1,
   "metadata": {
    "collapsed": false
   },
   "outputs": [],
   "source": [
    "%matplotlib inline\n",
    "\n",
    "import os\n",
    "from os.path import join as pjoin\n",
    "from matplotlib import pyplot as plt\n",
    "from datetime import datetime, timedelta\n",
    "\n",
    "from Utilities.metutils import convert\n",
    "from Utilities.interp3d import interp3d\n",
    "from Utilities.nctools import ncLoadFile, ncGetData\n",
    "\n",
    "import numpy as np\n",
    "import scipy.stats as stats\n",
    "\n",
    "import pandas as pd\n",
    "import statsmodels.api as sm\n",
    "import statsmodels.nonparametric.api as smnp\n",
    "from six import string_types\n",
    "\n",
    "import seaborn as sns\n",
    "sns.set_style(\"ticks\")\n",
    "sns.set_context(\"poster\")\n",
    "from seaborn.utils import _kde_support"
   ]
  },
  {
   "cell_type": "markdown",
   "metadata": {},
   "source": [
    "Define a function to convert the formatted latitude/longitude values to actual numbers."
   ]
  },
  {
   "cell_type": "code",
   "execution_count": 2,
   "metadata": {
    "collapsed": true
   },
   "outputs": [],
   "source": [
    "def convertLatLon(strval):\n",
    "    \"\"\"\n",
    "    Convert a string representing lat/lon values from '140S to -14.0, etc.\n",
    "    \n",
    "    :param str strval: string containing the latitude or longitude.\n",
    "    \n",
    "    :returns: Latitude/longitude as a float value.\n",
    "    \n",
    "    \"\"\"\n",
    "    hemi = strval[-1].upper()\n",
    "    fval = float(strval[:-1]) / 10.\n",
    "    if (hemi == 'S') | (hemi == 'W'): \n",
    "        fval *= -1\n",
    "    if (hemi == 'E') | (hemi == 'W'):\n",
    "        fval = fval % 360\n",
    "    return fval"
   ]
  },
  {
   "cell_type": "code",
   "execution_count": 3,
   "metadata": {
    "collapsed": true
   },
   "outputs": [],
   "source": [
    "COLNAMES = ['BASIN','Number', 'Datetime','TECHNUM', 'TECH','TAU', 'Latitude', 'Longitude', 'Windspeed','Pressure',\n",
    "            'Status', 'RAD', 'WINDCODE','RAD1', 'RAD2','RAD3', 'RAD4','Poci', 'Roci','rMax', 'GUSTS','EYE',\n",
    "            'SUBREGION','MAXSEAS', 'INITIALS','DIR', 'SPEED','STORMNAME', 'DEPTH','SEAS',\n",
    "            'SEASCODE','SEAS1', 'SEAS2','SEAS3', 'SEAS4'] \n",
    "\n",
    "COLTYPES = ['|S2', 'i', datetime, 'i', '|S4', 'i', 'f', 'f', 'f', 'f', \n",
    "            '|S4', 'f', '|S3', 'f', 'f', 'f', 'f', 'f', 'f', 'f', 'f', 'f',\n",
    "            '|S1', 'f', '|S3', 'f', 'f', '|S10', '|S1', 'f', \n",
    "            '|S3', 'f', 'f', 'f', 'f']\n",
    "COLUNITS = ['', '', '', '', '', '', '', '', 'kts', 'hPa', \n",
    "            '', 'nm', '', 'nm', 'nm', 'nm', 'nm', 'hPa', 'nm', 'nm', 'kts', 'nm',\n",
    "            '', '', '', 'degrees', 'kts', '', '', '',\n",
    "            '', '', '', '', '']\n",
    "DATEFORMAT = \"%Y%m%d%H\"\n",
    "dtype = np.dtype({'names':COLNAMES, 'formats':COLTYPES})\n",
    "converters = {\n",
    "    1: lambda s: s.strip(' ,'),\n",
    "    2: lambda s: datetime.strptime(s.strip(' ,'), DATEFORMAT),\n",
    "    6: lambda s: float(convertLatLon(s.strip(' ,'))),\n",
    "    7: lambda s: float(convertLatLon(s.strip(' ,'))),\n",
    "    8: lambda s: s.strip(' ,'),\n",
    "    9: lambda s: s.strip(' ,'),\n",
    "    10: lambda s: s.strip(' ,'),\n",
    "    11: lambda s: convert(float(s.strip(' ,') or 0), COLUNITS[11], 'km'),\n",
    "    12: lambda s: s.strip(' ,'),\n",
    "    13: lambda s: convert(float(s.strip(' ,') or 0), COLUNITS[13], 'km'),\n",
    "    14: lambda s: convert(float(s.strip(' ,') or 0), COLUNITS[14], 'km'),\n",
    "    15: lambda s: convert(float(s.strip(' ,') or 0), COLUNITS[15], 'km'),\n",
    "    16: lambda s: convert(float(s.strip(' ,') or 0), COLUNITS[16], 'km'),\n",
    "    17: lambda s: float(s.strip(',')),\n",
    "    18: lambda s: convert(float(s.strip(' ,') or 0), COLUNITS[18], 'km'),\n",
    "    19: lambda s: convert(float(s.strip(' ,') or 0), COLUNITS[19], 'km'),\n",
    "}\n",
    "delimiter = (3,4,12,4,6,5,7,7,5,6,4,5,5,6,6,6,6,6,6,5,5,5,5)\n",
    "skip_header = 0\n",
    "usecols = tuple(range(23))\n",
    "missing_value = \"\"\n",
    "filling_values = 0\n",
    "\n",
    "def loadData(filename):\n",
    "    try:\n",
    "        data = np.genfromtxt(filename, dtype, delimiter=delimiter, skip_header=skip_header, \n",
    "                             converters=converters, missing_values=missing_value, \n",
    "                             filling_values=filling_values, usecols=usecols, autostrip=True, invalid_raise=False)\n",
    "    except IndexError:\n",
    "        try:\n",
    "            data = np.genfromtxt(filename, dtype, delimiter=delimiter, skip_header=skip_header, \n",
    "                             converters=converters, missing_values=missing_value, \n",
    "                             filling_values=filling_values, usecols=tuple(range(18)), autostrip=True, invalid_raise=False)\n",
    "        except IndexError:\n",
    "            data = np.genfromtxt(filename, dtype, delimiter=[3,4,12,4,6,5,7,7,5], skip_header=skip_header, \n",
    "                             converters=converters, missing_values=missing_value, \n",
    "                             filling_values=filling_values, usecols=tuple(range(9)), autostrip=True, invalid_raise=False)\n",
    "    return data\n"
   ]
  },
  {
   "cell_type": "markdown",
   "metadata": {},
   "source": [
    "Often the b-deck files contain multiple records with the same time stamp. This is to record information on different wind speed radii (e.g. the radius to 34-knot winds, 48-knot winds, etc.). We can quickly filter out this extra information using [`numpy.unique()`](http://docs.scipy.org/doc/numpy/reference/generated/numpy.unique.html). Additional filtering restricts to a known domain and only those storms that are of Tropical Storm or Typhoon strength."
   ]
  },
  {
   "cell_type": "code",
   "execution_count": 4,
   "metadata": {
    "collapsed": false
   },
   "outputs": [],
   "source": [
    "def filterData(data):\n",
    "    datetimes, idx = np.unique(data['Datetime'], True)\n",
    "    filter1 = (data['Status'][idx] == 'TS') | (data['Status'][idx] == 'TY')\n",
    "    filter2 = (data['Longitude'][idx] >= 90.) & (data['Longitude'][idx] <= 180.)\n",
    "    filter3 = (data['rMax'][idx] >= 0.1)\n",
    "    subsidx = np.nonzero(filter1 & filter2 & filter3)\n",
    "    return data[subsidx]\n",
    "\n",
    "def julianDays(datetime):\n",
    "    jdays = np.array([float(dt.strftime(\"%j\")) + dt.hour/24. for dt in datetime])\n",
    "    return jdays"
   ]
  },
  {
   "cell_type": "code",
   "execution_count": 5,
   "metadata": {
    "collapsed": true
   },
   "outputs": [],
   "source": [
    "def processFiles(path, basin):\n",
    "    lon = np.array([])\n",
    "    lat = np.array([])\n",
    "    prs = np.array([])\n",
    "    poci = np.array([])\n",
    "    day = np.array([])\n",
    "    for root, dirs, files in os.walk(path):\n",
    "        if root.endswith(basin):\n",
    "            for file in files:\n",
    "                data = loadData(pjoin(root, file))\n",
    "                if 'Status' in data.dtype.names:\n",
    "                    data = filterData(data)\n",
    "                    if 'Poci' in data.dtype.names:\n",
    "                        poci = np.append(poci, data['Poci'])\n",
    "                        prs = np.append(prs, data['Pressure'])\n",
    "                        lat = np.append(lat, data['Latitude'])\n",
    "                        lon = np.append(lon, data['Longitude'])\n",
    "                        day = np.append(day, julianDays(data['Datetime']))\n",
    "    return poci, prs, lon, lat, day"
   ]
  },
  {
   "cell_type": "code",
   "execution_count": 6,
   "metadata": {
    "collapsed": false
   },
   "outputs": [],
   "source": [
    "inputPath = \"C:\\\\WorkSpace\\\\data\\\\Raw\\\\best_tracks\"\n",
    "spoci, sprs, slon, slat, sdays = processFiles(inputPath, 'sh')"
   ]
  },
  {
   "cell_type": "code",
   "execution_count": 7,
   "metadata": {
    "collapsed": false
   },
   "outputs": [],
   "source": [
    "scoords = np.array([sdays, slat, slon])\n",
    "ncfile = \"C:\\\\WorkSpace\\\\tcrm\\\\MSLP\\\\slp.day.ltm.nc\"\n",
    "ncobj = ncLoadFile(ncfile)\n",
    "slpunits = getattr(ncobj.variables['slp'], 'units')\n",
    "slpdata = ncGetData(ncobj, 'slp')\n",
    "spenv = interp3d(slpdata, scoords, scale=[365., 180., 360.], offset=[0., -90., 0.])\n",
    "spenv = convert(spenv, slpunits, 'hPa')\n"
   ]
  },
  {
   "cell_type": "code",
   "execution_count": 8,
   "metadata": {
    "collapsed": false
   },
   "outputs": [],
   "source": [
    "sjp = sns.jointplot(spenv.compress(spoci!=0), spoci.compress(spoci!=0), kind='hex')\n",
    "\n",
    "sjp.set_axis_labels(r'$P_{ltm }$', r'$P_{oci}$')\n"
   ]
  },
  {
   "cell_type": "markdown",
   "metadata": {},
   "source": [
    "So the long-term daily mean sea level pressure isn't the best predictor of $P_{oci}$ - in either the Southern Hemisphere or the North West Pacific basin. There are cases in the NW Pacific where the difference is > 30 hPa! That's going to generate some very strange results.\n",
    "\n",
    "Can we improve this? Let's start by looking at any possible relationship to the central pressure."
   ]
  },
  {
   "cell_type": "code",
   "execution_count": 9,
   "metadata": {
    "collapsed": false
   },
   "outputs": [],
   "source": [
    "poci = spoci.compress(spoci!=0)\n",
    "penv = spenv.compress(spoci!=0)\n",
    "cp = sprs.compress(spoci!=0)\n",
    "dp = penv - cp\n",
    "lat = slat.compress(spoci!=0)\n",
    "jday = sdays.compress(spoci!=0)\n",
    "print(len(poci))"
   ]
  },
  {
   "cell_type": "code",
   "execution_count": 10,
   "metadata": {
    "collapsed": false
   },
   "outputs": [],
   "source": [
    "ax = sns.distplot(penv-poci, label=r\"$p_{env} - p_{oci}$\", kde_kws={\"label\":\"KDE\"}, \n",
    "                  fit=stats.lognorm, fit_kws={\"label\":\"Fitted lognormal\",\n",
    "                                              \"color\":\"0.5\", \"linestyle\":\"--\"})\n",
    "ax.set_xlabel(r\"$p_{env} - p_{oci}$ (hPa)\")\n",
    "ax.set_ylabel(\"Probability\")\n",
    "ax.legend()\n",
    "sns.despine()"
   ]
  },
  {
   "cell_type": "code",
   "execution_count": 11,
   "metadata": {
    "collapsed": false
   },
   "outputs": [],
   "source": [
    "X = np.column_stack((penv, cp, cp*cp, lat*lat, np.cos(np.pi*2*jday/365)))\n",
    "X = sm.add_constant(X)\n",
    "model = sm.OLS(poci, X)\n",
    "results = model.fit()\n",
    "print(results.summary())\n",
    "print('Parameters: ', results.params)\n",
    "print('P-value: ', results.pvalues)\n",
    "print('R-squared: ', results.rsquared)\n",
    "print('T-values: ', results.tvalues)"
   ]
  },
  {
   "cell_type": "markdown",
   "metadata": {
    "collapsed": true
   },
   "source": [
    "So our final model for $p_{oci}$ is:\n",
    "\n",
    "$P_{oci} = 2324.2 - 0.653985 P_{ltm} - 1.39845 P_{centre} + 0.0007407 P_{centre}^2 + 0.0044469 \\lambda^2 - 1.434 \\cos(2\\pi d_{year}/365) + \\varepsilon$\n",
    "\n",
    "We now examine the resuduals to determine the form for the random innovations $\\varepsilon$."
   ]
  },
  {
   "cell_type": "code",
   "execution_count": 12,
   "metadata": {
    "collapsed": false
   },
   "outputs": [],
   "source": [
    "fig, (ax0, ax1) = plt.subplots(1,2, figsize=(14,6))\n",
    "ax = sns.distplot(results.resid, label=\"Resiuals\", kde_kws={'label':'KDE of residuals', 'linestyle':'--'}, ax=ax0)\n",
    "pp = sm.ProbPlot(results.resid, stats.norm, fit=True)\n",
    "pp.qqplot('Normal', 'Residuals', line='45', ax=ax1, color='gray', alpha=0.5)\n",
    "fig.tight_layout()\n",
    "\n",
    "fp = stats.norm.fit(results.resid,)#shape=np.mean(results.resid),scale=np.std(results.resid))\n",
    "\n",
    "\n",
    "x = np.linspace(-10, 10, 1000)\n",
    "print(fp)\n",
    "print(stats.mstats.normaltest(results.resid))\n",
    "print(stats.shapiro(results.resid))\n",
    "ax.plot(x, stats.norm.pdf(x, fp[0], fp[1]), label='Normal')\n",
    "ax.legend(loc=2)\n",
    "p = list(results.params)\n",
    "p.append(fp[1])\n",
    "print(p)"
   ]
  },
  {
   "cell_type": "code",
   "execution_count": 21,
   "metadata": {
    "collapsed": false
   },
   "outputs": [],
   "source": [
    "nx = len(poci)\n",
    "ind = np.random.choice(np.arange(nx), 10000, replace=True)\n",
    "penv0 = penv[ind]\n",
    "cp0 = cp[ind]\n",
    "lat0 = lat[ind]\n",
    "jday0 = jday[ind]\n",
    "\n",
    "poci_model = p[0] + p[1]*penv0 + p[2]*cp0 +p[3]*cp0*cp0 + p[4]*lat0*lat0 + \\\n",
    "    p[5]*np.sin(np.pi*2*jday0/365) + np.random.normal(scale=p[6], size=10000)\n",
    "\n",
    "fig, (ax0, ax1) = plt.subplots(1, 2, sharey=True)\n",
    "\n",
    "ax0.scatter(penv0, poci_model, c='r', \n",
    "           cmap=sns.light_palette('blue', as_cmap=True), \n",
    "           s=40, label='Model', alpha=0.5)\n",
    "ax0.scatter(penv, poci, c='w', edgecolor='k', marker='+', \n",
    "           s=50, label=\"Observations\")\n",
    "#ax.set_xlim(1005, 1020)\n",
    "ax0.set_xlabel(r\"$P_{ltm }$ (hPa)\")\n",
    "ax0.set_ylabel(r\"$P_{oci}$ (hPa)\")\n",
    "#ax.set_ylim(990, 1015)\n",
    "ax0.legend(loc=3)\n",
    "ax0.grid(True)\n",
    "\n",
    "ax1.scatter(cp0, poci_model, c='r', \n",
    "           cmap=sns.light_palette('blue', as_cmap=True), \n",
    "           s=40, label='Model', alpha=0.5)\n",
    "ax1.scatter(cp, poci, c='w', edgecolor='k', marker='+', \n",
    "           s=50, label=\"Observations\")\n",
    "\n",
    "#ax1.set_xlim(1005, 1020)\n",
    "ax1.set_xlabel(r\"$P_{centre}$ (hPa)\")\n",
    "#ax1.set_ylim(980, 1015)\n",
    "ax1.legend(loc=3)\n",
    "ax1.grid(True)\n",
    "fig.tight_layout()"
   ]
  },
  {
   "cell_type": "code",
   "execution_count": 14,
   "metadata": {
    "collapsed": true
   },
   "outputs": [],
   "source": [
    "def bivariate_kde(x, y, bw='scott', gridsize=100, cut=3, clip=None):\n",
    "    if isinstance(bw, string_types):\n",
    "        bw_func = getattr(smnp.bandwidths, \"bw_\" + bw)\n",
    "        x_bw = bw_func(x)\n",
    "        y_bw = bw_func(y)\n",
    "        bw = [x_bw, y_bw]\n",
    "    elif np.isscalar(bw):\n",
    "        bw = [bw, bw]\n",
    "\n",
    "    if isinstance(x, pd.Series):\n",
    "        x = x.values\n",
    "    if isinstance(y, pd.Series):\n",
    "        y = y.values\n",
    "\n",
    "    kde = smnp.KDEMultivariate([x, y], \"cc\", bw)\n",
    "    x_support = _kde_support(x, kde.bw[0], gridsize, cut, [x.min(), x.max()])# clip[0])\n",
    "    y_support = _kde_support(y, kde.bw[1], gridsize, cut, [y.min(), y.max()])#clip[1])\n",
    "    xx, yy = np.meshgrid(x_support, y_support)\n",
    "    z = kde.pdf([xx.ravel(), yy.ravel()]).reshape(xx.shape)\n",
    "    return xx, yy, z\n",
    "\n",
    "def l2score(obs, model):\n",
    "    return np.linalg.norm(obs - model)"
   ]
  },
  {
   "cell_type": "code",
   "execution_count": 18,
   "metadata": {
    "collapsed": false
   },
   "outputs": [],
   "source": [
    "sns.set_style(\"darkgrid\")\n",
    "fig, (axes) = plt.subplots(2, 2, figsize=(16,16), sharey=True)\n",
    "ax0, ax1, ax2, ax3 = axes.flatten()\n",
    "levs=np.arange(0.01, 0.11, 0.1)\n",
    "ax = sns.kdeplot(penv, poci, cmap=\"Reds\", ax=ax0, kwargs={'levels':levs}, shade=True, shade_lowest=False)\n",
    "ax = sns.kdeplot(penv0, poci_model, cmap=\"Blues\", ax=ax0, kwargs={'levels':levs})\n",
    "xx, yy, ope_poci = bivariate_kde(penv, poci)\n",
    "xx, yy, mpe_poci = bivariate_kde(penv0, poci_model)\n",
    "l2pe = l2score(ope_poci, mpe_poci)\n",
    "\n",
    "ax = sns.kdeplot(cp, poci, cmap=\"Reds\", ax=ax1, kwargs={'levels':levs}, shade=True, shade_lowest=False)\n",
    "ax = sns.kdeplot(cp0, poci_model, cmap=\"Blues\", ax=ax1, kwargs={'levels':levs})\n",
    "xx, yy, ocp_poci = bivariate_kde(cp, poci)\n",
    "xx, yy, mcp_poci = bivariate_kde(cp0, poci_model)\n",
    "l2cp = l2score(ocp_poci, mcp_poci)\n",
    "\n",
    "ax = sns.kdeplot(lat, poci, cmap=\"Reds\", ax=ax2, kwargs={'levels':levs}, shade=True, shade_lowest=False)\n",
    "ax = sns.kdeplot(lat0, poci_model, cmap=\"Blues\", ax=ax2, kwargs={'levels':levs})\n",
    "xx, yy, olat_poci = bivariate_kde(lat, poci)\n",
    "xx, yy, mlat_poci = bivariate_kde(lat0, poci_model)\n",
    "l2lat = l2score(olat_poci, mlat_poci)\n",
    "\n",
    "ax = sns.kdeplot(jday, poci, cmap=\"Reds\", ax=ax3, kwargs={'levels':levs}, shade=True, shade_lowest=False)\n",
    "ax = sns.kdeplot(jday0, poci_model, cmap=\"Blues\", ax=ax3, kwargs={'levels':levs})\n",
    "xx, yy, ojday_poci = bivariate_kde(jday, poci)\n",
    "xx, yy, mjday_poci = bivariate_kde(jday0, poci_model)\n",
    "l2jday = l2score(ojday_poci, mjday_poci)\n",
    "\n",
    "red = sns.color_palette(\"Reds\")[-1]\n",
    "blue = sns.color_palette(\"Blues\")[-1]\n",
    "ax0.text(0.1, 0.1, \"Observed\", color=red, transform=ax0.transAxes)\n",
    "ax0.text(0.1, 0.05, \"Model\", color=blue, transform=ax0.transAxes)\n",
    "ax3.text(0.8, 0.05, r\"$l_2=${0:.3f}\".format(l2pe), transform=ax0.transAxes)\n",
    "ax1.text(0.1, 0.1, \"Observed\", color=red, transform=ax1.transAxes)\n",
    "ax1.text(0.1, 0.05, \"Model\", color=blue, transform=ax1.transAxes)\n",
    "ax3.text(0.8, 0.05, r\"$l_2=${0:.3f}\".format(l2cp), transform=ax1.transAxes)\n",
    "ax2.text(0.1, 0.1, \"Observed\", color=red, transform=ax2.transAxes)\n",
    "ax2.text(0.1, 0.05, \"Model\", color=blue, transform=ax2.transAxes)\n",
    "ax3.text(0.8, 0.05, r\"$l_2=${0:.3f}\".format(l2lat), transform=ax2.transAxes)\n",
    "ax3.text(0.1, 0.1, \"Observed\", color=red, transform=ax3.transAxes)\n",
    "ax3.text(0.1, 0.05, \"Model\", color=blue, transform=ax3.transAxes)\n",
    "ax3.text(0.8, 0.05, r\"$l_2=${0:.3f}\".format(l2jday), transform=ax3.transAxes)\n",
    "\n",
    "ax0.set_ylabel(r\"$P_{oci}$ (hPa)\")\n",
    "ax0.set_xlabel(r\"$P_{ltm}$ (hPa)\")\n",
    "ax1.set_xlabel(r\"$P_{centre}$ (hPa)\")\n",
    "ax2.set_ylabel(r\"$P_{oci}$ (hPa)\")\n",
    "ax2.set_xlabel(\"Latitude\")\n",
    "ax3.set_xlabel(\"Day of year\")\n",
    "ax3.set_xlim((0, 365))\n",
    "ax0.grid(True)\n",
    "ax1.grid(True)\n",
    "ax2.grid(True)\n",
    "ax3.grid(True)\n",
    "\n",
    "ax0.text(0.1, 0.9, \"(a)\", ha='center', va='center', transform=ax0.transAxes)\n",
    "ax1.text(0.1, 0.9, \"(b)\", ha='center', va='center', transform=ax1.transAxes)\n",
    "ax2.text(0.1, 0.9, \"(c)\", ha='center', va='center', transform=ax2.transAxes)\n",
    "ax3.text(0.1, 0.9, \"(d)\", ha='center', va='center', transform=ax3.transAxes)\n",
    "fig.tight_layout()"
   ]
  },
  {
   "cell_type": "code",
   "execution_count": 38,
   "metadata": {
    "collapsed": false
   },
   "outputs": [],
   "source": [
    "def getPoci(penv, pcentre, lat, jdays, eps,\n",
    "            coeffs=[2324.1564738613392, -0.6539853183796136,\n",
    "                    -1.3984456535888878, 0.00074072928008818927,\n",
    "                    0.0044469231429346088, -1.4337623534206905]):\n",
    "    \"\"\"\n",
    "    Calculate a modified pressure for the outermost closed isobar, based\n",
    "    on a model of daily long-term mean SLP values, central pressure,\n",
    "    latitude and day of year.\n",
    "\n",
    "    :param penv: environmental pressure estimate (from long term mean pressure\n",
    "                 dataset, hPa).\n",
    "    :param pcentre: Central pressure of storm (hPa).\n",
    "    :param lat: Latitude of storm (degrees).\n",
    "    :param jdays: Julian day (day of year).\n",
    "    :param eps: random variate. Retained as a constant for a single storm.\n",
    "\n",
    "    :returns: Revised estimate for the pressure of outermost closed isobar.\n",
    "    \"\"\"\n",
    "\n",
    "    if len(coeffs) < 6:\n",
    "        LOG.warn(\"Insufficient coefficients for poci calculation\")\n",
    "        LOG.warn(\"Using default values\")\n",
    "        coeffs=[2324.1564738613392, -0.6539853183796136,\n",
    "                -1.3984456535888878, 0.00074072928008818927,\n",
    "                0.0044469231429346088, -1.4337623534206905]\n",
    "\n",
    "    if isinstance(penv, (np.ndarray, list)) and \\\n",
    "      isinstance(pcentre, (np.ndarray, list)) and \\\n",
    "      isinstance(lat, (np.ndarray, list)) and \\\n",
    "      isinstance(jdays, (np.ndarray, list)):\n",
    "      assert len(penv) == len(pcentre)\n",
    "      assert len(penv) == len(lat)\n",
    "      assert len(penv) == len(jdays)\n",
    "      \n",
    "    poci_model = coeffs[0] + coeffs[1]*penv + coeffs[2]*pcentre \\\n",
    "      + coeffs[3]*pcentre*pcentre + coeffs[4]*lat*lat + \\\n",
    "        coeffs[5]*np.sin(np.pi*2*jdays/365) + eps\n",
    "\n",
    "    nvidx = np.where(pcentre == sys.maxint)\n",
    "    poci_model[nvidx] = sys.maxint\n",
    "    return poci_model\n",
    "    \n",
    "import sys\n",
    "test_pcentre = np.array([920, 920, sys.maxint, 920, 1010])\n",
    "test_penv = np.array([1000, 1000, 1000, 1000, 1000])\n",
    "test_lat = np.array([-10, -9, -8, -7, -7])\n",
    "test_jday = np.array([311,312,313,314, 314])\n",
    "eps = np.random.normal(0,scale=2.5717)\n",
    "\n",
    "pp = getPoci(test_penv, test_pcentre, test_lat, test_jday, eps)\n",
    "print(pp)"
   ]
  },
  {
   "cell_type": "code",
   "execution_count": null,
   "metadata": {
    "collapsed": true
   },
   "outputs": [],
   "source": []
  },
  {
   "cell_type": "code",
   "execution_count": null,
   "metadata": {
    "collapsed": true
   },
   "outputs": [],
   "source": []
  }
 ],
 "metadata": {
  "kernelspec": {
   "display_name": "Python 2",
   "language": "python",
   "name": "python2"
  },
  "language_info": {
   "codemirror_mode": {
    "name": "ipython",
    "version": 2
   },
   "file_extension": ".py",
   "mimetype": "text/x-python",
   "name": "python",
   "nbconvert_exporter": "python",
   "pygments_lexer": "ipython2",
   "version": "2.7.3"
  }
 },
 "nbformat": 4,
 "nbformat_minor": 0
}
