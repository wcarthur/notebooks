{
 "cells": [
  {
   "cell_type": "code",
   "execution_count": 1,
   "metadata": {
    "collapsed": false
   },
   "outputs": [],
   "source": [
    "%matplotlib inline\n",
    "\n",
    "import numpy as np\n",
    "\n",
    "import Utilities.nctools as nctools\n",
    "import Utilities.metutils as metutils\n",
    "from Utilities.maputils import find_index\n",
    "\n",
    "from PlotInterface.curves import HazardCurve\n",
    "import seaborn\n",
    "\n",
    "# Set the context: `paper`, `notebook`, `talk` or `poster`\n",
    "seaborn.set_context(\"poster\")\n"
   ]
  },
  {
   "cell_type": "code",
   "execution_count": 2,
   "metadata": {
    "collapsed": true
   },
   "outputs": [],
   "source": [
    "class PlotUnits(object):\n",
    "\n",
    "    def __init__(self, units):\n",
    "        labels = {\n",
    "            'mps': 'm/s',\n",
    "            'mph': 'mi/h',\n",
    "            'kts': 'kts',\n",
    "            'kph': 'km/h',\n",
    "            'kmh': 'km/h'\n",
    "        }\n",
    "\n",
    "        levels = {\n",
    "            'mps': np.arange(30, 101., 5.),\n",
    "            'mph': np.arange(80, 221., 10.),\n",
    "            'kts': np.arange(60, 201., 10.),\n",
    "            'kph': np.arange(80, 361., 20.),\n",
    "            'kmh': np.arange(80, 361., 20.)\n",
    "        }\n",
    "\n",
    "        self.units = units\n",
    "        self.label = labels[units]\n",
    "        self.levels = levels[units]"
   ]
  },
  {
   "cell_type": "code",
   "execution_count": 3,
   "metadata": {
    "collapsed": false
   },
   "outputs": [],
   "source": [
    "plotUnits = PlotUnits('mps')\n",
    "\n",
    "url = \"http://dapds00.nci.org.au/thredds/dodsC/fj6/TCRM/benchmark/hazard/hazard.nc\"\n",
    "\n",
    "ncobj = nctools.ncLoadFile(url)\n",
    "lon = nctools.ncGetDims(ncobj, 'lon')\n",
    "lat = nctools.ncGetDims(ncobj, 'lat')\n",
    "years = nctools.ncGetDims(ncobj, 'return_period')\n",
    "\n",
    "wspd = nctools.ncGetVar(ncobj, 'wspd')\n",
    "try:\n",
    "    wLower  = nctools.ncGetVar(ncobj, 'wspdlower')\n",
    "    wUpper = nctools.ncGetVar(ncobj, 'wspdupper')\n",
    "    ciBounds = True\n",
    "except KeyError:\n",
    "    ciBounds = False\n",
    "\n",
    "minLon = min(lon)\n",
    "maxLon = max(lon)\n",
    "minLat = min(lat)\n",
    "maxLat = max(lat)\n",
    "\n",
    "defaultMax = np.ceil(metutils.convert(100.0, 'mps', plotUnits.units)/10.0)*10.0\n",
    "\n",
    "plat, plon = [-20.5, 148.5]\n",
    "\n",
    "i = find_index(lon, plon)\n",
    "j = find_index(lat, plat)\n",
    "\n",
    "\n",
    "xlabel = 'Average recurrence interval (years)'\n",
    "ylabel = 'Wind speed ({0})'.format(plotUnits.label)\n",
    "title = \"Return period wind speed at ({0:.2f},{1:.2f})\".format(plon, plat)\n",
    "\n",
    "pWspd = metutils.convert(wspd[:, j, i], 'mps', plotUnits.units)\n",
    "if ciBounds:\n",
    "    pWspdLower = metutils.convert(wLower[:,j,i], 'mps', plotUnits.units)\n",
    "    pWspdUpper  = metutils.convert(wUpper[:,j,i], 'mps', plotUnits.units)\n",
    "    "
   ]
  },
  {
   "cell_type": "code",
   "execution_count": 4,
   "metadata": {
    "collapsed": false,
    "scrolled": false
   },
   "outputs": [],
   "source": [
    "fig = HazardCurve()\n",
    "fig.plot(years, pWspd, pWspdUpper, pWspdLower, xlabel, ylabel, title)\n",
    "fig"
   ]
  },
  {
   "cell_type": "code",
   "execution_count": null,
   "metadata": {
    "collapsed": true
   },
   "outputs": [],
   "source": []
  }
 ],
 "metadata": {
  "kernelspec": {
   "display_name": "Python 2",
   "language": "python",
   "name": "python2"
  },
  "language_info": {
   "codemirror_mode": {
    "name": "ipython",
    "version": 2
   },
   "file_extension": ".py",
   "mimetype": "text/x-python",
   "name": "python",
   "nbconvert_exporter": "python",
   "pygments_lexer": "ipython2",
   "version": "2.7.3"
  }
 },
 "nbformat": 4,
 "nbformat_minor": 0
}
