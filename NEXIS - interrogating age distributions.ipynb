{
 "cells": [
  {
   "cell_type": "code",
   "execution_count": 1,
   "metadata": {
    "collapsed": true
   },
   "outputs": [],
   "source": [
    "%matplotlib inline\n",
    "import pandas as pd\n",
    "import numpy as np\n",
    "import matplotlib.pyplot as plt\n",
    "\n",
    "from ipywidgets import interact, fixed, Dropdown\n",
    "import ipywidgets as widgets\n",
    "\n",
    "import seaborn as sns\n",
    "sns.set_context(\"poster\")\n",
    "sns.set_style('darkgrid')"
   ]
  },
  {
   "cell_type": "markdown",
   "metadata": {},
   "source": [
    "The source file `WA_Residential_Wind_Exposure_201607_TCRM.CSV` can be found in HPRM D2017-84003. Download a local version (by using the 'Supercopy' option when right-clicking on the record), and change the path to the appropriate folder."
   ]
  },
  {
   "cell_type": "code",
   "execution_count": 3,
   "metadata": {},
   "outputs": [],
   "source": [
    "inputFile = \"C:\\WorkSpace\\data\\derived\\exposure\\WA\\WA_Residential_Wind_Exposure_201607_TCRM.CSV\"\n",
    "df = pd.read_csv(inputFile)"
   ]
  },
  {
   "cell_type": "code",
   "execution_count": 3,
   "metadata": {
    "collapsed": true
   },
   "outputs": [],
   "source": [
    "localities = sorted(list(pd.unique(df['UCL_NAME_2011'])))\n",
    "locdropdown = Dropdown(options=localities, description=\"Locality\")\n",
    "ages = sorted(list(pd.unique(df['YEAR_BUILT'])))"
   ]
  },
  {
   "cell_type": "code",
   "execution_count": 4,
   "metadata": {
    "collapsed": true
   },
   "outputs": [],
   "source": [
    "def plotAgeDist(df, locality):\n",
    "    fig, ax = plt.subplots(1, 1, figsize=(12,12))\n",
    "    locdf = df[df['UCL_NAME_2011'] == locality]\n",
    "    sns.countplot(x=\"YEAR_BUILT\", data=locdf, order=ages, ax=ax)\n",
    "    ax.set_xlabel(\"Year built\")\n",
    "    ax.set_ylabel(\"Count\")\n",
    "    plt.show()"
   ]
  },
  {
   "cell_type": "code",
   "execution_count": 5,
   "metadata": {},
   "outputs": [
    {
     "data": {
      "application/vnd.jupyter.widget-view+json": {
       "model_id": "908c5dc6dcf841c98f096c1741c944b1"
      }
     },
     "metadata": {},
     "output_type": "display_data"
    },
    {
     "data": {
      "text/plain": [
       "<function __main__.plotAgeDist>"
      ]
     },
     "execution_count": 5,
     "metadata": {},
     "output_type": "execute_result"
    }
   ],
   "source": [
    "interact(plotAgeDist, df=fixed(df), locality=locdropdown)"
   ]
  },
  {
   "cell_type": "markdown",
   "metadata": {},
   "source": [
    "There's two aspects to the age distribution - communities where there has been substantial growth since the last significant cyclone, and communities with a large proportion of older (pre-1980) era construction. "
   ]
  },
  {
   "cell_type": "markdown",
   "metadata": {},
   "source": [
    "TODO: \n",
    "1. Add a chart that ranks the localities by proportion of a selected age group. The list of age groups is already compiled (`ages`), just need to do the calculations to get proportions for the specified age group.\n",
    "2. Add another figure that plots the predominant age group for each suburb in the locality. If there's a spatial layer of the boundaries for `SUBURB_2015`, then one could plot up a categorised map of the suburbs based on predominant age group."
   ]
  }
 ],
 "metadata": {
  "kernelspec": {
   "display_name": "Python 2",
   "language": "python",
   "name": "python2"
  },
  "language_info": {
   "codemirror_mode": {
    "name": "ipython",
    "version": 2
   },
   "file_extension": ".py",
   "mimetype": "text/x-python",
   "name": "python",
   "nbconvert_exporter": "python",
   "pygments_lexer": "ipython2",
   "version": "2.7.3"
  }
 },
 "nbformat": 4,
 "nbformat_minor": 2
}
