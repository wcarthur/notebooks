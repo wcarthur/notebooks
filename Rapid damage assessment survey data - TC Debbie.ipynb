{
 "cells": [
  {
   "cell_type": "code",
   "execution_count": 64,
   "metadata": {},
   "outputs": [],
   "source": [
    "%matplotlib inline\n",
    "import matplotlib.pyplot as plt\n",
    "\n",
    "import pandas as pd\n",
    "\n",
    "import seaborn as sns\n",
    "sns.set_context(\"poster\")"
   ]
  },
  {
   "cell_type": "code",
   "execution_count": 65,
   "metadata": {},
   "outputs": [
    {
     "data": {
      "text/html": [
       "<div>\n",
       "<style>\n",
       "    .dataframe thead tr:only-child th {\n",
       "        text-align: right;\n",
       "    }\n",
       "\n",
       "    .dataframe thead th {\n",
       "        text-align: left;\n",
       "    }\n",
       "\n",
       "    .dataframe tbody tr th {\n",
       "        vertical-align: top;\n",
       "    }\n",
       "</style>\n",
       "<table border=\"1\" class=\"dataframe\">\n",
       "  <thead>\n",
       "    <tr style=\"text-align: right;\">\n",
       "      <th></th>\n",
       "      <th>Longitude</th>\n",
       "      <th>Latitude</th>\n",
       "      <th>OBJECTID</th>\n",
       "      <th>LEVELS</th>\n",
       "      <th>_indices__.x</th>\n",
       "      <th>_indices__.y</th>\n",
       "      <th>_indices__.z</th>\n",
       "    </tr>\n",
       "  </thead>\n",
       "  <tbody>\n",
       "    <tr>\n",
       "      <th>count</th>\n",
       "      <td>11088.000000</td>\n",
       "      <td>11088.000000</td>\n",
       "      <td>11088.000000</td>\n",
       "      <td>3298.000000</td>\n",
       "      <td>0.0</td>\n",
       "      <td>0.0</td>\n",
       "      <td>0.0</td>\n",
       "    </tr>\n",
       "    <tr>\n",
       "      <th>mean</th>\n",
       "      <td>149.948680</td>\n",
       "      <td>-22.553128</td>\n",
       "      <td>13822.813402</td>\n",
       "      <td>2.126743</td>\n",
       "      <td>NaN</td>\n",
       "      <td>NaN</td>\n",
       "      <td>NaN</td>\n",
       "    </tr>\n",
       "    <tr>\n",
       "      <th>std</th>\n",
       "      <td>1.780771</td>\n",
       "      <td>2.902668</td>\n",
       "      <td>5293.582471</td>\n",
       "      <td>24.136121</td>\n",
       "      <td>NaN</td>\n",
       "      <td>NaN</td>\n",
       "      <td>NaN</td>\n",
       "    </tr>\n",
       "    <tr>\n",
       "      <th>min</th>\n",
       "      <td>141.079049</td>\n",
       "      <td>-28.321330</td>\n",
       "      <td>109.000000</td>\n",
       "      <td>0.000000</td>\n",
       "      <td>NaN</td>\n",
       "      <td>NaN</td>\n",
       "      <td>NaN</td>\n",
       "    </tr>\n",
       "    <tr>\n",
       "      <th>25%</th>\n",
       "      <td>148.598683</td>\n",
       "      <td>-23.390399</td>\n",
       "      <td>10910.750000</td>\n",
       "      <td>1.000000</td>\n",
       "      <td>NaN</td>\n",
       "      <td>NaN</td>\n",
       "      <td>NaN</td>\n",
       "    </tr>\n",
       "    <tr>\n",
       "      <th>50%</th>\n",
       "      <td>149.160292</td>\n",
       "      <td>-21.157977</td>\n",
       "      <td>13876.500000</td>\n",
       "      <td>1.000000</td>\n",
       "      <td>NaN</td>\n",
       "      <td>NaN</td>\n",
       "      <td>NaN</td>\n",
       "    </tr>\n",
       "    <tr>\n",
       "      <th>75%</th>\n",
       "      <td>150.520417</td>\n",
       "      <td>-20.402510</td>\n",
       "      <td>19072.250000</td>\n",
       "      <td>2.000000</td>\n",
       "      <td>NaN</td>\n",
       "      <td>NaN</td>\n",
       "      <td>NaN</td>\n",
       "    </tr>\n",
       "    <tr>\n",
       "      <th>max</th>\n",
       "      <td>166.033776</td>\n",
       "      <td>-5.497914</td>\n",
       "      <td>22602.000000</td>\n",
       "      <td>999.000000</td>\n",
       "      <td>NaN</td>\n",
       "      <td>NaN</td>\n",
       "      <td>NaN</td>\n",
       "    </tr>\n",
       "  </tbody>\n",
       "</table>\n",
       "</div>"
      ],
      "text/plain": [
       "          Longitude      Latitude      OBJECTID       LEVELS  _indices__.x  \\\n",
       "count  11088.000000  11088.000000  11088.000000  3298.000000           0.0   \n",
       "mean     149.948680    -22.553128  13822.813402     2.126743           NaN   \n",
       "std        1.780771      2.902668   5293.582471    24.136121           NaN   \n",
       "min      141.079049    -28.321330    109.000000     0.000000           NaN   \n",
       "25%      148.598683    -23.390399  10910.750000     1.000000           NaN   \n",
       "50%      149.160292    -21.157977  13876.500000     1.000000           NaN   \n",
       "75%      150.520417    -20.402510  19072.250000     2.000000           NaN   \n",
       "max      166.033776     -5.497914  22602.000000   999.000000           NaN   \n",
       "\n",
       "       _indices__.y  _indices__.z  \n",
       "count           0.0           0.0  \n",
       "mean            NaN           NaN  \n",
       "std             NaN           NaN  \n",
       "min             NaN           NaN  \n",
       "25%             NaN           NaN  \n",
       "50%             NaN           NaN  \n",
       "75%             NaN           NaN  \n",
       "max             NaN           NaN  "
      ]
     },
     "execution_count": 65,
     "metadata": {},
     "output_type": "execute_result"
    }
   ],
   "source": [
    "filename = \"N:/georisk/HaRIA_B_Wind/projects/impact_forecasting/data/exposure/Qld - RDA - TC Debbie.xlsx\"\n",
    "df = pd.read_excel(filename)\n",
    "df.describe()"
   ]
  },
  {
   "cell_type": "code",
   "execution_count": 66,
   "metadata": {},
   "outputs": [
    {
     "data": {
      "text/plain": [
       "Index([u'Longitude', u'Latitude', u'OBJECTID', u'USERID', u'STREETNUM',\n",
       "       u'STREETNAME', u'LOCALITY', u'LGA', u'SURVEYDATE', u'CONDITION',\n",
       "       u'BUILDTYPE', u'BUSINESS_OPERATION', u'HABITABLE', u'OCCUPIED',\n",
       "       u'WALLTYPE', u'ROOFTYPE', u'WATERHEIGHT', u'HAZARD1', u'HAZARD2',\n",
       "       u'HAZARD3', u'TASK1', u'TASK2', u'TASK3', u'RECOVSUP1', u'RECOVSUP2',\n",
       "       u'VULNPERS1', u'VULNPERS2', u'ANIMWELF', u'COMMENTS', u'ARCHIVE',\n",
       "       u'PHOTOLINK', u'created_user', u'last_edited_user', u'created_date',\n",
       "       u'last_edited_date', u'LEVELS', u'GlobalID', u'_indices__.x',\n",
       "       u'_indices__.y', u'_indices__.z', u'FMETimestamp'],\n",
       "      dtype='object')"
      ]
     },
     "execution_count": 66,
     "metadata": {},
     "output_type": "execute_result"
    }
   ],
   "source": [
    "df.columns"
   ]
  },
  {
   "cell_type": "code",
   "execution_count": 67,
   "metadata": {},
   "outputs": [
    {
     "data": {
      "image/png": "[encoded data removed]",
      "text/plain": [
       "<matplotlib.figure.Figure at 0x252f3130>"
      ]
     },
     "metadata": {},
     "output_type": "display_data"
    }
   ],
   "source": [
    "order = ['No Damage', 'Minor', 'Moderate', 'Severe', 'Total']\n",
    "ax = sns.countplot(x=\"CONDITION\", hue=\"HABITABLE\", data=df, order=order)\n",
    "ax.legend(loc=1)\n",
    "ax.set_yscale(\"log\", nonposy='clip')\n"
   ]
  }
 ],
 "metadata": {
  "kernelspec": {
   "display_name": "Python 2",
   "language": "python",
   "name": "python2"
  },
  "language_info": {
   "codemirror_mode": {
    "name": "ipython",
    "version": 2
   },
   "file_extension": ".py",
   "mimetype": "text/x-python",
   "name": "python",
   "nbconvert_exporter": "python",
   "pygments_lexer": "ipython2",
   "version": "2.7.3"
  }
 },
 "nbformat": 4,
 "nbformat_minor": 2
}
