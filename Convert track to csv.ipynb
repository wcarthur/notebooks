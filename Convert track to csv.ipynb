{
 "cells": [
  {
   "cell_type": "code",
   "execution_count": 1,
   "metadata": {
    "collapsed": false
   },
   "outputs": [],
   "source": [
    "%matplotlib inline\n",
    "\n",
    "import numpy as np\n",
    "from IPython.display import Image\n",
    "\n",
    "import wind\n",
    "from PlotInterface.maps import WindfieldMap, BarbMapFigure, levels, FilledContourMapFigure\n",
    "\n",
    "from Utilities.config import ConfigParser\n",
    "from Utilities.tracks2shp import tracks2line, tracks2point\n",
    "\n",
    "configFile = \"C:/WorkSpace/data/TC/config/cairns.ini\"\n",
    "trackFile = \"C:/WorkSpace/data/TC/cairns/tracks/tracks.00133.nc\"\n",
    "config = ConfigParser()\n",
    "config.read(configFile)\n",
    "\n",
    "    \n",
    "tracks = wind.loadTracks(trackFile)\n",
    "print len(tracks)\n",
    "wfg = wind.WindfieldGenerator(config=config)\n"
   ]
  },
  {
   "cell_type": "code",
   "execution_count": 2,
   "metadata": {
    "collapsed": false
   },
   "outputs": [],
   "source": [
    "figure = FilledContourMapFigure()\n",
    "lvls, exp = levels(100, 0)\n",
    "cbarlab = \"Wind speed (m/s)\"\n",
    "\n",
    "for track in tracks:\n",
    "    wfg.setGridLimit(track)\n",
    "    wt = wind.WindfieldAroundTrack(track, windFieldType='kepert',margin=5.0, resolution=0.02)\n",
    "    result = wt.regionalExtremes(wfg.gridLimit)\n",
    "    gust, bearing, Vx, Vy, P, lon, lat = result\n",
    "    [xgrid, ygrid] = np.meshgrid(lon, lat)\n",
    "    map_kwargs = dict(llcrnrlon=lon.min(),\n",
    "                  llcrnrlat=lat.min(),\n",
    "                  urcrnrlon=lon.max(),\n",
    "                  urcrnrlat=lat.max(),\n",
    "                  projection='merc',\n",
    "                  resolution='i')\n",
    "\n",
    "    figure.add(gust, xgrid, ygrid, \"{0}\".format(track.trackId), lvls, cbarlab, map_kwargs)\n",
    "    \n",
    "figure.plot()\n",
    "figure.save(\"windfield.png\")\n",
    "Image(\"windfield.png\")"
   ]
  },
  {
   "cell_type": "code",
   "execution_count": 2,
   "metadata": {
    "collapsed": false
   },
   "outputs": [],
   "source": [
    "tracks[1].data"
   ]
  },
  {
   "cell_type": "code",
   "execution_count": 3,
   "metadata": {
    "collapsed": false
   },
   "outputs": [],
   "source": [
    "from netCDF4 import num2date\n",
    "\n",
    "print num2date(tracks[1].data['Datetime'],'hours since 1900-01-01 00:00' )"
   ]
  },
  {
   "cell_type": "code",
   "execution_count": 6,
   "metadata": {
    "collapsed": false
   },
   "outputs": [],
   "source": []
  },
  {
   "cell_type": "code",
   "execution_count": null,
   "metadata": {
    "collapsed": true
   },
   "outputs": [],
   "source": [
    "tracks[1].data['Datetime'] = num2date(tracks[1].data['Datetime'], 'hours since 1900-01-01 00:00')"
   ]
  },
  {
   "cell_type": "code",
   "execution_count": 14,
   "metadata": {
    "collapsed": false
   },
   "outputs": [],
   "source": [
    "dir(tracks[1].data['Datetime'][0])"
   ]
  },
  {
   "cell_type": "code",
   "execution_count": 12,
   "metadata": {
    "collapsed": true
   },
   "outputs": [],
   "source": [
    "header = 'CycloneNumber,Datetime,TimeElapsed,Longitude,' + \\\n",
    "                 'Latitude,Speed,Bearing,' + \\\n",
    "                 'CentralPressure,EnvPressure,rMax\\n'\n",
    "fmt = '%i,%s,%7.3f,%8.3f,%8.3f,%6.2f,%6.2f,%7.2f,%7.2f,%6.2f'"
   ]
  },
  {
   "cell_type": "code",
   "execution_count": 14,
   "metadata": {
    "collapsed": false
   },
   "outputs": [],
   "source": [
    "trackFile = \"C:/WorkSpace/data/TC/cairns/scenario2.csv\"\n",
    "fp = open(trackFile, 'w')\n",
    "np.savetxt(fp, tracks[1].data, fmt=fmt)\n",
    "fp.close()"
   ]
  },
  {
   "cell_type": "code",
   "execution_count": null,
   "metadata": {
    "collapsed": true
   },
   "outputs": [],
   "source": []
  }
 ],
 "metadata": {
  "kernelspec": {
   "display_name": "Python 2",
   "language": "python",
   "name": "python2"
  },
  "language_info": {
   "codemirror_mode": {
    "name": "ipython",
    "version": 2
   },
   "file_extension": ".py",
   "mimetype": "text/x-python",
   "name": "python",
   "nbconvert_exporter": "python",
   "pygments_lexer": "ipython2",
   "version": "2.7.3"
  }
 },
 "nbformat": 4,
 "nbformat_minor": 0
}
