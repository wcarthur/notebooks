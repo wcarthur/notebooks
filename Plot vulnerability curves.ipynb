{
 "cells": [
  {
   "cell_type": "code",
   "execution_count": 1,
   "metadata": {
    "collapsed": false
   },
   "outputs": [],
   "source": [
    "%matplotlib inline\n",
    "from __future__ import print_function\n",
    "\n",
    "import matplotlib.pyplot as plt\n",
    "import seaborn as sns\n",
    "\n",
    "sns.set_style('darkgrid')\n",
    "from core_hazimp.jobs.vulnerability_model import vuln_sets_from_xml_file\n",
    "vuln_file1 = \"C:/WorkSpace/hazimp/resources/IAG_domestic_wind_vul_curves.xml\"\n",
    "vuln_file2 = \"C:/WorkSpace/hazimp/resources/domestic_wind_vul_curves.xml\"\n",
    "vuln_set_id = 'domestic_wind_2012'\n",
    "VulnerabilitySet1 = vuln_sets_from_xml_file(vuln_file1)\n",
    "vuln_functions1 = VulnerabilitySet1[vuln_set_id]\n",
    "VulnerabilitySet2 = vuln_sets_from_xml_file(vuln_file2)\n",
    "vuln_functions2 = VulnerabilitySet2[vuln_set_id]\n",
    "iml = vuln_functions1.intensity_measure_level"
   ]
  },
  {
   "cell_type": "code",
   "execution_count": 2,
   "metadata": {
    "collapsed": false,
    "scrolled": false
   },
   "outputs": [],
   "source": [
    "fig, ax = plt.subplots(2, 1, sharex=True, figsize=(16, 8))\n",
    "for key in sorted(vuln_functions1.vulnerability_functions):\n",
    "    ax[0].plot(iml, vuln_functions1.vulnerability_functions[key].mean_loss, label=key)\n",
    "    \n",
    "for key in sorted(vuln_functions2.vulnerability_functions):\n",
    "    ax[1].plot(iml, vuln_functions2.vulnerability_functions[key].mean_loss, label=key)\n",
    "    \n",
    "#ax[0].set_xlabel(vuln_functions1.intensity_measure_type)\n",
    "ax[0].set_ylabel(\"Structural loss ratio\")\n",
    "ax[0].legend(loc=2, ncol=2)\n",
    "ax[0].set_xlim((25, 90))\n",
    "\n",
    "ax[1].set_xlabel(vuln_functions2.intensity_measure_type)\n",
    "ax[1].set_ylabel(\"Structural loss ratio\")\n",
    "ax[1].legend(loc=2)\n",
    "ax[1].set_xlim((25, 90))\n",
    "\n",
    "ax[0].axvline(69, c='k', linestyle='--', linewidth=1, label='Region C')\n",
    "ax[0].axvline(62.5, c='k', linestyle='--', linewidth=1, label='Cat 4')\n",
    "ax[0].axvline(77.8, c='k', linestyle='--', linewidth=1, label='Cat 5')\n",
    "\n",
    "ax[1].axvline(69, c='k', linestyle='--', linewidth=1, label='Region C')\n",
    "ax[1].axvline(62.5, c='k', linestyle='--', linewidth=1, label='Cat 4')\n",
    "ax[1].axvline(77.8, c='k', linestyle='--', linewidth=1, label='Cat 5')\n",
    "\n",
    "ax[0].text(69, 1.05, 'Region C', ha='center')\n",
    "ax[0].text(62.5, 1.05, 'Cat 4', ha='center')\n",
    "ax[0].text(77.8, 1.05, 'Cat 5', ha='center')"
   ]
  },
  {
   "cell_type": "code",
   "execution_count": null,
   "metadata": {
    "collapsed": true
   },
   "outputs": [],
   "source": []
  },
  {
   "cell_type": "code",
   "execution_count": null,
   "metadata": {
    "collapsed": true
   },
   "outputs": [],
   "source": []
  },
  {
   "cell_type": "code",
   "execution_count": null,
   "metadata": {
    "collapsed": true
   },
   "outputs": [],
   "source": []
  }
 ],
 "metadata": {
  "kernelspec": {
   "display_name": "Python 2",
   "language": "python",
   "name": "python2"
  },
  "language_info": {
   "codemirror_mode": {
    "name": "ipython",
    "version": 2
   },
   "file_extension": ".py",
   "mimetype": "text/x-python",
   "name": "python",
   "nbconvert_exporter": "python",
   "pygments_lexer": "ipython2",
   "version": "2.7.3"
  }
 },
 "nbformat": 4,
 "nbformat_minor": 0
}
