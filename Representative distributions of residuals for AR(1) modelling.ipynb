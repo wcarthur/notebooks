{
 "cells": [
  {
   "cell_type": "markdown",
   "metadata": {},
   "source": [
    "# Representative distributions of residuals\n",
    "\n",
    "Most commonly, AR(1) models assume the errors are white noise - i.e. sampled from a normal distribution. TCRM however uses a logistic distribution for generating the random innovations. Here we demonstrate that the logistic distribution gives a better representation of the residuals for a range of parameters. \n",
    "\n",
    "The standard normal distribution is defined as:\n",
    "\n",
    "$f(x; \\mu, \\sigma) =\\frac{1}{\\sigma} \\phi\\left(\\frac{x-\\mu}{\\sigma}\\right)$\n",
    "\n",
    "where:\n",
    "\n",
    "$\\phi(x) = \\frac{e^{- \\frac{\\scriptscriptstyle 1}{\\scriptscriptstyle 2} x^2}}{\\sqrt{2\\pi}}$,\n",
    "\n",
    "$\\mu$ is the sample mean and $\\sigma$ is the smple variance of the data.\n",
    "\n",
    "Meanwhile, the logistic distribution is described as:\n",
    "\n",
    "$f(x; \\mu,s) = \\frac{e^{\\frac{x-\\mu}{s}}} {s\\left(1+e^{\\frac{x-\\mu}{s}}\\right)^2} =\\frac{1}{4s} \\operatorname{sech}^2\\!\\left(\\frac{x-\\mu}{2s}\\right)$\n",
    "\n"
   ]
  },
  {
   "cell_type": "code",
   "execution_count": 1,
   "metadata": {
    "collapsed": false
   },
   "outputs": [],
   "source": [
    "%matplotlib inline\n",
    "from __future__ import print_function, division\n",
    "\n",
    "import io\n",
    "import os\n",
    "import sys\n",
    "from os.path import join as pjoin\n",
    "\n",
    "import numpy as np\n",
    "import scipy.stats as stats\n",
    "import seaborn as sns\n",
    "import matplotlib.pyplot as plt\n",
    "\n",
    "import statsmodels.api as sm\n",
    "\n",
    "\n",
    "from StatInterface.GenerateDistributions import GenerateDistributions\n",
    "from Utilities.stats import maxCellNum\n",
    "from Utilities.config import ConfigParser\n",
    "from Utilities.metutils import convert\n",
    "from Utilities.files import flLoadFile\n",
    "\n",
    "sns.set_context(\"poster\")\n",
    "sns.set_style(\"ticks\")"
   ]
  },
  {
   "cell_type": "code",
   "execution_count": 2,
   "metadata": {
    "collapsed": false
   },
   "outputs": [],
   "source": [
    "fig, (ax1) = plt.subplots(1, 1,sharey=True)\n",
    "l = stats.logistic.rvs(size=1000)\n",
    "n = stats.norm.rvs(size=1000)\n",
    "lx = np.linspace(stats.logistic.ppf(0.005),\n",
    "                 stats.logistic.ppf(0.995), 100)\n",
    "ax1.plot(lx, stats.logistic.pdf(lx), 'r-', lw=2, label=\"Logistic\")\n",
    "\n",
    "\n",
    "nx = np.linspace(stats.norm.ppf(0.005),\n",
    "                 stats.norm.ppf(0.995), 100)\n",
    "ax1.plot(nx, stats.norm.pdf(nx), 'k-', lw=2, label=\"Normal\")\n",
    "\n",
    "ax1.set_xlim((-6, 6))\n",
    "ax1.legend(loc=2)\n",
    "ax1.grid()\n"
   ]
  },
  {
   "cell_type": "markdown",
   "metadata": {},
   "source": [
    "Above, we present the normal and logistic distributions, with the range spanning the 99th percentile range for each (with zero mean and unit standard deviation). It is clear that the logistic distribution provides a substantially wider range of values from which to sample."
   ]
  },
  {
   "cell_type": "markdown",
   "metadata": {},
   "source": [
    "So now we explore the TC best track data."
   ]
  },
  {
   "cell_type": "code",
   "execution_count": 3,
   "metadata": {
    "collapsed": true
   },
   "outputs": [],
   "source": [
    "configstr = \"\"\"\n",
    "[DataProcess]\n",
    "InputFile=C:/WorkSpace/data/TC/Allstorms.ibtracs_wmo.v03r06.csv\n",
    "Source=IBTRACS\n",
    "StartSeason=1961\n",
    "FilterSeasons=True\n",
    "\n",
    "[Region]\n",
    "; Domain for windfield and hazard calculation\n",
    "gridLimit={'xMin':100.,'xMax':120.,'yMin':-20.0,'yMax':-5.0}\n",
    "gridSpace={'x':1.0,'y':1.0}\n",
    "gridInc={'x':1.0,'y':0.5}\n",
    "\n",
    "[TrackGenerator]\n",
    "NumSimulations=5000\n",
    "YearsPerSimulation=10\n",
    "SeasonSeed=68876543\n",
    "TrackSeed=334825\n",
    "TimeStep=1.0\n",
    "\n",
    "[Input]\n",
    "landmask = C:/WorkSpace/tcrm/input/landmask.nc\n",
    "mslpfile = C:/WorkSpace/data/MSLP/slp.day.ltm.nc\n",
    "datasets = IBTRACS,LTMSLP\n",
    "\n",
    "[Output]\n",
    "Path=C:/WorkSpace/data/TC/aus\n",
    "\n",
    "[Hazard]\n",
    "Years=2,5,10,20,25,50,100,200,250,500,1000,2000,2500,5000\n",
    "MinimumRecords=10\n",
    "CalculateCI=False\n",
    "\n",
    "[Logging]\n",
    "LogFile=C:/WorkSpace/data/TC/aus/log/aus.log\n",
    "LogLevel=INFO\n",
    "Verbose=False\n",
    "\n",
    "[IBTRACS]\n",
    "; Input data file settings\n",
    "url = ftp://eclipse.ncdc.noaa.gov/pub/ibtracs/v03r06/wmo/csv/Allstorms.ibtracs_wmo.v03r06.csv.gz\n",
    "path = C:/WorkSpace/data/TC/\n",
    "filename = Allstorms.ibtracs_wmo.v03r06.csv\n",
    "columns = tcserialno,season,num,skip,skip,skip,date,skip,lat,lon,skip,pressure\n",
    "fielddelimiter = ,\n",
    "numberofheadinglines = 3\n",
    "pressureunits = hPa\n",
    "lengthunits = km\n",
    "dateformat = %Y-%m-%d %H:%M:%S\n",
    "speedunits = kph\n",
    "\n",
    "[LTMSLP]\n",
    "; MSLP climatology file settings\n",
    "URL = ftp://ftp.cdc.noaa.gov/Datasets/ncep.reanalysis.derived/surface/slp.day.1981-2010.ltm.nc\n",
    "path = C:/WorkSpace/data/MSLP\n",
    "filename = slp.day.ltm.nc\"\"\"\n",
    "\n",
    "config = ConfigParser()\n",
    "config.readfp(io.BytesIO(configstr))"
   ]
  },
  {
   "cell_type": "code",
   "execution_count": 4,
   "metadata": {
    "collapsed": false
   },
   "outputs": [],
   "source": [
    "outputPath = config.get('Output', 'Path')\n",
    "processPath = pjoin(outputPath, 'process')\n",
    "\n",
    "\n",
    "fig, (ax1, ax2) = plt.subplots(1, 2, sharey=True)\n",
    "pRateData = flLoadFile(pjoin(processPath, 'pressure_rate'))\n",
    "pAllData = flLoadFile(pjoin(processPath, 'all_pressure'))\n",
    "bRateData = flLoadFile(pjoin(processPath, 'bearing_rate'))\n",
    "bAllData = flLoadFile(pjoin(processPath, 'all_bearing'))\n",
    "sRateData = flLoadFile(pjoin(processPath, 'speed_rate'))\n",
    "sAllData = flLoadFile(pjoin(processPath, 'all_speed'))\n",
    "\n",
    "d = pRateData.compress(pRateData < sys.maxint)\n",
    "m = np.average(d)\n",
    "sd = np.std(d)\n",
    "nd = (d-m)/sd\n",
    "\n",
    "\n",
    "ppn = sm.ProbPlot(nd, stats.norm)\n",
    "ppl = sm.ProbPlot(nd, stats.logistic)\n",
    "ppn.qqplot(xlabel=\"Model\", ylabel=\"Observations\", ax=ax1, line='45')\n",
    "ppl.qqplot(xlabel=\"Model\", ylabel=\"Observations\", ax=ax2, line='45')\n",
    "\n",
    "ax1.set_title(\"Normal distribution\")\n",
    "ax2.set_title(\"Logistic distribution\")\n",
    "\n",
    "ax2.set_xlim((-15, 15))\n",
    "ax1.set_xlim((-15, 15))\n",
    "fig.tight_layout()"
   ]
  },
  {
   "cell_type": "code",
   "execution_count": 5,
   "metadata": {
    "collapsed": false
   },
   "outputs": [],
   "source": [
    "d = bRateData.compress(bRateData < sys.maxint)\n",
    "m = np.average(d)\n",
    "sd = np.std(d)\n",
    "nd = (d-m)/sd\n",
    "\n",
    "fig, (ax1, ax2) = plt.subplots(1, 2, sharey=True)\n",
    "\n",
    "ppn = sm.ProbPlot(nd, stats.norm)\n",
    "ppl = sm.ProbPlot(nd, stats.logistic)\n",
    "ppn.qqplot(xlabel=\"Model\", ylabel=\"Observations\", ax=ax1, line='45')\n",
    "ppl.qqplot(xlabel=\"Model\", ylabel=\"Observations\", ax=ax2, line='45')\n",
    "\n",
    "ax1.set_title(\"Normal distribution\")\n",
    "ax2.set_title(\"Logistic distribution\")\n",
    "\n",
    "ax2.set_aspect('equal')\n",
    "ax1.set_aspect('equal')\n",
    "fig.tight_layout()"
   ]
  },
  {
   "cell_type": "code",
   "execution_count": 6,
   "metadata": {
    "collapsed": false
   },
   "outputs": [],
   "source": [
    "d = sRateData.compress(sRateData < sys.maxint)\n",
    "m = np.average(d)\n",
    "sd = np.std(d)\n",
    "nd = (d-m)/sd\n",
    "\n",
    "fig, (ax1, ax2) = plt.subplots(1, 2, sharey=True)\n",
    "\n",
    "ppn = sm.ProbPlot(nd, stats.norm)\n",
    "ppl = sm.ProbPlot(nd, stats.logistic)\n",
    "ppn.qqplot(xlabel=\"Model\", ylabel=\"Observations\", ax=ax1, line='45')\n",
    "ppl.qqplot(xlabel=\"Model\", ylabel=\"Observations\", ax=ax2, line='45')\n",
    "\n",
    "ax1.set_title(\"Normal distribution\")\n",
    "ax2.set_title(\"Logistic distribution\")\n",
    "\n",
    "ax2.set_aspect('equal')\n",
    "ax1.set_aspect('equal')\n",
    "fig.tight_layout()"
   ]
  },
  {
   "cell_type": "code",
   "execution_count": 7,
   "metadata": {
    "collapsed": false
   },
   "outputs": [],
   "source": [
    "gridLimit = config.geteval('Region', 'gridLimit')\n",
    "gridSpace = config.geteval('Region', 'gridSpace')\n",
    "gridInc = config.geteval('Region', 'gridInc')\n",
    "kdeType = 'Gaussian'\n",
    "\n",
    "ncells = maxCellNum(gridLimit, gridSpace)\n",
    "rows = int(np.ceil(np.sqrt(ncells)))\n",
    "cols = int(np.ceil(ncells / rows))\n",
    "fig, axes = plt.subplots(cols, rows, sharex=True, sharey=True)\n",
    "rvals = np.zeros(ncells)\n",
    "\n",
    "gd = GenerateDistributions(io.BytesIO(configstr), gridLimit, gridSpace, gridInc, kdeType)\n",
    "for n in xrange(0, ncells+1):\n",
    "    gd.allDistributions()\n",
    "    gd.extractParameter(n)\n",
    "    d = gd.parameter - np.mean(gd.parameter)\n",
    "    (osm, osr), (m, b, r)= stats.probplot(d, dist='norm', plot=axes[n])\n",
    "    rvals[n] = r\n",
    "    "
   ]
  },
  {
   "cell_type": "code",
   "execution_count": null,
   "metadata": {
    "collapsed": true
   },
   "outputs": [],
   "source": [
    "rvals.reshape(cols, rows)\n",
    "plt.pcolor(rvals)"
   ]
  }
 ],
 "metadata": {
  "kernelspec": {
   "display_name": "Python 2",
   "language": "python",
   "name": "python2"
  },
  "language_info": {
   "codemirror_mode": {
    "name": "ipython",
    "version": 2
   },
   "file_extension": ".py",
   "mimetype": "text/x-python",
   "name": "python",
   "nbconvert_exporter": "python",
   "pygments_lexer": "ipython2",
   "version": "2.7.3"
  }
 },
 "nbformat": 4,
 "nbformat_minor": 0
}
