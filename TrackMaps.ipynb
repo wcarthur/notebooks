{
 "cells": [
  {
   "cell_type": "markdown",
   "metadata": {},
   "source": [
    "Initial imports required. This assumes that the TCRM modules are included in the `PYTHONPATH` environment variable."
   ]
  },
  {
   "cell_type": "code",
   "execution_count": 1,
   "metadata": {
    "collapsed": false
   },
   "outputs": [],
   "source": [
    "%matplotlib inline\n",
    "import sys\n",
    "import numpy as np\n",
    "\n",
    "from matplotlib.collections import LineCollection\n",
    "from matplotlib.colors import BoundaryNorm, ListedColormap\n",
    "from matplotlib.cm import get_cmap\n",
    "\n",
    "from PlotInterface.maps import MapFigure, saveFigure\n",
    "import Utilities.shptools as shptools"
   ]
  },
  {
   "cell_type": "markdown",
   "metadata": {},
   "source": [
    "Define a simple function to convert the coordinates of TC points into line segments."
   ]
  },
  {
   "cell_type": "code",
   "execution_count": 2,
   "metadata": {
    "collapsed": false
   },
   "outputs": [],
   "source": [
    "def make_segments(x, y):\n",
    "    points = np.array([x,y]).T.reshape(-1, 1, 2)\n",
    "    segments = np.concatenate([points[:-1], points[1:]], axis=1)\n",
    "    return segments"
   ]
  },
  {
   "cell_type": "markdown",
   "metadata": {},
   "source": [
    "Subclass the `MapFigure` class to create a map for plotting the tracks onto. We add in a `colorline()` function to colour each segment according to the intensity (like we see with most TC spaghetti maps). "
   ]
  },
  {
   "cell_type": "code",
   "execution_count": 3,
   "metadata": {
    "collapsed": false
   },
   "outputs": [],
   "source": [
    "class TrackMapFigure(MapFigure):\n",
    "    def colorline(self, x, y, z=None, linewidth=1.0, alpha=1.0):\n",
    "        if z is None:\n",
    "            z = np.linspace(0.0, 1.0, len(x))\n",
    "\n",
    "        if not hasattr(z, '__iter__'):\n",
    "            z = np.array([z])\n",
    "\n",
    "        z = np.asarray(z)\n",
    "\n",
    "        segments = make_segments(x, y)\n",
    "        cmap = ListedColormap(['0.75', '#0FABF6', '#0000FF',\n",
    "                               '#00FF00', '#FF8100', '#ff0000'])\n",
    "        norm = BoundaryNorm([0, 17.5, 24.5, 32.5, 44.2, 55.5, 1000], cmap.N)\n",
    "        lc = LineCollection(segments, array=z, cmap=cmap, \n",
    "                            norm=norm, linewidth=linewidth, alpha=alpha)\n",
    "        \n",
    "        ax = self.gca()\n",
    "        ax.add_collection(lc)\n",
    "        return\n",
    "    \n",
    "    def add(self, tracks, xgrid, ygrid, title, map_kwargs):\n",
    "        self.subfigures.append((tracks, xgrid, ygrid, title, map_kwargs))\n",
    "        \n",
    "    def subplot(self, axes, subfigure):\n",
    "        tracks, xgrid, ygrid, title, map_kwargs = subfigure\n",
    "        mapobj, mx, my = self.createMap(axes, xgrid, ygrid, map_kwargs)\n",
    "\n",
    "        for track in tracks:\n",
    "            mlon, mlat = mapobj(track.Longitude, track.Latitude)\n",
    "            self.colorline(mlon, mlat, track.WindSpeed, \n",
    "                           linewidth=1, alpha=0.75)\n",
    "        axes.set_title(title)\n",
    "        self.labelAxes(axes)\n",
    "        self.addGraticule(axes, mapobj)\n",
    "        self.addCoastline(mapobj)\n",
    "        self.fillContinents(mapobj)\n",
    "        self.addMapScale(mapobj)\n"
   ]
  },
  {
   "cell_type": "markdown",
   "metadata": {},
   "source": [
    "Now subclass the `TrackMapFigure` to plot a single track dataset"
   ]
  },
  {
   "cell_type": "code",
   "execution_count": 4,
   "metadata": {
    "collapsed": false
   },
   "outputs": [],
   "source": [
    "class SingleTrackMap(TrackMapFigure):\n",
    "\n",
    "    def plot(self, tracks, xgrid, ygrid, title, map_kwargs):\n",
    "        self.add(tracks, xgrid, ygrid, title, map_kwargs)\n",
    "        super(SingleTrackMap, self).plot()\n",
    "\n",
    "\n",
    "def saveTrackMap(tracks, xgrid, ygrid, title, map_kwargs, filename):\n",
    "    fig = SingleTrackMap()\n",
    "    fig.plot(tracks, xgrid, ygrid, title, map_kwargs)\n",
    "    saveFigure(fig, filename)"
   ]
  },
  {
   "cell_type": "code",
   "execution_count": null,
   "metadata": {
    "collapsed": true
   },
   "outputs": [],
   "source": []
  }
 ],
 "metadata": {
  "kernelspec": {
   "display_name": "Python 2",
   "language": "python",
   "name": "python2"
  },
  "language_info": {
   "codemirror_mode": {
    "name": "ipython",
    "version": 2
   },
   "file_extension": ".py",
   "mimetype": "text/x-python",
   "name": "python",
   "nbconvert_exporter": "python",
   "pygments_lexer": "ipython2",
   "version": "2.7.3"
  }
 },
 "nbformat": 4,
 "nbformat_minor": 0
}
