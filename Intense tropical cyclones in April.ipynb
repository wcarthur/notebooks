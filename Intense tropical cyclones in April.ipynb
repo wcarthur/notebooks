{
 "cells": [
  {
   "cell_type": "code",
   "execution_count": 1,
   "metadata": {
    "collapsed": true
   },
   "outputs": [],
   "source": [
    "%matplotlib inline\n",
    "\n",
    "from __future__ import print_function\n",
    "\n",
    "import sys\n",
    "import numpy as np\n",
    "import pandas as pd\n",
    "\n",
    "from scipy.optimize import leastsq\n",
    "import scipy.stats as stats\n",
    "from scipy.stats import logistic as slogistic\n",
    "from scipy.stats import norm as snorm\n",
    "import io\n",
    "\n",
    "from matplotlib import pyplot as plt\n",
    "from matplotlib.cm import get_cmap\n",
    "from mpl_toolkits.basemap import Basemap\n",
    "\n",
    "import statsmodels.api as sm\n",
    "\n",
    "from Utilities.loadData import loadTrackFile\n",
    "from Utilities.config import ConfigParser\n",
    "from Utilities.track import Track\n",
    "\n",
    "import seaborn\n",
    "seaborn.set_context(\"poster\")\n",
    "seaborn.set_style(\"whitegrid\")"
   ]
  },
  {
   "cell_type": "code",
   "execution_count": 35,
   "metadata": {
    "collapsed": true
   },
   "outputs": [],
   "source": [
    "configstr = \"\"\"\n",
    "[DataProcess]\n",
    "InputFile=C:/WorkSpace/data/TC/Allstorms.ibtracs_wmo.v03r06.csv\n",
    "Source=IBTRACS\n",
    "StartSeason=1901\n",
    "FilterSeasons=True\n",
    "\n",
    "[Region]\n",
    "; Domain for windfield and hazard calculation\n",
    "gridLimit={'xMin':90.,'xMax':160.,'yMin':-30.0,'yMax':-5.0}\n",
    "gridSpace={'x':1.0,'y':1.0}\n",
    "gridInc={'x':1.0,'y':0.5}\n",
    "\n",
    "[Input]\n",
    "landmask = C:/WorkSpace/tcrm/input/landmask.nc\n",
    "mslpfile = C:/WorkSpace/data/MSLP/slp.day.ltm.nc\n",
    "datasets = IBTRACS,LTMSLP\n",
    "\n",
    "[IBTRACS]\n",
    "; Input data file settings\n",
    "url = ftp://eclipse.ncdc.noaa.gov/pub/ibtracs/v03r06/wmo/csv/Allstorms.ibtracs_wmo.v03r06.csv.gz\n",
    "path = C:/WorkSpace/data/TC/\n",
    "filename = C:/WorkSpace/data/TC/Allstorms.ibtracs_wmo.v03r06.csv\n",
    "columns = tcserialno,season,num,skip,skip,skip,date,skip,lat,lon,skip,pressure\n",
    "fielddelimiter = ,\n",
    "numberofheadinglines = 3\n",
    "pressureunits = hPa\n",
    "lengthunits = km\n",
    "dateformat = %Y-%m-%d %H:%M:%S\n",
    "speedunits = kph\n",
    "\n",
    "[LTMSLP]\n",
    "; MSLP climatology file settings\n",
    "URL = ftp://ftp.cdc.noaa.gov/Datasets/ncep.reanalysis.derived/surface/slp.day.1981-2010.ltm.nc\n",
    "path = C:/WorkSpace/data/MSLP\n",
    "filename = C:/WorkSpace/data/MSLP/slp.day.ltm.nc\n",
    "\"\"\""
   ]
  },
  {
   "cell_type": "code",
   "execution_count": 36,
   "metadata": {
    "collapsed": true
   },
   "outputs": [],
   "source": [
    "config = ConfigParser()\n",
    "config.readfp(io.BytesIO(configstr))"
   ]
  },
  {
   "cell_type": "code",
   "execution_count": 37,
   "metadata": {
    "collapsed": false
   },
   "outputs": [],
   "source": [
    "trackFile = config.get('DataProcess', 'InputFile')\n",
    "source = config.get('DataProcess', 'Source')\n",
    "\n",
    "print(\"Track file: {0}\".format(trackFile))\n",
    "print(\"Track format: {0}\".format(source))\n",
    "tracks = loadTrackFile(configstr, trackFile, source)\n",
    "print(\"There are {0:d} tracks in the input dataset\".format(len(tracks)))"
   ]
  },
  {
   "cell_type": "code",
   "execution_count": 38,
   "metadata": {
    "collapsed": true
   },
   "outputs": [],
   "source": [
    "domain = config.geteval('Region', 'gridLimit')\n",
    "mapkwargs = dict(llcrnrlon=domain['xMin'],\n",
    "                 llcrnrlat=domain['yMin'],\n",
    "                 urcrnrlon=domain['xMax'],\n",
    "                 urcrnrlat=domain['yMax'],\n",
    "                 resolution='c',\n",
    "                 projection='cyl')\n",
    "m = Basemap(**mapkwargs)"
   ]
  },
  {
   "cell_type": "code",
   "execution_count": 43,
   "metadata": {
    "collapsed": false
   },
   "outputs": [],
   "source": [
    "aprtracks = []\n",
    "minprs = []\n",
    "maxwind = []\n",
    "datetimes = []\n",
    "for n, track in enumerate(tracks):\n",
    "    if track.inRegion(domain):\n",
    "        if track.Month[0] == 4:\n",
    "            idx = np.where(track.CentralPressure==track.trackMinPressure)[0]\n",
    "            if track.Day[idx[0]] > 20:\n",
    "                aprtracks.append(track)\n",
    "                minprs.append(track.trackMinPressure)\n",
    "                maxwind.append(track.trackMaxWind)\n",
    "                datetimes.append(track.Datetime[idx[0]])\n",
    "            \n",
    "dts = [dt.strftime(\"%Y-%m-%d %H:%M:%S\") for dt in datetimes]"
   ]
  },
  {
   "cell_type": "code",
   "execution_count": 45,
   "metadata": {
    "collapsed": false
   },
   "outputs": [],
   "source": [
    "print(\"Total {0} storms with minimum central pressure after April 20\".format(len(dts)))\n",
    "\n",
    "for dt, prs in zip(dts, minprs):\n",
    "    print(\"{0}: {1} hPa\".format(dt, prs))\n",
    "    \n"
   ]
  },
  {
   "cell_type": "code",
   "execution_count": 47,
   "metadata": {
    "collapsed": false
   },
   "outputs": [],
   "source": [
    "from PlotInterface.tracks import saveTrackMap\n",
    "from IPython.display import Image\n",
    "startSeason = config.get(\"DataProcess\", \"StartSeason\")\n",
    "#fig = SingleTrackMap()\n",
    "xx = np.arange(domain['xMin'], domain['xMax']+0.1,0.1)\n",
    "yy = np.arange(domain['yMin'], domain['yMax']+0.1,0.1)\n",
    "\n",
    "[xgrid, ygrid] = np.meshgrid(xx,yy)\n",
    "title = \"April TCs - {0} - 2013\".format(startSeason)\n",
    "mapkwargs = dict(llcrnrlon=domain['xMin']-20,\n",
    "                     llcrnrlat=domain['yMin'],\n",
    "                     urcrnrlon=domain['xMax'],\n",
    "                     urcrnrlat=domain['yMax'],\n",
    "                     resolution='f',\n",
    "                     projection='merc')\n",
    "\n",
    "saveTrackMap(aprtracks, xgrid, ygrid, title, mapkwargs, \"tracks.png\")\n",
    "Image(\"tracks.png\")"
   ]
  },
  {
   "cell_type": "code",
   "execution_count": null,
   "metadata": {
    "collapsed": true
   },
   "outputs": [],
   "source": []
  },
  {
   "cell_type": "code",
   "execution_count": null,
   "metadata": {
    "collapsed": true
   },
   "outputs": [],
   "source": []
  }
 ],
 "metadata": {
  "kernelspec": {
   "display_name": "Python 2",
   "language": "python",
   "name": "python2"
  },
  "language_info": {
   "codemirror_mode": {
    "name": "ipython",
    "version": 2
   },
   "file_extension": ".py",
   "mimetype": "text/x-python",
   "name": "python",
   "nbconvert_exporter": "python",
   "pygments_lexer": "ipython2",
   "version": "2.7.3"
  }
 },
 "nbformat": 4,
 "nbformat_minor": 0
}
