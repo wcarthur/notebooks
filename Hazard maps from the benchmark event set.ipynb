{
 "cells": [
  {
   "cell_type": "markdown",
   "metadata": {},
   "source": [
    "This notebook accesses the most recent benchmark hazard output (as published on the NCI Data Collections)"
   ]
  },
  {
   "cell_type": "code",
   "execution_count": 1,
   "metadata": {
    "collapsed": false
   },
   "outputs": [],
   "source": [
    "%matplotlib inline\n",
    "from __future__ import print_function\n",
    "import numpy as np\n",
    "\n",
    "import Utilities.nctools as nctools\n",
    "import Utilities.metutils as metutils\n",
    "from Utilities.maputils import find_index\n",
    "\n",
    "from PlotInterface.maps import HazardMap, FilledContourMapFigure, saveFigure\n",
    "from matplotlib.backends.backend_nbagg import FigureCanvasNbAgg as FigureCanvas\n",
    "\n",
    "\n",
    "from IPython.html.widgets import interact, fixed\n",
    "from IPython.html import widgets\n",
    "from IPython.display import Image\n",
    "import seaborn as sns\n",
    "sns.set_context('talk')"
   ]
  },
  {
   "cell_type": "code",
   "execution_count": 2,
   "metadata": {
    "collapsed": true
   },
   "outputs": [],
   "source": [
    "class PlotUnits(object):\n",
    "\n",
    "    def __init__(self, units):\n",
    "        labels = {\n",
    "            'mps': 'm/s',\n",
    "            'm/s': 'm/s',\n",
    "            'mph': 'mi/h',\n",
    "            'kts': 'kts',\n",
    "            'kph': 'km/h',\n",
    "            'kmh': 'km/h'\n",
    "        }\n",
    "\n",
    "        levels = {\n",
    "            'mps': np.arange(30, 101., 5.),\n",
    "            'm/s': np.arange(30, 101., 5.),\n",
    "            'mph': np.arange(80, 221., 10.),\n",
    "            'kts': np.arange(60, 201., 10.),\n",
    "            'kph': np.arange(80, 361., 20.),\n",
    "            'kmh': np.arange(80, 361., 20.)\n",
    "        }\n",
    "\n",
    "        self.units = units\n",
    "        self.label = labels[units]\n",
    "        self.levels = levels[units]\n",
    "\n",
    "unit_opts = ['m/s', 'mph', 'kts', 'kmh']"
   ]
  },
  {
   "cell_type": "code",
   "execution_count": 4,
   "metadata": {
    "collapsed": false
   },
   "outputs": [],
   "source": [
    "url = \"http://dapds00.nci.org.au/thredds/dodsC/fj6/TCRM/benchmark/hazard/hazard.nc\"\n",
    "url = \"C:/WorkSpace/data/TC/tcpub/hazard/hazard.nc\"\n",
    "ncobj = nctools.ncLoadFile(url)\n",
    "lon = nctools.ncGetDims(ncobj, 'lon')[:]\n",
    "lat = nctools.ncGetDims(ncobj, 'lat')[:]\n",
    "yrs = nctools.ncGetDims(ncobj, 'years')[:]\n",
    "years = [str(int(y)) for y in yrs]\n",
    "wspd = nctools.ncGetVar(ncobj, 'wspd')\n",
    "wspdUnits = wspd.units\n",
    "\n",
    "try:\n",
    "    wLower  = nctools.ncGetVar(ncobj, 'wspdlower')\n",
    "    wUpper = nctools.ncGetVar(ncobj, 'wspdupper')\n",
    "    ciBounds = True\n",
    "except KeyError:\n",
    "    ciBounds = False"
   ]
  },
  {
   "cell_type": "markdown",
   "metadata": {},
   "source": [
    "Set the map configuration (extents, resolution, projection)."
   ]
  },
  {
   "cell_type": "code",
   "execution_count": 5,
   "metadata": {
    "collapsed": false
   },
   "outputs": [],
   "source": [
    "minLon = 100.#min(lon)\n",
    "maxLon = 160.#max(lon)\n",
    "minLat = -30.#min(lat)\n",
    "maxLat = -5.#max(lat)\n",
    "xlon, ylat = np.meshgrid(lon, lat)\n",
    "\n",
    "map_kwargs = dict(llcrnrlon=minLon, llcrnrlat=minLat, \n",
    "                  urcrnrlon=maxLon, urcrnrlat=maxLat,\n",
    "                  projection='merc', resolution='i')"
   ]
  },
  {
   "cell_type": "code",
   "execution_count": 16,
   "metadata": {
    "collapsed": false
   },
   "outputs": [],
   "source": [
    "def plot_map(year, units):\n",
    "    pU = PlotUnits(units)\n",
    "    idx = years.index(year)\n",
    "    data = wspd[idx, :, :]\n",
    "    fig = HazardMap()\n",
    "    title = \"{0}-year ARI wind speed\".format(year)\n",
    "    cbarlabel = \"Wind speed ({0})\".format(pU.label)\n",
    "    levels = pU.levels\n",
    "    #fig.add(metutils.convert(data, wspd.units, pU.units), \n",
    "    #         xlon, ylat, title, levels, cbarlabel, map_kwargs)\n",
    "    #fig.plot()\n",
    "    fig.plot(metutils.convert(data, wspd.units, pU.units), \n",
    "             xlon, ylat, title, levels, cbarlabel, map_kwargs)\n",
    "    return fig"
   ]
  },
  {
   "cell_type": "code",
   "execution_count": 17,
   "metadata": {
    "collapsed": false
   },
   "outputs": [],
   "source": [
    "fig = plot_map('500', 'mps')\n",
    "fig.set_size_inches(16, 8)\n",
    "canvas = FigureCanvas(fig)\n",
    "fig"
   ]
  },
  {
   "cell_type": "code",
   "execution_count": null,
   "metadata": {
    "collapsed": true
   },
   "outputs": [],
   "source": []
  },
  {
   "cell_type": "code",
   "execution_count": 7,
   "metadata": {
    "collapsed": false,
    "scrolled": true
   },
   "outputs": [],
   "source": [
    "interact(plot_map, \n",
    "         year=widgets.Dropdown(options=years, value=years[1], description=\"Recurrence interval\"),\n",
    "         units=widgets.Dropdown(options=unit_opts, value=unit_opts[0], description=\"Units\"))"
   ]
  },
  {
   "cell_type": "code",
   "execution_count": null,
   "metadata": {
    "collapsed": true
   },
   "outputs": [],
   "source": []
  }
 ],
 "metadata": {
  "kernelspec": {
   "display_name": "Python 2",
   "language": "python",
   "name": "python2"
  },
  "language_info": {
   "codemirror_mode": {
    "name": "ipython",
    "version": 2
   },
   "file_extension": ".py",
   "mimetype": "text/x-python",
   "name": "python",
   "nbconvert_exporter": "python",
   "pygments_lexer": "ipython2",
   "version": "2.7.3"
  }
 },
 "nbformat": 4,
 "nbformat_minor": 0
}
